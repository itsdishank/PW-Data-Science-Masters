{
 "cells": [
  {
   "cell_type": "markdown",
   "id": "1f7d8110-78e6-497d-94a2-ec36a5a7a557",
   "metadata": {},
   "source": [
    "### Q1. What are the characteristics of the tuples? Is tuple immutable? "
   ]
  },
  {
   "cell_type": "markdown",
   "id": "4ad4d47d-b891-41f9-9353-3f291060f884",
   "metadata": {},
   "source": [
    "the main characteristics of tuples are:\n",
    "\n",
    "1. Ordered collection of elements\n",
    "2. Immutable\n",
    "3. Heterogeneous elements\n",
    "4. Often used to group related data\n",
    "5. Can be used as a key in a dictionary and also can be stored in a set due to it's hashability.\n",
    "\n",
    "And yes, a tuple is immutable"
   ]
  },
  {
   "cell_type": "markdown",
   "id": "150c6708-ded8-4ec7-af04-7e5a67a45025",
   "metadata": {
    "tags": []
   },
   "source": [
    "### Q2. What are the two tuple methods in python? Give an example of each method. Give a reason why  tuples have only two in-built methods as compared to Lists. \n"
   ]
  },
  {
   "cell_type": "markdown",
   "id": "94f825e1-fa32-491f-a2d9-f850f7bff9d9",
   "metadata": {},
   "source": [
    "1. count()"
   ]
  },
  {
   "cell_type": "code",
   "execution_count": 32,
   "id": "759574a9-33d6-4f67-8901-69e415438211",
   "metadata": {},
   "outputs": [
    {
     "name": "stdout",
     "output_type": "stream",
     "text": [
      "2\n"
     ]
    }
   ],
   "source": [
    "t = (1, 2, 3, 2, 4)\n",
    "print(t.count(2))"
   ]
  },
  {
   "cell_type": "markdown",
   "id": "97e18e7f-9cd9-4924-9576-11436f4e4f34",
   "metadata": {},
   "source": [
    "2. index()"
   ]
  },
  {
   "cell_type": "code",
   "execution_count": 33,
   "id": "3150bf40-f3fa-4bde-bce0-04c194360b85",
   "metadata": {},
   "outputs": [
    {
     "name": "stdout",
     "output_type": "stream",
     "text": [
      "4\n"
     ]
    }
   ],
   "source": [
    "t = (1, 2, 3, 2, 4)\n",
    "print(t.index(4))"
   ]
  },
  {
   "cell_type": "markdown",
   "id": "d733b396-f0f8-4241-989b-9745ff6b03b1",
   "metadata": {},
   "source": [
    "Tuples have only two in-built methods compared to lists because they are designed to be simple and lightweight. Tuples are intended to be used for small, fixed-length collections of values that are used as keys in dictionaries, or for grouping related data. In contrast, lists are intended to be more versatile and have a wider range of built-in methods to support more complex operations."
   ]
  },
  {
   "cell_type": "markdown",
   "id": "02e8fb7c-75f6-45f5-a244-d9ee4f380ff3",
   "metadata": {},
   "source": [
    "### Q3.  Which collection datatypes in python do not allow duplicate items? Write a code using a set to remove  duplicates from the given list. \n",
    "List = [1, 1, 1, 2, 1, 3, 1, 4, 2, 1, 2, 2, 2, 3, 2, 4, 3, 1, 3, 2, 3, 3, 3, 4, 4, 1, 4, 2, 4, 3, 4, 4] "
   ]
  },
  {
   "cell_type": "markdown",
   "id": "4f59efbc-3da2-4bf9-bee0-d1b4a011093d",
   "metadata": {
    "jp-MarkdownHeadingCollapsed": true,
    "tags": []
   },
   "source": [
    "In Python, the set collection data type does not allow duplicate items. A set is an unordered collection of unique elements. When you add an element to a set, it automatically removes any duplicates."
   ]
  },
  {
   "cell_type": "code",
   "execution_count": 34,
   "id": "7d7646d2-11cb-4c91-a1be-df4bfa907020",
   "metadata": {},
   "outputs": [
    {
     "name": "stdout",
     "output_type": "stream",
     "text": [
      "[1, 2, 3, 4]\n"
     ]
    }
   ],
   "source": [
    "# list with duplicate elements\n",
    "my_list = [1, 1, 1, 2, 1, 3, 1, 4, 2, 1, 2, 2, 2, 3, 2, 4, 3, 1, 3, 2, 3, 3, 3, 4, 4, 1, 4, 2, 4, 3, 4, 4]\n",
    "\n",
    "# Convert the list to a set to remove duplicates\n",
    "new_set = set(my_list)\n",
    "\n",
    "# Convert the set back to a list\n",
    "unique_list = list(new_set)\n",
    "\n",
    "print(unique_list)  # Output: [1, 2, 3, 4]"
   ]
  },
  {
   "cell_type": "markdown",
   "id": "3266d919-47e2-4d17-8bf4-edc5390944e1",
   "metadata": {},
   "source": [
    "### Q4. Explain the difference between the union() and update() methods for a set. Give an example of  each method. "
   ]
  },
  {
   "cell_type": "markdown",
   "id": "c8244e13-d32c-4dc0-8fa2-acb7829d0c34",
   "metadata": {},
   "source": [
    "the union() method returns a new set that contains all elements from both sets without duplicates, while the update() method updates the original set with elements from another set and eliminates duplicates."
   ]
  },
  {
   "cell_type": "markdown",
   "id": "759403b2-a650-4d06-9ecb-b8097b5e5206",
   "metadata": {},
   "source": [
    "1. union()"
   ]
  },
  {
   "cell_type": "code",
   "execution_count": 35,
   "id": "023b4e76-e4b3-4ee5-bba9-ae107f7f6ee9",
   "metadata": {},
   "outputs": [
    {
     "name": "stdout",
     "output_type": "stream",
     "text": [
      "{1, 2, 3, 4, 5}\n"
     ]
    }
   ],
   "source": [
    "set1 = {1, 2, 3}\n",
    "set2 = {3, 4, 5}\n",
    "\n",
    "# Use the union method to combine the sets\n",
    "result = set1.union(set2)\n",
    "\n",
    "print(result)  # Output: {1, 2, 3, 4, 5}"
   ]
  },
  {
   "cell_type": "markdown",
   "id": "067525e2-b96a-4496-898a-a9229cc56f52",
   "metadata": {},
   "source": [
    "2. update()"
   ]
  },
  {
   "cell_type": "code",
   "execution_count": 36,
   "id": "f637cf22-db3f-4a2c-af63-ce6441d0f143",
   "metadata": {},
   "outputs": [
    {
     "name": "stdout",
     "output_type": "stream",
     "text": [
      "{1, 2, 3, 4, 5}\n"
     ]
    }
   ],
   "source": [
    "set1 = {1, 2, 3}\n",
    "set2 = {3, 4, 5}\n",
    "\n",
    "# Use the union method to combine the sets\n",
    "set1.update(set2)\n",
    "\n",
    "print(set1)  # Output: {1, 2, 3, 4, 5}"
   ]
  },
  {
   "cell_type": "markdown",
   "id": "9a599e24-610d-4bf6-bd7d-32587acac933",
   "metadata": {},
   "source": [
    "### Q5. What is a dictionary? Give an example. Also, state whether a dictionary is ordered or unordered. "
   ]
  },
  {
   "cell_type": "markdown",
   "id": "03b89faf-3f28-48a7-ae1a-63f91b299063",
   "metadata": {},
   "source": [
    "A dictionary in Python is a collection of key-value pairs, where each key maps to a unique value. Dictionaries are unordered, meaning that the items have no index and the order in which they were added is not preserved."
   ]
  },
  {
   "cell_type": "code",
   "execution_count": 37,
   "id": "b553ce4b-4e5e-4c55-8502-301aba7fdbef",
   "metadata": {},
   "outputs": [
    {
     "name": "stdout",
     "output_type": "stream",
     "text": [
      "Dishank\n",
      "{'name': 'Dishank', 'age': 22, 'country': 'India', 'occupation': 'Engineer'}\n"
     ]
    }
   ],
   "source": [
    "# Define a dictionary\n",
    "employee = {'name': 'Dishank', 'age': 22, 'country': 'India'}\n",
    "\n",
    "print(employee['name'])\n",
    "\n",
    "employee['occupation'] = 'Engineer'\n",
    "\n",
    "print(employee)"
   ]
  },
  {
   "cell_type": "markdown",
   "id": "76d4a94f-382d-4a96-99f0-82e5330196b1",
   "metadata": {},
   "source": [
    "### Q6. Can we create a nested dictionary? If so, please give an example by creating a simple one-level  nested dictionary. "
   ]
  },
  {
   "cell_type": "markdown",
   "id": "28b73832-ed47-4386-9c3b-c095f59fc165",
   "metadata": {},
   "source": [
    "Yes, you can create a nested dictionary in Python. A nested dictionary is a dictionary that contains another dictionary as one of its values.\n",
    "\n",
    "Here's an example of a simple one-level nested dictionary:"
   ]
  },
  {
   "cell_type": "code",
   "execution_count": 38,
   "id": "2f7e9853-85d1-401d-a317-60d2b6aef53b",
   "metadata": {},
   "outputs": [
    {
     "name": "stdout",
     "output_type": "stream",
     "text": [
      "{'name': 'Dishank', 'age': 22, 'salary': 50000, 'address': {'District': 'Mumbai Suburban', 'city': 'Mumbai', 'state': 'Maharashtra'}}\n",
      "{'District': 'Mumbai Suburban', 'city': 'Mumbai', 'state': 'Maharashtra'}\n",
      "Maharashtra\n"
     ]
    }
   ],
   "source": [
    "employee = {\n",
    "  'name': 'Dishank',\n",
    "  'age': 22,\n",
    "  'salary': 50000,\n",
    "  'address': {\n",
    "    'District': 'Mumbai Suburban',\n",
    "    'city': 'Mumbai',\n",
    "    'state': 'Maharashtra'\n",
    "  }\n",
    "}\n",
    "\n",
    "print(employee)\n",
    "print(employee[\"address\"])\n",
    "print(employee[\"address\"]['state'])"
   ]
  },
  {
   "cell_type": "markdown",
   "id": "89da4803-7b14-4f0e-b3ad-2d58573f9962",
   "metadata": {},
   "source": [
    "### Q7. Using setdefault() method, create key named topics in the given dictionary and also add the value of  the key as this list ['Python', 'Machine Learning’, 'Deep Learning'] \n",
    "dict1 = {'language' : 'Python', 'course': 'Data Science Masters'} \n"
   ]
  },
  {
   "cell_type": "markdown",
   "id": "2449c3c3-1383-4161-8492-cd0cf6bbf0ca",
   "metadata": {},
   "source": [
    "The setdefault() method in a dictionary is used to set a default value for a key if the key does not exist in the dictionary, and you can use it to add a new key-value pair to the dictionary."
   ]
  },
  {
   "cell_type": "code",
   "execution_count": 39,
   "id": "4ec56299-ff27-4044-976b-bdb23636c735",
   "metadata": {},
   "outputs": [
    {
     "name": "stdout",
     "output_type": "stream",
     "text": [
      "{'language': 'Python', 'course': 'Data Science Masters', 'topics': ['Python', 'Machine Learning', 'Deep Learning']}\n"
     ]
    }
   ],
   "source": [
    "dict1 = {'language' : 'Python', 'course': 'Data Science Masters'}\n",
    "\n",
    "dict1.setdefault('topics', ['Python', 'Machine Learning', 'Deep Learning'])\n",
    "\n",
    "print(dict1)"
   ]
  },
  {
   "cell_type": "markdown",
   "id": "492a66f7-dab8-43c9-b0f8-200089e7b6bd",
   "metadata": {},
   "source": [
    "### Q8. What are the three view objects in dictionaries? Use the three in-built methods in python to display  these three view objects for the given dictionary. \n",
    "dict1 = {'Sport': 'Cricket' , 'Teams': ['India', 'Australia', 'England', 'South Africa', 'Sri Lanka', 'New Zealand']} \n"
   ]
  },
  {
   "cell_type": "markdown",
   "id": "6f7ea89d-d530-4921-97cf-4bab439879d9",
   "metadata": {},
   "source": [
    "1. keys() - Returns a view object that displays a list of all the keys in the dictionary.\n",
    "2. values() - Returns a view object that displays a list of all the values in the dictionary.\n",
    "3. items() - Returns a view object that displays a list of all the key-value pairs in the dictionary."
   ]
  },
  {
   "cell_type": "code",
   "execution_count": 40,
   "id": "7d70758d-215f-4d6d-8e28-de5f473d71af",
   "metadata": {},
   "outputs": [
    {
     "name": "stdout",
     "output_type": "stream",
     "text": [
      "Keys View Object: dict_keys(['Sport', 'Teams'])\n",
      "Values View Object: dict_values(['Football', ['Manchester United', 'Chelsea', 'Liverpool', 'Arsenal']])\n",
      "Items View Object: dict_items([('Sport', 'Football'), ('Teams', ['Manchester United', 'Chelsea', 'Liverpool', 'Arsenal'])])\n"
     ]
    }
   ],
   "source": [
    "dict1 = {'Sport': 'Football' , 'Teams': ['Manchester United', 'Chelsea', 'Liverpool', 'Arsenal']}\n",
    "\n",
    "print(\"Keys View Object:\", dict1.keys())\n",
    "print(\"Values View Object:\", dict1.values())\n",
    "print(\"Items View Object:\", dict1.items())\n"
   ]
  }
 ],
 "metadata": {
  "kernelspec": {
   "display_name": "Python 3 (ipykernel)",
   "language": "python",
   "name": "python3"
  },
  "language_info": {
   "codemirror_mode": {
    "name": "ipython",
    "version": 3
   },
   "file_extension": ".py",
   "mimetype": "text/x-python",
   "name": "python",
   "nbconvert_exporter": "python",
   "pygments_lexer": "ipython3",
   "version": "3.10.8"
  }
 },
 "nbformat": 4,
 "nbformat_minor": 5
}
