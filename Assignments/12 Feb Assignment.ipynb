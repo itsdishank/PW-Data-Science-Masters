{
 "cells": [
  {
   "cell_type": "markdown",
   "id": "a5a0b440-d010-4f20-bfb9-951893ba9007",
   "metadata": {},
   "source": [
    "### Q1. What is an Exception in python? Write the difference between Exceptions and Syntax errors."
   ]
  },
  {
   "cell_type": "markdown",
   "id": "561b19c2-4fed-4e7c-9083-6ce3cb5f43a0",
   "metadata": {},
   "source": [
    "An Exception in Python is an event that occurs during the execution of a program that disrupts the normal flow of the program's instructions.\n",
    "\n",
    "Syntax errors, on the other hand, are errors that occur when the syntax of the code does not follow the rules of the language. They are detected by the Python interpreter before the program is executed, and they prevent the program from running at all.\n",
    "\n",
    "The main difference between Exceptions and Syntax errors is that Syntax errors occur during the compilation phase of the program, while Exceptions occur during the execution phase of the program."
   ]
  },
  {
   "cell_type": "markdown",
   "id": "ed36c9aa-74cb-4f7c-8ee0-b24379002753",
   "metadata": {},
   "source": [
    "### Q2. What happens when an exception is not handled? Explain with an example."
   ]
  },
  {
   "cell_type": "markdown",
   "id": "5570e7dc-26e4-4bcd-a3a2-34081dc12650",
   "metadata": {},
   "source": [
    "When an exception is not handled, it results in an error message being displayed, and the program may terminate abruptly. This error message includes a traceback that shows the sequence of calls that led to the exception. The purpose of this message is to provide information that can help the programmer diagnose and fix the problem that caused the exception.\n",
    "\n",
    "Here's an example:"
   ]
  },
  {
   "cell_type": "code",
   "execution_count": 24,
   "id": "14df0749-42ac-48e4-8119-d0fa7854f382",
   "metadata": {},
   "outputs": [
    {
     "ename": "ZeroDivisionError",
     "evalue": "division by zero",
     "output_type": "error",
     "traceback": [
      "\u001b[0;31m---------------------------------------------------------------------------\u001b[0m",
      "\u001b[0;31mZeroDivisionError\u001b[0m                         Traceback (most recent call last)",
      "Cell \u001b[0;32mIn[24], line 2\u001b[0m\n\u001b[1;32m      1\u001b[0m \u001b[38;5;28;01mtry\u001b[39;00m:\n\u001b[0;32m----> 2\u001b[0m     x \u001b[38;5;241m=\u001b[39m \u001b[38;5;241;43m1\u001b[39;49m\u001b[43m \u001b[49m\u001b[38;5;241;43m/\u001b[39;49m\u001b[43m \u001b[49m\u001b[38;5;241;43m0\u001b[39;49m\n\u001b[1;32m      3\u001b[0m \u001b[38;5;28;01mexcept\u001b[39;00m \u001b[38;5;167;01mValueError\u001b[39;00m:\n\u001b[1;32m      4\u001b[0m     \u001b[38;5;28mprint\u001b[39m(\u001b[38;5;124m\"\u001b[39m\u001b[38;5;124mThis is a ValueError\u001b[39m\u001b[38;5;124m\"\u001b[39m)\n",
      "\u001b[0;31mZeroDivisionError\u001b[0m: division by zero"
     ]
    }
   ],
   "source": [
    "try:\n",
    "    x = 1 / 0\n",
    "except ValueError:\n",
    "    print(\"This is a ValueError\")"
   ]
  },
  {
   "cell_type": "markdown",
   "id": "ce6c7ff1-37b8-45ef-b066-4230c48a66ba",
   "metadata": {},
   "source": [
    "### Q3. Which Python statements are used to catch and handle exceptions? Explain with an example."
   ]
  },
  {
   "cell_type": "markdown",
   "id": "184916e1-4ef4-4b0f-a7eb-17aa63cac7bf",
   "metadata": {},
   "source": [
    "The try and except statements are used in Python to catch and handle exceptions."
   ]
  },
  {
   "cell_type": "code",
   "execution_count": 26,
   "id": "0aa31e14-7772-45a4-8632-c2a8db49f93f",
   "metadata": {},
   "outputs": [
    {
     "name": "stdin",
     "output_type": "stream",
     "text": [
      "Enter a number:  0\n"
     ]
    },
    {
     "name": "stdout",
     "output_type": "stream",
     "text": [
      "Cannot divide by zero\n"
     ]
    }
   ],
   "source": [
    "try:\n",
    "    x = int(input(\"Enter a number: \"))\n",
    "    y = 10 / x\n",
    "    print(y)\n",
    "except ValueError:\n",
    "    print(\"Invalid input\")\n",
    "except ZeroDivisionError:\n",
    "    print(\"Cannot divide by zero\")"
   ]
  },
  {
   "cell_type": "markdown",
   "id": "cf2b2f0f-cdc5-46a7-bdf4-ec3300eca096",
   "metadata": {},
   "source": [
    "In the above example if the user enters a non-numeric value, a ValueError will be raised and the code in the first except block will be executed, printing \"Invalid input\". If the user enters zero, a ZeroDivisionError will be raised, and the code in the second except block will be executed, printing \"Cannot divide by zero\". If no exception is raised, the code after the try-except block will continue to execute normally."
   ]
  },
  {
   "cell_type": "markdown",
   "id": "9d7ce350-4346-446f-9c23-fa79298e682b",
   "metadata": {},
   "source": [
    "### Q4. Explain with an example: \n",
    "a. try and else\n",
    "\n",
    "b. finally\n",
    "\n",
    "c. raise "
   ]
  },
  {
   "cell_type": "markdown",
   "id": "653b9910-4493-43e4-8629-d09710922e04",
   "metadata": {},
   "source": [
    "1. try and else:\n",
    "\n",
    "\tThe else block can be used after a try block to execute some code only if no exception was raised in the try block. Here is an example:"
   ]
  },
  {
   "cell_type": "code",
   "execution_count": 27,
   "id": "5d7893d9-f09c-4900-b225-1c400ae78a25",
   "metadata": {},
   "outputs": [
    {
     "name": "stdin",
     "output_type": "stream",
     "text": [
      "Enter a number:  1\n"
     ]
    },
    {
     "name": "stdout",
     "output_type": "stream",
     "text": [
      "The result is: 10.0\n"
     ]
    }
   ],
   "source": [
    "try:\n",
    "    x = int(input(\"Enter a number: \"))\n",
    "    y = 10 / x\n",
    "except ValueError:\n",
    "    print(\"Invalid input\")\n",
    "else:\n",
    "    print(\"The result is:\", y)"
   ]
  },
  {
   "cell_type": "markdown",
   "id": "321ba734-f5f2-427e-a59c-5f654c5d5c91",
   "metadata": {},
   "source": [
    "2. finally:\n",
    "\n",
    "\tThe finally block is used to specify code that will be executed regardless of whether an exception was raised in the preceding try block. Here is an example:"
   ]
  },
  {
   "cell_type": "code",
   "execution_count": 7,
   "id": "12a5aa17-f14c-47f1-ac71-c8bdbe959b49",
   "metadata": {},
   "outputs": [
    {
     "name": "stdin",
     "output_type": "stream",
     "text": [
      "Enter a number:  $\n"
     ]
    },
    {
     "name": "stdout",
     "output_type": "stream",
     "text": [
      "Invalid input\n",
      "Thanks for using the program!\n"
     ]
    }
   ],
   "source": [
    "try:\n",
    "    x = int(input(\"Enter a number: \"))\n",
    "    y = 10 / x\n",
    "except ValueError:\n",
    "    print(\"Invalid input\")\n",
    "else:\n",
    "    print(\"The result is:\", y)\n",
    "finally:\n",
    "    print(\"Thanks for using the program!\")"
   ]
  },
  {
   "cell_type": "markdown",
   "id": "49ac44a0-51b0-4304-832a-a38ebd276323",
   "metadata": {},
   "source": [
    "3. raise:\n",
    "    \n",
    "\tThe raise statement is used to raise an exception in Python. Here is an example:"
   ]
  },
  {
   "cell_type": "code",
   "execution_count": 11,
   "id": "e48e9db1-0451-4eb9-8d6b-0fc65ef275d4",
   "metadata": {},
   "outputs": [
    {
     "name": "stdin",
     "output_type": "stream",
     "text": [
      "Enter a positive number:  -2\n"
     ]
    },
    {
     "ename": "ValueError",
     "evalue": "Number must be positive",
     "output_type": "error",
     "traceback": [
      "\u001b[0;31m---------------------------------------------------------------------------\u001b[0m",
      "\u001b[0;31mValueError\u001b[0m                                Traceback (most recent call last)",
      "Cell \u001b[0;32mIn[11], line 3\u001b[0m\n\u001b[1;32m      1\u001b[0m x \u001b[38;5;241m=\u001b[39m \u001b[38;5;28minput\u001b[39m(\u001b[38;5;124m\"\u001b[39m\u001b[38;5;124mEnter a positive number: \u001b[39m\u001b[38;5;124m\"\u001b[39m)\n\u001b[1;32m      2\u001b[0m \u001b[38;5;28;01mif\u001b[39;00m \u001b[38;5;28mint\u001b[39m(x) \u001b[38;5;241m<\u001b[39m \u001b[38;5;241m0\u001b[39m:\n\u001b[0;32m----> 3\u001b[0m     \u001b[38;5;28;01mraise\u001b[39;00m \u001b[38;5;167;01mValueError\u001b[39;00m(\u001b[38;5;124m\"\u001b[39m\u001b[38;5;124mNumber must be positive\u001b[39m\u001b[38;5;124m\"\u001b[39m)\n",
      "\u001b[0;31mValueError\u001b[0m: Number must be positive"
     ]
    }
   ],
   "source": [
    "x = input(\"Enter a positive number: \")\n",
    "if int(x) < 0:\n",
    "    raise ValueError(\"Number must be positive\")"
   ]
  },
  {
   "cell_type": "markdown",
   "id": "a6b458c0-4a73-4223-b2a8-f8674c684f74",
   "metadata": {},
   "source": [
    "### Q5. What are Custom Exceptions in python? Why do we need Custom Exceptions? Explain with an example. "
   ]
  },
  {
   "cell_type": "markdown",
   "id": "87efb72f-b2a8-490c-84c7-09b258d5f7e2",
   "metadata": {},
   "source": [
    "Custom exceptions in Python are user-defined exceptions that can be created to handle specific error cases that are not covered by the built-in exceptions.\n",
    "\n",
    "We may need custom exceptions in Python when we want to raise an exception for a specific error that is not covered by the built-in exceptions. By creating a custom exception, we can provide more specific information about the error that occurred and make it easier for the user to understand and fix the problem."
   ]
  },
  {
   "cell_type": "code",
   "execution_count": 28,
   "id": "6b7ad40a-2614-41c0-8978-e1791bdd4317",
   "metadata": {},
   "outputs": [
    {
     "name": "stdin",
     "output_type": "stream",
     "text": [
      " -9\n"
     ]
    },
    {
     "name": "stdout",
     "output_type": "stream",
     "text": [
      "Cannot calculate square root of negative number\n"
     ]
    }
   ],
   "source": [
    "class NegativeNumberException(Exception):\n",
    "    pass\n",
    "\n",
    "def calculate_square_root(x):\n",
    "    if x < 0:\n",
    "        raise NegativeNumberException(\"Cannot calculate square root of negative number\")\n",
    "    return x ** 0.5\n",
    "\n",
    "try:\n",
    "    result = calculate_square_root(int(input()))\n",
    "except NegativeNumberException as e:\n",
    "    print(e)\n",
    "else:\n",
    "    print(result)"
   ]
  },
  {
   "cell_type": "markdown",
   "id": "4bd67f37-dad9-4f85-9360-fa8fb8b64ebd",
   "metadata": {},
   "source": [
    "### Q6. Create a custom exception class. Use this class to handle an exception. "
   ]
  },
  {
   "cell_type": "code",
   "execution_count": 21,
   "id": "2b51e738-6869-44a9-8067-1a12456eaba2",
   "metadata": {},
   "outputs": [
    {
     "name": "stdin",
     "output_type": "stream",
     "text": [
      " 0\n"
     ]
    },
    {
     "name": "stdout",
     "output_type": "stream",
     "text": [
      "Cannot divide by zero\n"
     ]
    }
   ],
   "source": [
    "class CustomException(Exception):\n",
    "    pass\n",
    "\n",
    "def some_function(x):\n",
    "    if x == 0:\n",
    "        raise CustomException(\"Cannot divide by zero\")\n",
    "    return 10 / x\n",
    "\n",
    "try:\n",
    "    result = some_function(int(input()))\n",
    "except CustomException as e:\n",
    "    print(e)\n",
    "else:\n",
    "    print(result)"
   ]
  }
 ],
 "metadata": {
  "kernelspec": {
   "display_name": "Python 3 (ipykernel)",
   "language": "python",
   "name": "python3"
  },
  "language_info": {
   "codemirror_mode": {
    "name": "ipython",
    "version": 3
   },
   "file_extension": ".py",
   "mimetype": "text/x-python",
   "name": "python",
   "nbconvert_exporter": "python",
   "pygments_lexer": "ipython3",
   "version": "3.10.8"
  }
 },
 "nbformat": 4,
 "nbformat_minor": 5
}
