{
 "cells": [
  {
   "cell_type": "markdown",
   "id": "6ab3d70d-9679-43d3-99ed-463b7c3c3ad9",
   "metadata": {},
   "source": [
    "### Q1. What is the Probability density function?"
   ]
  },
  {
   "cell_type": "markdown",
   "id": "d684cc2f-e846-4466-896a-d7350bdefea1",
   "metadata": {},
   "source": [
    "The probability density function (PDF) is a function that describes the relative likelihood of a continuous random variable taking on a particular value. Specifically, it is the derivative of the cumulative distribution function (CDF) of the random variable. The PDF represents the probability of a random variable taking on a value within a particular range, and is often represented graphically as a curve. The area under the curve represents the probability of the random variable falling within a certain interval."
   ]
  },
  {
   "cell_type": "markdown",
   "id": "d19bba7d-00b8-4bfa-846d-95928cbb3e46",
   "metadata": {},
   "source": [
    "### Q2. What are the types of Probability distribution?"
   ]
  },
  {
   "cell_type": "markdown",
   "id": "80e76cf5-dad3-4f52-a694-3974b81828ae",
   "metadata": {},
   "source": [
    "1. Bernoulli distribution: A distribution that models a single binary outcome, such as success or failure.\n",
    "2. Binomial distribution: A distribution that models the number of successes in a fixed number of independent trials, each with the same probability of success.\n",
    "3. Poisson distribution: A distribution that models the number of occurrences of a rare event in a fixed amount of time or space.\n",
    "4. Normal distribution: A distribution that is symmetric and bell-shaped, and is used to model a wide range of natural phenomena.\n",
    "5. Exponential distribution: A distribution that models the time between events occurring randomly and independently over time.\n",
    "6. Uniform distribution: A distribution that models outcomes that are equally likely within a given range."
   ]
  },
  {
   "cell_type": "markdown",
   "id": "e0271157-828f-4bda-8a86-bf96bbcfca09",
   "metadata": {},
   "source": [
    "### Q3. Write a Python function to calculate the probability density function of a normal distribution with given mean and standard deviation at a given point.\n"
   ]
  },
  {
   "cell_type": "code",
   "execution_count": 1,
   "id": "f6f1f227-3ef8-4697-bf3c-84291d4552c2",
   "metadata": {},
   "outputs": [],
   "source": [
    "from scipy.stats import norm\n",
    "\n",
    "def normal_pdf(x, mean, std_dev):\n",
    "    return norm.pdf(x, loc=mean, scale=std_dev)"
   ]
  },
  {
   "cell_type": "markdown",
   "id": "88b0ecf1-4126-416a-b293-998b8c4356c1",
   "metadata": {},
   "source": [
    "### Q4. What are the properties of Binomial distribution? Give two examples of events where binomial distribution can be applied."
   ]
  },
  {
   "cell_type": "markdown",
   "id": "c900f60e-fab6-4b6a-b5f5-ad986a2666e7",
   "metadata": {},
   "source": [
    "Some properties of the binomial distribution include:\n",
    "1. The trials are independent: The outcome of each trial does not affect the outcome of the other trials.\n",
    "2. There are only two possible outcomes: Success or failure.\n",
    "3. The probability of success is constant across all trials.\n",
    "4. The number of trials is fixed.\n",
    "5. The random variable of interest is the number of successes in the fixed number of trials.\n",
    "\n",
    "Some examples of events that can be modeled using the binomial distribution include:\n",
    "\n",
    "Flipping a coin multiple times: Each flip is independent, there are only two possible outcomes (heads or tails), and the probability of getting heads is constant (0.5) across all flips.\n",
    "\n",
    "Testing a drug on a population: Each person in the population is either a success (the drug works) or a failure (the drug does not work). The probability of success is constant across all people, and the number of people in the population is fixed."
   ]
  },
  {
   "cell_type": "markdown",
   "id": "fdb1b1e9-847a-48d1-b584-5908681f3df4",
   "metadata": {},
   "source": [
    "### Q5. Generate a random sample of size 1000 from a binomial distribution with probability of success 0.4 and plot a histogram of the results using matplotlib."
   ]
  },
  {
   "cell_type": "code",
   "execution_count": 8,
   "id": "1953e80b-cca7-45a0-a4f9-61f9d003d375",
   "metadata": {},
   "outputs": [
    {
     "data": {
      "image/png": "[encoded data removed]",
      "text/plain": [
       "<Figure size 640x480 with 1 Axes>"
      ]
     },
     "metadata": {},
     "output_type": "display_data"
    }
   ],
   "source": [
    "import numpy as np\n",
    "import matplotlib.pyplot as plt\n",
    "\n",
    "# Generate a random sample of size 1000 from a binomial distribution with probability of success 0.4\n",
    "n = 1000\n",
    "p = 0.4\n",
    "sample = np.random.binomial(n, p, size=1000)\n",
    "\n",
    "plt.hist(sample, bins=25)\n",
    "plt.title('Histogram of Random Sample from Binomial Distribution')\n",
    "plt.xlabel('Number of Successes')\n",
    "plt.ylabel('Frequency')\n",
    "plt.show()\n"
   ]
  },
  {
   "cell_type": "markdown",
   "id": "4eabaf30-de1d-42e0-b7f6-10e95208fada",
   "metadata": {},
   "source": [
    "### Q6. Write a Python function to calculate the cumulative distribution function of a Poisson distribution with given mean at a given point."
   ]
  },
  {
   "cell_type": "code",
   "execution_count": 11,
   "id": "7f126041-de06-410d-aa91-ebb17199be0a",
   "metadata": {},
   "outputs": [],
   "source": [
    "from scipy.stats import poisson\n",
    "\n",
    "def poisson_cdf(mean, point):\n",
    "    return poisson.cdf(point, mu=mean)"
   ]
  },
  {
   "cell_type": "markdown",
   "id": "97ce3c57-abf7-422f-b8d7-e9d4c4a56d96",
   "metadata": {},
   "source": [
    "### Q7. How Binomial distribution different from Poisson distribution?"
   ]
  },
  {
   "cell_type": "markdown",
   "id": "edc98c62-0431-499e-879e-02afae9eb780",
   "metadata": {},
   "source": [
    "Binomial and Poisson distributions are both discrete probability distributions, but they are used in different contexts and have different properties.\n",
    "\n",
    "The main differences between binomial and Poisson distributions are:\n",
    "\n",
    "Number of trials: A binomial distribution represents the number of successes in a fixed number of independent trials, whereas a Poisson distribution represents the number of events in a fixed interval of time or space.\n",
    "\n",
    "Probability of success: In a binomial distribution, the probability of success is constant for each trial, whereas in a Poisson distribution, the probability of an event occurring is assumed to be constant across time or space.\n",
    "\n",
    "Shape of distribution: A binomial distribution is bell-shaped and symmetrical when the number of trials is large, whereas a Poisson distribution is positively skewed.\n",
    "\n",
    "Mean and variance: The mean and variance of a binomial distribution are equal to n * p, where n is the number of trials and p is the probability of success. The mean and variance of a Poisson distribution are equal to lambda, which is the average number of events in the fixed interval.\n",
    "\n",
    "Applicability: A binomial distribution is applicable when there are a fixed number of independent trials, each with a constant probability of success. A Poisson distribution is applicable when events occur randomly and independently in a fixed interval, and the average rate of occurrence is known."
   ]
  },
  {
   "cell_type": "markdown",
   "id": "22675e36-75ce-4608-883c-df49b10e5128",
   "metadata": {},
   "source": [
    "### Q8. Generate a random sample of size 1000 from a Poisson distribution with mean 5 and calculate the sample mean and variance."
   ]
  },
  {
   "cell_type": "code",
   "execution_count": 30,
   "id": "a5cecdfc-20eb-473e-a28f-c485ec5175dc",
   "metadata": {},
   "outputs": [
    {
     "name": "stdout",
     "output_type": "stream",
     "text": [
      "Sample Mean: 4.983\n",
      "Sample Variance: 5.296710999999999\n"
     ]
    }
   ],
   "source": [
    "import numpy as np\n",
    "\n",
    "sample = np.random.poisson(lam=5, size=1000)\n",
    "\n",
    "mean = np.mean(sample)\n",
    "variance = np.var(sample)\n",
    "\n",
    "print(\"Sample Mean:\", mean)\n",
    "print(\"Sample Variance:\", variance)"
   ]
  },
  {
   "cell_type": "markdown",
   "id": "4855f3d2-1bcd-434c-9aab-82ba3615e8b1",
   "metadata": {},
   "source": [
    "### Q9. How mean and variance are related in Binomial distribution and Poisson distribution?"
   ]
  },
  {
   "cell_type": "markdown",
   "id": "0bd609c7-adde-42c9-ac06-63916c26d8f3",
   "metadata": {},
   "source": [
    "In a binomial distribution, the mean is equal to the product of the number of trials and the probability of success in each trial (n * p), while the variance is equal to the product of the number of trials, the probability of success, and the probability of failure (n * p * q), where q is the probability of failure.\n",
    "\n",
    "In a Poisson distribution, both the mean and variance are equal to λ, the rate parameter of the distribution.\n",
    "\n",
    "Therefore, the mean and variance are directly related in both distributions, but the specific relationship differs between the two. In a binomial distribution, the variance is proportional to the probability of failure, while in a Poisson distribution, the mean and variance are equal."
   ]
  },
  {
   "cell_type": "markdown",
   "id": "5476a545-32d5-43a7-86e4-36a85ac21556",
   "metadata": {},
   "source": [
    "### Q10. In normal distribution with respect to mean position, where does the least frequent data appear?"
   ]
  },
  {
   "cell_type": "markdown",
   "id": "cc15d799-84c9-42be-bc2d-c26a15aac95c",
   "metadata": {},
   "source": [
    "In a normal distribution, the mean is also the point of highest frequency, and the distribution is symmetric around the mean. The least frequent data, therefore, appears at the tails of the distribution, which are farthest away from the mean. As we move further away from the mean in either direction, the frequency of the data points decreases gradually until it approaches zero at the tails of the distribution."
   ]
  },
  {
   "cell_type": "markdown",
   "id": "a2f8de08-7ade-4a75-8a92-b54c360ea09d",
   "metadata": {},
   "source": [
    "### "
   ]
  },
  {
   "cell_type": "markdown",
   "id": "761d019b-5f0c-4630-8bb4-ac4c576d5cb1",
   "metadata": {
    "tags": []
   },
   "source": [
    "### "
   ]
  }
 ],
 "metadata": {
  "kernelspec": {
   "display_name": "Python 3 (ipykernel)",
   "language": "python",
   "name": "python3"
  },
  "language_info": {
   "codemirror_mode": {
    "name": "ipython",
    "version": 3
   },
   "file_extension": ".py",
   "mimetype": "text/x-python",
   "name": "python",
   "nbconvert_exporter": "python",
   "pygments_lexer": "ipython3",
   "version": "3.10.8"
  }
 },
 "nbformat": 4,
 "nbformat_minor": 5
}
