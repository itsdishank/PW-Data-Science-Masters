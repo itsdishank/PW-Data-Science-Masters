{
 "cells": [
  {
   "cell_type": "markdown",
   "id": "2d88864e-ba0a-46df-b621-20afd083d93d",
   "metadata": {},
   "source": [
    "### Q1. You are writing code for a company. The requirement of the company is that you create a python  function that will check whether the password entered by the user is correct or not. The function should  take the password as input and return the string “Valid Password” if the entered password follows the  below-given password guidelines else it should return “Invalid Password”. \n",
    "Note: \n",
    "1. The Password should contain at least two uppercase letters and at least two lowercase letters.\n",
    "2. The Password should contain at least a number and three special characters. \n",
    "3. The length of the password should be 10 characters long. \n"
   ]
  },
  {
   "cell_type": "code",
   "execution_count": 42,
   "id": "4851f257-a628-40ae-8a36-00371d95519a",
   "metadata": {},
   "outputs": [],
   "source": [
    "def check_pw(pw):\n",
    "    invalid = \"Invalid Password\"\n",
    "    valid = \"Valid Password\"\n",
    "    if len(pw) != 10:\n",
    "        return invalid\n",
    "    else:\n",
    "        hasUpper = False\n",
    "        hasNumber = False\n",
    "        hasSpecialChr = False\n",
    "        hasUpper = False\n",
    "        special_characters = set(\"!@#$%^&*()_+-=[]{};:,.<>/?`~\")\n",
    "        spec_count = 0\n",
    "        upper_count = 0\n",
    "        lower_count = 0\n",
    "        num_count = 0\n",
    "        for i in pw:\n",
    "            if i in special_characters:\n",
    "                spec_count+=1\n",
    "            elif i.isupper():\n",
    "                upper_count+=1\n",
    "            elif i.islower():\n",
    "                lower_count+=1\n",
    "            elif i.isnumeric():\n",
    "                num_count+=1\n",
    "        if upper_count >= 2 and lower_count >=2 and num_count >= 1 and spec_count >= 3:\n",
    "            return valid\n",
    "        else:\n",
    "            return invalid                "
   ]
  },
  {
   "cell_type": "code",
   "execution_count": 43,
   "id": "88fef792-3646-421c-b275-4cec511de316",
   "metadata": {},
   "outputs": [
    {
     "name": "stdout",
     "output_type": "stream",
     "text": [
      "Valid Password\n",
      "Invalid Password\n",
      "Invalid Password\n",
      "Invalid Password\n",
      "Invalid Password\n"
     ]
    }
   ],
   "source": [
    "print(check_pw(\"AAaa1@@@@@\"))\n",
    "print(check_pw(\"Aaaa1@@@!#\"))\n",
    "print(check_pw(\"AAa22#$%^#\"))\n",
    "print(check_pw(\"AAaa&#$%^#\"))\n",
    "print(check_pw(\"AAaa111111\"))"
   ]
  },
  {
   "cell_type": "markdown",
   "id": "2c37276c-8f86-4ad7-a547-8ac043b211cf",
   "metadata": {},
   "source": [
    "### Q2. Solve the below-given questions using at least one of the following:  \n",
    "1. Lambda function\n",
    "2. Filter function \n",
    "3. Map function\n",
    "4. List Comprehension \n",
    "\n",
    "\n",
    "* Find the squares of numbers from 1 to 10.\n",
    "* Find the cube root of numbers from 1 to 10.\n",
    "* Check if a given number is even.\n",
    "* Filter odd numbers from the given list. \n",
    " [1,2,3,4,5,6,7,8,9,10]\n",
    "* Sort a list of integers into positive and negative integers lists. \n",
    " [1,2,3,4,5,6,-1,-2,-3,-4,-5,0] \n"
   ]
  },
  {
   "cell_type": "markdown",
   "id": "7c52c289-436b-473d-9333-a4eb7fe39f97",
   "metadata": {},
   "source": [
    "* Check if the string starts with a particular letter."
   ]
  },
  {
   "cell_type": "code",
   "execution_count": 54,
   "id": "daf80878-106a-4dd7-94eb-f4d0dec4a6dd",
   "metadata": {},
   "outputs": [
    {
     "data": {
      "text/plain": [
       "True"
      ]
     },
     "execution_count": 54,
     "metadata": {},
     "output_type": "execute_result"
    }
   ],
   "source": [
    "s = \"Lorem Ipsum\"\n",
    "a = lambda x : x.lower()[0] == \"l\" \n",
    "a(s)"
   ]
  },
  {
   "cell_type": "markdown",
   "id": "dd7fd432-1b0c-44f9-8bfe-eb7a1225acd0",
   "metadata": {},
   "source": [
    "* Check if the string is numeric."
   ]
  },
  {
   "cell_type": "code",
   "execution_count": 80,
   "id": "1ba9700b-1c8a-404e-bb43-041cb09c410b",
   "metadata": {},
   "outputs": [
    {
     "name": "stdout",
     "output_type": "stream",
     "text": [
      "True\n"
     ]
    }
   ],
   "source": [
    "s = \"10\"\n",
    "a = lambda x : x.isdigit()\n",
    "print(a(s))"
   ]
  },
  {
   "cell_type": "markdown",
   "id": "22f7729e-7cb1-4af4-b6c5-6bfdeb56b838",
   "metadata": {},
   "source": [
    "* Sort a list of tuples having fruit names and their quantity. [(\"mango\",99),(\"orange\",80), (\"grapes\", 1000)]."
   ]
  },
  {
   "cell_type": "code",
   "execution_count": 83,
   "id": "43232319-76a5-4f84-9e3b-7c4220743f4f",
   "metadata": {},
   "outputs": [
    {
     "data": {
      "text/plain": [
       "[('orange', 80), ('mango', 99), ('grapes', 1000)]"
      ]
     },
     "execution_count": 83,
     "metadata": {},
     "output_type": "execute_result"
    }
   ],
   "source": [
    "fruits = [(\"mango\",99),(\"orange\",80), (\"grapes\", 1000)]\n",
    "fruits.sort(key=lambda x: x[1])\n",
    "fruits"
   ]
  },
  {
   "cell_type": "markdown",
   "id": "78bb867d-9ed6-4508-835e-c1b353ea2876",
   "metadata": {},
   "source": [
    "* Find the squares of numbers from 1 to 10."
   ]
  },
  {
   "cell_type": "code",
   "execution_count": 84,
   "id": "2258dce4-ceb5-4708-91d8-0ee024a2cf0d",
   "metadata": {},
   "outputs": [
    {
     "data": {
      "text/plain": [
       "[1, 4, 9, 16, 25, 36, 49, 64, 81, 100]"
      ]
     },
     "execution_count": 84,
     "metadata": {},
     "output_type": "execute_result"
    }
   ],
   "source": [
    "[i**2 for i in range(1,11)]"
   ]
  },
  {
   "cell_type": "markdown",
   "id": "9e67c5b6-8022-4575-b417-9436487d7534",
   "metadata": {},
   "source": [
    "* Find the cube root of numbers from 1 to 10."
   ]
  },
  {
   "cell_type": "code",
   "execution_count": null,
   "id": "6c0f4d29-4b95-480b-9538-fa2246bc1ea2",
   "metadata": {},
   "outputs": [],
   "source": [
    "[]"
   ]
  },
  {
   "cell_type": "markdown",
   "id": "acf02d47-cac5-4bba-b85f-61f2b684cb7a",
   "metadata": {},
   "source": [
    "* Check if a given number is even."
   ]
  },
  {
   "cell_type": "code",
   "execution_count": 90,
   "id": "2da3c696-2088-40f9-83fc-5966707374a9",
   "metadata": {},
   "outputs": [
    {
     "data": {
      "text/plain": [
       "False"
      ]
     },
     "execution_count": 90,
     "metadata": {},
     "output_type": "execute_result"
    }
   ],
   "source": [
    "a = 13\n",
    "(lambda x : x%2 == 0)(a)"
   ]
  },
  {
   "cell_type": "markdown",
   "id": "a533534e-8417-4726-98a8-377bc2717c6b",
   "metadata": {},
   "source": [
    "* Filter odd numbers from the given list. \n",
    "\n",
    " [1,2,3,4,5,6,7,8,9,10]"
   ]
  },
  {
   "cell_type": "code",
   "execution_count": 92,
   "id": "5d2c1c23-b9d0-438a-ae82-e2d141d5f366",
   "metadata": {},
   "outputs": [
    {
     "data": {
      "text/plain": [
       "[2, 4, 6, 8, 10]"
      ]
     },
     "execution_count": 92,
     "metadata": {},
     "output_type": "execute_result"
    }
   ],
   "source": [
    "l = [1,2,3,4,5,6,7,8,9,10]\n",
    "list(filter(lambda x : x%2 !=0,l))"
   ]
  },
  {
   "cell_type": "markdown",
   "id": "46ac99a5-f110-49b5-b9c1-4a4e44e0c1d8",
   "metadata": {},
   "source": [
    "* Sort a list of integers into positive and negative integers lists.\n",
    "\n",
    " [1,2,3,4,5,6,-1,-2,-3,-4,-5,0] "
   ]
  },
  {
   "cell_type": "code",
   "execution_count": 96,
   "id": "5edb0035-68b2-4b6c-86c1-9681a066820a",
   "metadata": {},
   "outputs": [
    {
     "name": "stdout",
     "output_type": "stream",
     "text": [
      "[0, 1, 2, 3, 4, 5, 6] [-5, -4, -3, -2, -1]\n"
     ]
    }
   ],
   "source": [
    "l = [1,2,3,4,5,6,-1,-2,-3,-4,-5,0]\n",
    "\n",
    "p = sorted(list(filter(lambda x : x >= 0,l)))\n",
    "n = sorted(list(filter(lambda x : x < 0,l)))\n",
    "print(p, n)"
   ]
  },
  {
   "cell_type": "code",
   "execution_count": null,
   "id": "a50ee3e5-3abf-4215-b4c0-cbeec23265cd",
   "metadata": {},
   "outputs": [],
   "source": []
  }
 ],
 "metadata": {
  "kernelspec": {
   "display_name": "Python 3 (ipykernel)",
   "language": "python",
   "name": "python3"
  },
  "language_info": {
   "codemirror_mode": {
    "name": "ipython",
    "version": 3
   },
   "file_extension": ".py",
   "mimetype": "text/x-python",
   "name": "python",
   "nbconvert_exporter": "python",
   "pygments_lexer": "ipython3",
   "version": "3.10.8"
  }
 },
 "nbformat": 4,
 "nbformat_minor": 5
}
