{
 "cells": [
  {
   "cell_type": "markdown",
   "id": "dda88eb9-b4e0-4f0c-a65e-16753c89dbd3",
   "metadata": {},
   "source": [
    "### Q1. What is multithreading in python? Why is it used? Name the module used to handle threads in python"
   ]
  },
  {
   "cell_type": "markdown",
   "id": "551bf5f1-712f-4c15-bdcf-c231409c02d5",
   "metadata": {},
   "source": [
    "Multithreading in Python refers to the ability of a program to simultaneously execute multiple threads of execution or tasks. Each thread runs independently, and the Python interpreter switches between threads to provide the illusion of parallelism.\n",
    "\n",
    "Multithreading is used in Python to improve the performance of applications that perform multiple tasks simultaneously. For example, web servers that receive requests from multiple clients simultaneously can handle each request in a separate thread.\n",
    "\n",
    "The module used to handle threads in Python is called threading. It provides a simple way to create and manage threads in Python. The threading module provides the Thread class, which can be used to create new threads, as well as a range of methods and functions for managing threads, such as starting and stopping threads, setting thread priorities, and waiting for threads to finish."
   ]
  },
  {
   "cell_type": "markdown",
   "id": "b0e22a3a-62cc-43ac-92a9-e7bae6b06fc3",
   "metadata": {
    "tags": []
   },
   "source": [
    "### Q2. Why threading module used? Write the use of the following functions:\n",
    "\n",
    "1. activecount()\n",
    "2. currentThread()\n",
    "3. enumerate()"
   ]
  },
  {
   "cell_type": "markdown",
   "id": "7d800e44-dece-486e-acd7-fbeb073780cf",
   "metadata": {},
   "source": [
    "The threading module in Python is used for creating, managing, and controlling threads in a program. It allows the programmer to implement concurrency in the program, where multiple threads of execution can run concurrently.\n",
    "\n",
    "The following are the uses of the functions of the threading module:\n",
    "\n",
    "1. activecount(): It returns the number of thread objects that are currently active in the program. This function is useful for debugging and monitoring the program.\n",
    "\n",
    "2. currentThread(): It returns the current thread object that is invoking the function. This function is useful for getting information about the currently executing thread, such as its name, ID, or other attributes.\n",
    "\n",
    "3. enumerate(): It returns a list of all thread objects that are currently alive in the program. This function is useful for iterating over all threads in the program and performing some action on each thread, such as checking its status or terminating it. The function can also be used to get information about each thread, such as its name or ID."
   ]
  },
  {
   "cell_type": "markdown",
   "id": "c640b10c-fcdd-4f39-9c6f-7a351cc91477",
   "metadata": {},
   "source": [
    "### Q3. Explain the following functions:\n",
    "1. run()\n",
    "2. start()\n",
    "3. join()\n",
    "4. isalive()"
   ]
  },
  {
   "cell_type": "markdown",
   "id": "f8c77a7a-a521-4f7a-8d7c-3d4846795e3b",
   "metadata": {},
   "source": [
    "1. run(): This function is called when the start() method is invoked on a thread object. It is the method that actually performs the task or operation that the thread is designed to do. The run() method can be overridden in a subclass to customize the behavior of the thread.\n",
    "\n",
    "2. start(): This function is used to start the execution of a thread. When this function is called, it will invoke the run() method of the thread object. The thread will then run concurrently with the other threads in the program.\n",
    "\n",
    "3. join(): This function is used to wait for the thread to finish its execution. When this function is called on a thread object, the program will wait for the thread to finish its execution before continuing. This is useful when the main thread of the program needs to wait for a worker thread to finish its task before continuing with the program's execution.\n",
    "\n",
    "4. isalive(): This function is used to check if the thread is still alive and executing. When this function is called on a thread object, it will return a Boolean value indicating whether the thread is still running or has terminated. This function is useful for checking the status of a thread and taking appropriate action based on its status."
   ]
  },
  {
   "cell_type": "markdown",
   "id": "1c7f301b-f6dd-4e1d-8dca-31969d21ddfa",
   "metadata": {},
   "source": [
    "### Q4. Write a python program to create two threads. Thread one must print the list of squares and thread two must print the list of cubes."
   ]
  },
  {
   "cell_type": "code",
   "execution_count": 4,
   "id": "5d262b50-d711-47fe-be55-437b9d87fc2b",
   "metadata": {},
   "outputs": [
    {
     "name": "stdout",
     "output_type": "stream",
     "text": [
      "1\n",
      "4\n",
      "9\n",
      "16\n",
      "25\n",
      "36\n",
      "49\n",
      "64\n",
      "81\n",
      "100\n",
      "1\n",
      "8\n",
      "27\n",
      "64\n",
      "125\n",
      "216\n",
      "343\n",
      "512\n",
      "729\n",
      "1000\n"
     ]
    }
   ],
   "source": [
    "import threading\n",
    "\n",
    "def print_squares():\n",
    "    for i in range(1, 11):\n",
    "        print(i ** 2)\n",
    "\n",
    "def print_cubes():\n",
    "    for i in range(1, 11):\n",
    "        print(i ** 3)\n",
    "\n",
    "t1 = threading.Thread(target=print_squares)\n",
    "t2 = threading.Thread(target=print_cubes)\n",
    "\n",
    "t1.start()\n",
    "t2.start()\n",
    "\n",
    "t1.join()\n",
    "t2.join()\n"
   ]
  },
  {
   "cell_type": "markdown",
   "id": "0330f4a1-a53a-473e-ab6b-3054ebbe2ae3",
   "metadata": {},
   "source": [
    "### Q5. State advantages and disadvantages of multithreading."
   ]
  },
  {
   "cell_type": "markdown",
   "id": "47fb47e3-6abe-4c87-84f6-6ff57c2e0ae2",
   "metadata": {},
   "source": [
    "#### Advantages of multithreading:\n",
    "\n",
    "* Improved performance: Executes multiple tasks simultaneously, leading to faster program execution.\n",
    "* Better resource utilization: Makes efficient use of system resources like CPU and memory, reducing time to complete tasks.\n",
    "* Improved responsiveness: Allows time-consuming tasks to be executed in the background, keeping the program running smoothly.\n",
    "* Simplified program design: Allows complex tasks to be broken down into smaller, more manageable tasks for concurrent execution.\n",
    "\n",
    "#### Disadvantages of multithreading:\n",
    "\n",
    "* Increased complexity: Makes a program more complex and difficult to debug.\n",
    "* Synchronization issues: Can lead to synchronization issues like race conditions and deadlocks.\n",
    "* Increased overhead: Adds additional overhead associated with managing threads and switching between them.\n",
    "* Limited scalability: May not realize the full performance benefits if the number of threads exceeds the number of available CPU cores or memory."
   ]
  },
  {
   "cell_type": "markdown",
   "id": "64dad4e5-9fce-4eba-9c6b-ca6f9129693b",
   "metadata": {},
   "source": [
    "### Q6. Explain deadlocks and race conditions."
   ]
  },
  {
   "cell_type": "markdown",
   "id": "a713d98b-5e10-4577-b4bd-b1b65a0b0266",
   "metadata": {},
   "source": [
    "Deadlocks occur when two or more threads are blocked, waiting for each other to release resources that they need to continue executing. Race conditions occur when the behavior of a program depends on the relative timing of events in different threads. Both can cause programs to behave in unexpected ways and are difficult to detect and fix. It is important to design multithreaded programs carefully to avoid these issues and use synchronization primitives to coordinate thread actions."
   ]
  },
  {
   "cell_type": "markdown",
   "id": "80e2126a-a06c-43c1-b4de-d49cc4d31eec",
   "metadata": {},
   "source": [
    "###"
   ]
  },
  {
   "cell_type": "markdown",
   "id": "242c2e1f-65df-4f92-bb64-1f1975c99316",
   "metadata": {},
   "source": [
    "###"
   ]
  },
  {
   "cell_type": "markdown",
   "id": "0234204c-6c78-4bc7-a6df-f844985e9faa",
   "metadata": {},
   "source": [
    "###"
   ]
  },
  {
   "cell_type": "markdown",
   "id": "174c23b1-46cc-4002-aba0-ba87598912ab",
   "metadata": {},
   "source": [
    "###"
   ]
  },
  {
   "cell_type": "markdown",
   "id": "6935d4b6-1949-417b-9e06-1fe8d0e31792",
   "metadata": {},
   "source": [
    "###"
   ]
  },
  {
   "cell_type": "markdown",
   "id": "b0edd009-57a2-4e9f-b38f-5337eb4b26d3",
   "metadata": {},
   "source": [
    "###"
   ]
  }
 ],
 "metadata": {
  "kernelspec": {
   "display_name": "Python 3 (ipykernel)",
   "language": "python",
   "name": "python3"
  },
  "language_info": {
   "codemirror_mode": {
    "name": "ipython",
    "version": 3
   },
   "file_extension": ".py",
   "mimetype": "text/x-python",
   "name": "python",
   "nbconvert_exporter": "python",
   "pygments_lexer": "ipython3",
   "version": "3.10.8"
  }
 },
 "nbformat": 4,
 "nbformat_minor": 5
}
