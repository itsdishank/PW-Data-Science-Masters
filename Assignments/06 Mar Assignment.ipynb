{
 "cells": [
  {
   "cell_type": "markdown",
   "id": "21d39910-8850-4f55-aee8-58890d7aef19",
   "metadata": {},
   "source": [
    "### Q1. What is Statistics?"
   ]
  },
  {
   "cell_type": "markdown",
   "id": "a34aca12-4de6-4ef0-833c-244d5f3c4c45",
   "metadata": {},
   "source": [
    "Statistics is a branch of mathematics that deals with the collection, analysis, interpretation, presentation, and organization of data. It involves using various statistical methods and techniques to make sense of data and to draw conclusions based on the analysis. Statistics plays an important role in many fields, including science, social science, engineering, economics, and business, among others. It provides a framework for making data-driven decisions, and helps in understanding and interpreting complex phenomena."
   ]
  },
  {
   "cell_type": "markdown",
   "id": "fd945478-f4b8-42a3-b018-458845e7c747",
   "metadata": {},
   "source": [
    "### Q2. Define the different types of statistics and give an example of when each type might be used."
   ]
  },
  {
   "cell_type": "markdown",
   "id": "47188c2a-e604-4dc8-b49c-3bdefc1fb708",
   "metadata": {},
   "source": [
    "There are two types of Statistics:\n",
    "\n",
    "1. Descriptive statistics<br>\n",
    "Descriptive statistics involves the summarization and presentation of data using measures such as mean, median, mode, standard deviation, and frequency distribution. It is used to describe and summarize the data set. For example, if we want to know the average height of students in a class, we can use descriptive statistics to calculate the mean height.\n",
    "\n",
    "2. Inferential Statistics<br>\n",
    "Inferential statistics involves making generalizations or conclusions about a population based on a sample of data. It involves hypothesis testing, confidence intervals, and regression analysis. For example, if we want to know whether the average height of students in our class is significantly different from the average height of students in another class, we can use inferential statistics to test the hypothesis."
   ]
  },
  {
   "cell_type": "markdown",
   "id": "ff603745-34ca-4959-a2e3-c10a7a08cab5",
   "metadata": {},
   "source": [
    "### Q3. What are the different types of data and how do they differ from each other? Provide an example of each type of data."
   ]
  },
  {
   "cell_type": "markdown",
   "id": "b6801b7f-fb65-4f15-9431-ad1bd5a19868",
   "metadata": {},
   "source": [
    "Data can be classified as either qualitative or quantitative.\n",
    "* Qualitative Data<br>\n",
    "Qualitative data is non-numerical data that describes the characteristics or qualities of a variable. It is often referred to as categorical data.\n",
    "\n",
    "Qualitative data can be further classified into two subtypes:\n",
    "\n",
    "\ta. Nominal data: Nominal data consists of categories or labels that cannot be ordered. Examples of nominal data include gender (male, female), hair color (blonde, brown, black, red), and type of car (sedan, SUV, truck).\n",
    "\n",
    "\tb. Ordinal data: Ordinal data is categorical data that can be ordered or ranked. Examples of ordinal data include educational level (high school, college, graduate), income level (low, medium, high), and survey responses (strongly agree, agree, neutral, disagree, strongly disagree).\n",
    "\n",
    "* Quantitative Data<br>\n",
    "Quantitative data is numerical data that represents quantities or amounts of a variable.\n",
    "\n",
    "Quantitative data can be further classified into two subtypes: discrete and continuous.\n",
    "\n",
    "\ta. Discrete data: Discrete data is numerical data that represents whole numbers or counts of objects. Discrete data can only take on certain values and cannot be broken down into smaller units. Examples of discrete data include the number of students in a class, the number of cars in a parking lot, or the number of apples on a tree.\n",
    "\n",
    "\tb. Continuous data: Continuous data is numerical data that can take on any value within a certain range. Continuous data can be broken down into smaller and smaller units, and can include decimals or fractions. Examples of continuous data include height, weight, temperature, and time."
   ]
  },
  {
   "cell_type": "markdown",
   "id": "047379a2-c0b5-43e3-9957-e1fdee33567f",
   "metadata": {},
   "source": [
    "### Q4. Categorise the following datasets with respect to quantitative and qualitative data types:\n",
    "(i) Grading in exam: A+, A, B+, B, C+, C, D, E<br>\n",
    "(ii) Colour of mangoes: yellow, green, orange, red<br>\n",
    "(iii) Height data of a class: [178.9, 179, 179.5, 176, 177.2, 178.3, 175.8,...]<br>\n",
    "(iv) Number of mangoes exported by a farm: [500, 600, 478, 672, ...]"
   ]
  },
  {
   "cell_type": "markdown",
   "id": "fa157208-1ab3-418e-9529-6835db376a7f",
   "metadata": {},
   "source": [
    "(i) Grading in exam: Qualitative data - Ordinal data.\n",
    "(ii) Colour of mangoes: Qualitative data - Nominal data.\n",
    "(iii) Height data of a class: Quantitative data - Continuous data.\n",
    "(iv) Number of mangoes exported by a farm: Quantitative data - Discrete data."
   ]
  },
  {
   "cell_type": "markdown",
   "id": "ba23f12a-d51f-4f06-9451-3ace00415c9e",
   "metadata": {},
   "source": [
    "### Q5. Explain the concept of levels of measurement and give an example of a variable for each level."
   ]
  },
  {
   "cell_type": "markdown",
   "id": "4e05b1e9-04dd-44aa-b9a4-934fb1df8e63",
   "metadata": {},
   "source": [
    "Levels of measurement, also known as scales of measurement, refer to the types of values that can be assigned to a variable. There are four levels of measurement: nominal, ordinal, interval, and ratio.\n",
    "\n",
    "1. Nominal level variables are categorical variables with no intrinsic order or ranking, for example, gender, race, and religion.\n",
    "2. Ordinal level variables are categorical variables that have a natural order or ranking, such as grades, customer satisfaction ratings, and socioeconomic status.\n",
    "3. Interval level is characterized by categories with a specific order or ranking, where the differences between the categories are equal. However, there is no true zero point in interval data. An example of an interval variable is temperature measured in Celsius or Fahrenheit\n",
    "4. Ratio level variables are continuous variables that have a meaningful zero point, and the ratios between values are meaningful. Examples of ratio level variables are height, weight, and age."
   ]
  },
  {
   "cell_type": "markdown",
   "id": "f5b67d95-5f7a-46be-aa73-907fb1d7f227",
   "metadata": {},
   "source": [
    "### Q6. Why is it important to understand the level of measurement when analyzing data? Provide an example to illustrate your answer."
   ]
  },
  {
   "cell_type": "markdown",
   "id": "27d3f51f-c8fd-442b-955e-d2a9b6484b91",
   "metadata": {},
   "source": [
    "It is important to understand the level of measurement when analyzing data because it determines the appropriate statistical methods and techniques that can be applied to the data. Each level of measurement has different properties and limitations, and using the wrong statistical method for a particular level of measurement can result in incorrect or misleading conclusions.\n",
    "\n",
    "For example, if we have data on the different colors of cars owned by people in a city, we could classify this data as nominal since the colors of cars are just labels without any inherent order or ranking. Therefore, we can use frequency tables, bar charts, or pie charts to summarize and visualize the data, but we cannot use measures of central tendency such as mean or median because they do not make sense for nominal data."
   ]
  },
  {
   "cell_type": "markdown",
   "id": "78c82670-b80c-436b-8017-034097ad0bb1",
   "metadata": {},
   "source": [
    "### Q7. How nominal data type is different from ordinal data type."
   ]
  },
  {
   "cell_type": "markdown",
   "id": "311d36fa-0e17-40d6-aeea-c0612287c0a5",
   "metadata": {},
   "source": [
    "Nominal data and ordinal data are both types of qualitative or categorical data, but they differ in terms of the level of measurement and the nature of the categories.\n",
    "\n",
    "Nominal data are categorical data that consist of named categories or labels without any inherent order or ranking. For example, the colors of cars, the types of fruits, or the names of countries are all examples of nominal data.\n",
    "\n",
    "Ordinal data, on the other hand, are categorical data that have a natural order or ranking among the categories. For example, the grades of students (A, B, C, D, F), the rankings of sports teams (1st, 2nd, 3rd, etc.), or the levels of satisfaction (very satisfied, satisfied, neutral, dissatisfied, very dissatisfied) are all examples of ordinal data."
   ]
  },
  {
   "cell_type": "markdown",
   "id": "45c35282-0893-4f29-883b-0cff9c04bd59",
   "metadata": {},
   "source": [
    "### Q8. Which type of plot can be used to display data in terms of range?"
   ]
  },
  {
   "cell_type": "markdown",
   "id": "e8474cec-496d-4686-9237-7570ab3fcf10",
   "metadata": {},
   "source": [
    "A box plot, also known as a box-and-whisker plot, is a type of plot that can be used to display data in terms of range. A box plot provides a visual representation of the median, quartiles, and outliers of a dataset, which can be used to describe the spread and central tendency of the data. The box in the plot represents the interquartile range (IQR), which contains the middle 50% of the data, while the whiskers represent the range of the data outside the IQR. Outliers are represented as individual points outside the whiskers."
   ]
  },
  {
   "cell_type": "markdown",
   "id": "d1713b23-0cdd-479e-baef-59f19f4834da",
   "metadata": {},
   "source": [
    "### Q9. Describe the difference between descriptive and inferential statistics. Give an example of each type of statistics and explain how they are used."
   ]
  },
  {
   "cell_type": "markdown",
   "id": "db81315e-c85f-4594-be6c-5dff605c34e0",
   "metadata": {},
   "source": [
    " The main difference between descriptive and inferential statistics is that descriptive statistics aims to describe and summarize a set of data, while inferential statistics aims to make inferences and predictions about a larger population based on a sample of data.\n",
    "\n",
    "Descriptive statistics involves collecting, organizing, and presenting data in a way that allows for easy understanding and interpretation. It involves calculating measures of central tendency (such as mean, median, and mode) and measures of variability (such as range, variance, and standard deviation) to describe the characteristics of the data.\n",
    "\n",
    "Example of descriptive statistics: Suppose you are given the following data set: 2, 4, 6, 8, and 10. Descriptive statistics would involve calculating the mean (6), median (6), mode (there is no mode), range (8), variance, and standard deviation to describe the data set.\n",
    "\n",
    "In contrast, inferential statistics involves using statistical techniques to make inferences and predictions about a larger population based on a sample of data. It involves drawing conclusions about the population based on the characteristics of the sample.\n",
    "\n",
    "Example of inferential statistics: Suppose you conduct a survey of 1000 people to determine the percentage of people who prefer a particular brand of toothpaste. Inferential statistics would involve using the data from the survey to make inferences about the percentage of people in the population who prefer that brand of toothpaste."
   ]
  },
  {
   "cell_type": "markdown",
   "id": "260eb704-4e0d-4263-8796-60b86e6d7ddc",
   "metadata": {},
   "source": [
    "### Q10. What are some common measures of central tendency and variability used in statistics? Explain how each measure can be used to describe a dataset."
   ]
  },
  {
   "cell_type": "markdown",
   "id": "5e5167fa-c55a-4414-88b7-3f97dfdd3e5f",
   "metadata": {},
   "source": [
    "Some common measures of central tendency and variability used in statistics are:\n",
    "\n",
    "1. Mean: The mean is the average value of a dataset, calculated by adding up all the values and dividing by the total number of values. It provides a useful measure of the \"center\" of the data and is sensitive to extreme values. The mean is often used to summarize datasets with a normal distribution, where the values cluster around a central value.\n",
    "\n",
    "2. Median: The median is the middle value in a dataset when the values are arranged in order. It is not influenced by extreme values and provides a useful measure of the \"typical\" value in the dataset. The median is often used to summarize datasets with skewed distributions, where a few extreme values may affect the mean.\n",
    "\n",
    "3. Mode: The mode is the value that appears most frequently in a dataset. It provides a useful measure of the most common value in the dataset and is often used for categorical or discrete datasets where values cannot take on a wide range of values.\n",
    "\n",
    "4. Range: The range is the difference between the largest and smallest values in a dataset. It provides a useful measure of the spread of the data and is sensitive to extreme values. The range is easy to calculate but can be affected by extreme values, making it less useful for summarizing datasets with outliers.\n",
    "\n",
    "5. Variance: The variance is a measure of how spread out the data is from the mean. It is calculated by summing the squared deviations of each value from the mean and dividing by the total number of values. A high variance indicates that the data is more spread out, while a low variance indicates that the data is more clustered around the mean.\n",
    "\n",
    "6. Standard deviation: The standard deviation is the square root of the variance and provides a measure of the typical distance of the values from the mean. It is a widely used measure of variability and provides a useful measure of how much the data deviates from the mean."
   ]
  }
 ],
 "metadata": {
  "kernelspec": {
   "display_name": "Python 3 (ipykernel)",
   "language": "python",
   "name": "python3"
  },
  "language_info": {
   "codemirror_mode": {
    "name": "ipython",
    "version": 3
   },
   "file_extension": ".py",
   "mimetype": "text/x-python",
   "name": "python",
   "nbconvert_exporter": "python",
   "pygments_lexer": "ipython3",
   "version": "3.10.8"
  }
 },
 "nbformat": 4,
 "nbformat_minor": 5
}
