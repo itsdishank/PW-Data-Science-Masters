{
 "cells": [
  {
   "cell_type": "markdown",
   "id": "077d500b-9032-48a7-9958-8998553f3e64",
   "metadata": {},
   "source": [
    "### Q1. What is an API? Give an example, where an API is used in real life."
   ]
  },
  {
   "cell_type": "markdown",
   "id": "05a28f81-803c-498d-8ba8-c2d03430033a",
   "metadata": {},
   "source": [
    "API stands for Application Programming Interface. It is a set of protocols, routines, and tools for building software applications that specify how software components should interact. In other words, an API acts as an interface between different software applications, allowing them to communicate with each other.\n",
    "\n",
    "An example of API usage in real life is when you use a weather app on your smartphone. The app uses an API to access the weather data from a weather data provider and displays it to the user."
   ]
  },
  {
   "cell_type": "markdown",
   "id": "1f218554-a3f8-4218-a674-96c233510e4c",
   "metadata": {},
   "source": [
    "### Q2. Give advantages and disadvantages of using API."
   ]
  },
  {
   "cell_type": "markdown",
   "id": "4d0e4346-986d-4c99-aa3f-aa95a3cbcce7",
   "metadata": {},
   "source": [
    "#### Advantages of using API are:\n",
    "\n",
    "1. Increased Efficiency: APIs make it easier to integrate different software applications, increasing efficiency and reducing development time.\n",
    "\n",
    "2. Reusability: APIs can be reused across different applications, reducing development costs and time.\n",
    "\n",
    "3. Standardization: APIs provide a standard interface for accessing data and services, which promotes interoperability and compatibility.\n",
    "\n",
    "4. Scalability: APIs can be scaled to handle large amounts of traffic and requests.\n",
    "\n",
    "#### Disadvantages of using API are:\n",
    "\n",
    "1. Security Risks: APIs can be vulnerable to security risks such as data breaches, hacks, and unauthorized access.\n",
    "\n",
    "2. Dependency: If an API is discontinued or changed, it can cause problems for the applications that depend on it.\n",
    "\n",
    "3. Compatibility Issues: Compatibility issues may arise between different versions of the same API, causing problems for developers."
   ]
  },
  {
   "cell_type": "markdown",
   "id": "801a5c61-b2cd-4f6d-b0bd-b711ffa60e20",
   "metadata": {},
   "source": [
    "### Q3. What is a Web API? Differentiate between API and Web API."
   ]
  },
  {
   "cell_type": "markdown",
   "id": "b3300793-814d-47c3-8cf7-88450084edaf",
   "metadata": {},
   "source": [
    "A Web API (Application Programming Interface) is a type of API that allows communication over the internet. It is a set of protocols and tools for building software applications that specify how software components should interact over the web.\n",
    "\n",
    "The main difference between an API and a Web API is that the latter is specifically designed to work over the internet, whereas an API can be used for any type of software integration, regardless of the communication medium."
   ]
  },
  {
   "cell_type": "markdown",
   "id": "6ad26abd-82b2-4e0b-8197-fedc0aaef826",
   "metadata": {},
   "source": [
    "### Q4. Explain REST and SOAP Architecture. Mention shortcomings of SOAP."
   ]
  },
  {
   "cell_type": "markdown",
   "id": "5057d712-c6fa-4b9e-87a9-13a8664eeeb1",
   "metadata": {},
   "source": [
    "REST is an architectural style that uses HTTP requests to access and manipulate data. It uses HTTP methods (GET, POST, PUT, DELETE) to perform CRUD (Create, Read, Update, Delete) operations on resources. REST APIs are stateless, meaning they do not maintain any information about the client's session.\n",
    "\n",
    "SOAP is an XML-based messaging protocol that uses HTTP or other transport protocols to communicate between applications. It uses a set of rules for exchanging structured information in the form of XML documents. SOAP APIs are stateful, meaning they maintain information about the client's session.\n",
    "\n",
    "Shortcomings of SOAP include:\n",
    "\n",
    "* Complexity: SOAP is more complex than REST, making it harder to develop and maintain.\n",
    "\n",
    "* Overhead: SOAP has a lot of overhead due to the use of XML, which can slow down the performance of the API.\n",
    "\n",
    "* Compatibility: SOAP is less compatible with other systems and languages than REST."
   ]
  },
  {
   "cell_type": "markdown",
   "id": "044918ab-4893-4e3e-b8e7-ea439b07dd6b",
   "metadata": {
    "tags": []
   },
   "source": [
    "### Q5. Differentiate between REST and SOAP."
   ]
  },
  {
   "cell_type": "markdown",
   "id": "acf3c233-edae-4030-8b5e-26f20859f3fb",
   "metadata": {},
   "source": [
    "The main differences between them are:\n",
    "\n",
    "1. Protocol: REST uses HTTP for communication, while SOAP can use a variety of protocols including HTTP, SMTP, and TCP.\n",
    "\n",
    "2. Data Format: REST uses lightweight formats such as JSON and XML, while SOAP uses XML exclusively.\n",
    "\n",
    "3. State Management: REST APIs are stateless, while SOAP APIs are stateful.\n",
    "\n",
    "4. Performance: REST APIs are faster and more efficient than SOAP APIs due to their lightweight data format and statelessness.\n",
    "\n",
    "5. Scalability: REST APIs are more scalable than SOAP APIs due to their statelessness, which allows for easier distribution across multiple servers."
   ]
  },
  {
   "cell_type": "markdown",
   "id": "caebfa1c-5fbd-405e-8c0b-8d2972172148",
   "metadata": {},
   "source": [
    "### "
   ]
  },
  {
   "cell_type": "markdown",
   "id": "49e761b8-149b-40fd-8e33-5fb5cf099cf2",
   "metadata": {},
   "source": [
    "### "
   ]
  },
  {
   "cell_type": "markdown",
   "id": "8a6df8e9-fbd5-44b8-b545-48697b55242b",
   "metadata": {},
   "source": [
    "### "
   ]
  }
 ],
 "metadata": {
  "kernelspec": {
   "display_name": "Python 3 (ipykernel)",
   "language": "python",
   "name": "python3"
  },
  "language_info": {
   "codemirror_mode": {
    "name": "ipython",
    "version": 3
   },
   "file_extension": ".py",
   "mimetype": "text/x-python",
   "name": "python",
   "nbconvert_exporter": "python",
   "pygments_lexer": "ipython3",
   "version": "3.10.8"
  }
 },
 "nbformat": 4,
 "nbformat_minor": 5
}
