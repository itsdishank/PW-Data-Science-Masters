{
 "cells": [
  {
   "cell_type": "markdown",
   "id": "e2fbaa9c-eea9-4134-add1-62bdc1ae8ae8",
   "metadata": {},
   "source": [
    "### Q1. List any five functions of the pandas library with execution."
   ]
  },
  {
   "cell_type": "markdown",
   "id": "d0454bbf-e307-49df-886e-4366195b3685",
   "metadata": {},
   "source": [
    "1. read_csv(): This function is used to read a CSV file and create a pandas DataFrame from it."
   ]
  },
  {
   "cell_type": "code",
   "execution_count": null,
   "id": "be185cf6-8370-49d4-a47d-2da17387b6e1",
   "metadata": {},
   "outputs": [],
   "source": [
    "import pandas as pd\n",
    "df = pd.read_csv('filename.csv')"
   ]
  },
  {
   "cell_type": "markdown",
   "id": "55875ea4-01bf-424c-8c19-445e89e28760",
   "metadata": {},
   "source": [
    "2. head(): This function is used to display the first few rows of a DataFrame."
   ]
  },
  {
   "cell_type": "code",
   "execution_count": null,
   "id": "bae6717a-5f31-44c3-9232-28ed0ee9cc8d",
   "metadata": {},
   "outputs": [],
   "source": [
    "df.head()"
   ]
  },
  {
   "cell_type": "markdown",
   "id": "2c9cb9ad-22a0-4418-b834-ec9b4979ca93",
   "metadata": {},
   "source": [
    "3. merge(): This function is used to merge two DataFrames based on a common column."
   ]
  },
  {
   "cell_type": "code",
   "execution_count": null,
   "id": "bed5547e-13e2-45e8-9c9f-b3ea4b5d4599",
   "metadata": {},
   "outputs": [],
   "source": [
    "df1.merge(df2, on='common_column')"
   ]
  },
  {
   "cell_type": "markdown",
   "id": "6bc90d19-e21e-4f41-ba77-20b6bc8da8dc",
   "metadata": {},
   "source": [
    "4. describe(): This function is used to generate descriptive statistics of the DataFrame."
   ]
  },
  {
   "cell_type": "code",
   "execution_count": null,
   "id": "41eb1aa1-9aa9-4d49-b6b4-08b42a5259f2",
   "metadata": {},
   "outputs": [],
   "source": [
    "df.describe()"
   ]
  },
  {
   "cell_type": "markdown",
   "id": "203ee7b4-d538-4907-aad9-6012b6d1b176",
   "metadata": {},
   "source": [
    "5. groupby(): This function is used to group the DataFrame by one or more columns and perform some operation on the groups."
   ]
  },
  {
   "cell_type": "code",
   "execution_count": null,
   "id": "3f3aee3a-a03c-412a-88b1-f74f13d859ce",
   "metadata": {},
   "outputs": [],
   "source": [
    "grouped = df.groupby('column_name')\n",
    "grouped.mean()"
   ]
  },
  {
   "cell_type": "markdown",
   "id": "7b08740b-84dc-49a2-9227-8f22a685887d",
   "metadata": {},
   "source": [
    "### Q2. Given a Pandas DataFrame df with columns 'A', 'B', and 'C', write a Python function to re-index the DataFrame with a new index that starts from 1 and increments by 2 for each row."
   ]
  },
  {
   "cell_type": "code",
   "execution_count": 7,
   "id": "09a020d0-60ee-4a9c-b990-3a3cac6689af",
   "metadata": {},
   "outputs": [
    {
     "name": "stdout",
     "output_type": "stream",
     "text": [
      "   a  b        c\n",
      "1  1  4  Dishank\n",
      "3  2  5    Rahul\n",
      "5  3  6  Pradeep\n",
      "7  4  7    Bhumi\n"
     ]
    }
   ],
   "source": [
    "import pandas as pd\n",
    "\n",
    "def reindex_func(df):\n",
    "    new_index = pd.RangeIndex(start=1, step=2, stop=len(df)*2)\n",
    "    new_df = df.set_index(new_index)\n",
    "    return new_df\n",
    "\n",
    "data = {\"a\":[1,2,3,4],\n",
    "       \"b\":[4,5,6,7],\n",
    "       \"c\":[\"Dishank\" , \"Rahul\",\"Pradeep\",\"Bhumi\"]}\n",
    "\n",
    "df =  pd.DataFrame(data)\n",
    "\n",
    "print(reindex_func(df))"
   ]
  },
  {
   "cell_type": "markdown",
   "id": "ff66c1f0-3a5f-4b26-aa94-2b429fd77b25",
   "metadata": {
    "tags": []
   },
   "source": [
    "### Q3. You have a Pandas DataFrame df with a column named 'Values'. Write a Python function that iterates over the DataFrame and calculates the sum of the first three values in the 'Values' column. The function should print the sum to the console.\n",
    "\n",
    "For example, if the 'Values' column of df contains the values [10, 20, 30, 40, 50], your function should\n",
    "calculate and print the sum of the first three values, which is 60."
   ]
  },
  {
   "cell_type": "code",
   "execution_count": 11,
   "id": "ca384995-7427-4d1c-bfe3-f76d81263cfe",
   "metadata": {},
   "outputs": [
    {
     "name": "stdout",
     "output_type": "stream",
     "text": [
      "Sum of the first three values: 15\n"
     ]
    }
   ],
   "source": [
    "import pandas as pd\n",
    "\n",
    "def sum_three_values(df):\n",
    "    values_col = df['Values']\n",
    "    sum_first_three = 0\n",
    "    for i, value in enumerate(values_col):\n",
    "        if i >= 3:\n",
    "            break\n",
    "        sum_first_three += value\n",
    "    print(\"Sum of the first three values:\", sum_first_three)\n",
    "\n",
    "data = {\"a\":[1,2,3,4],\n",
    "       \"Values\":[4,5,6,7],\n",
    "       \"c\":[\"Dishank\" , \"Rahul\",\"Pradeep\",\"Bhumi\"]}\n",
    "\n",
    "df =  pd.DataFrame(data)\n",
    "\n",
    "sum_three_values(data)"
   ]
  },
  {
   "cell_type": "markdown",
   "id": "3fa096a9-7b44-4780-8e99-dd0adc52312d",
   "metadata": {},
   "source": [
    "### Q4. Given a Pandas DataFrame df with a column 'Text', write a Python function to create a new column\n",
    "'Word_Count' that contains the number of words in each row of the 'Text' column."
   ]
  },
  {
   "cell_type": "code",
   "execution_count": 14,
   "id": "3bec9436-983c-405d-a9c8-6ba5e117c86c",
   "metadata": {},
   "outputs": [
    {
     "name": "stdout",
     "output_type": "stream",
     "text": [
      "   a  Values                                 Text  Word_Count\n",
      "0  1       4      Dishank Dishank Dishank Dishank           4\n",
      "1  2       5  Rahul Rahul Rahul Rahul Rahul Rahul           6\n",
      "2  3       6                      Pradeep Pradeep           2\n",
      "3  4       7                                Bhumi           1\n"
     ]
    }
   ],
   "source": [
    "def add_column(df):\n",
    "    df['Word_Count'] = df['Text'].apply(lambda x: len(str(x).split()))\n",
    "    return df\n",
    "\n",
    "data = {\"a\":[1,2,3,4],\n",
    "       \"Values\":[4,5,6,7],\n",
    "       \"Text\":[\"Dishank Dishank Dishank Dishank\" , \"Rahul Rahul Rahul Rahul Rahul Rahul\",\"Pradeep Pradeep\",\"Bhumi\"]}\n",
    "\n",
    "df =  pd.DataFrame(data)\n",
    "\n",
    "print(add_column(df))"
   ]
  },
  {
   "cell_type": "markdown",
   "id": "8e07a8a3-14d5-45b6-b267-8e786495f0df",
   "metadata": {},
   "source": [
    "### Q5. How are DataFrame.size() and DataFrame.shape() different?"
   ]
  },
  {
   "cell_type": "markdown",
   "id": "af6c889a-8a6a-4d48-ab09-c479dd67dbde",
   "metadata": {},
   "source": [
    "DataFrame.size() returns the total number of elements in the DataFrame, which is equal to the product of the number of rows and the number of columns. In other words, DataFrame.size() returns the total number of cells in the DataFrame.\n",
    "\n",
    "DataFrame.shape() returns a tuple of the number of rows and the number of columns in the DataFrame. In other words, DataFrame.shape() returns the dimensions of the DataFrame as a tuple of the form (number of rows, number of columns)."
   ]
  },
  {
   "cell_type": "code",
   "execution_count": 15,
   "id": "21234378-24ef-4b2c-9d3f-215fd21c8368",
   "metadata": {},
   "outputs": [
    {
     "name": "stdout",
     "output_type": "stream",
     "text": [
      "9\n",
      "(3, 3)\n"
     ]
    }
   ],
   "source": [
    "import pandas as pd\n",
    "\n",
    "df = pd.DataFrame({'A': [1, 2, 3], 'B': [4, 5, 6], 'C': [7, 8, 9]})\n",
    "\n",
    "print(df.size)\n",
    "\n",
    "print(df.shape)"
   ]
  },
  {
   "cell_type": "markdown",
   "id": "d06a6eb7-aeb5-4bc6-a1fd-2bb98658240a",
   "metadata": {},
   "source": [
    "### Q6. Which function of pandas do we use to read an excel file?"
   ]
  },
  {
   "cell_type": "markdown",
   "id": "aaa5b60b-ae4e-434a-ad9a-2193e7c89865",
   "metadata": {},
   "source": [
    "To read an Excel file in pandas, we use the read_excel() function. "
   ]
  },
  {
   "cell_type": "code",
   "execution_count": null,
   "id": "6d84e90f-2430-41e6-8ce6-caf90a98337d",
   "metadata": {},
   "outputs": [],
   "source": [
    "import pandas as pd\n",
    "\n",
    "df = pd.read_excel('filename.xlsx', sheet_name='Sheet1')"
   ]
  },
  {
   "cell_type": "markdown",
   "id": "fec9fec9-ea85-4124-b66c-5b0589e53e23",
   "metadata": {},
   "source": [
    "### Q7. You have a Pandas DataFrame df that contains a column named 'Email' that contains email addresses in the format 'username@domain.com'. Write a Python function that creates a new column 'Username' in df that contains only the username part of each email address.\n",
    "\n",
    "The username is the part of the email address that appears before the '@' symbol. For example, if the\n",
    "email address is 'john.doe@example.com', the 'Username' column should contain 'john.doe'. Your\n",
    "function should extract the username from each email address and store it in the new 'Username'\n",
    "column."
   ]
  },
  {
   "cell_type": "code",
   "execution_count": 19,
   "id": "d1797a07-5e3e-4c41-b335-37fb46255973",
   "metadata": {},
   "outputs": [
    {
     "name": "stdout",
     "output_type": "stream",
     "text": [
      "   a  Values                    Email       Username\n",
      "0  1       4        Dishank@gmail.com        Dishank\n",
      "1  2       5          Rahul@gmail.com          Rahul\n",
      "2  3       6  Pradeep.Ingle@gmail.com  Pradeep.Ingle\n",
      "3  4       7          Bhumi@gmail.com          Bhumi\n"
     ]
    }
   ],
   "source": [
    "import pandas as pd\n",
    "\n",
    "def extract_username(df):\n",
    "    df['Username'] = df['Email'].apply(lambda x: x.split('@')[0])\n",
    "    return df\n",
    "\n",
    "data = {\"a\":[1,2,3,4],\n",
    "       \"Values\":[4,5,6,7],\n",
    "       \"Email\":[\"Dishank@gmail.com\" , \"Rahul@gmail.com\",\"Pradeep.Ingle@gmail.com\",\"Bhumi@gmail.com\"]}\n",
    "\n",
    "df =  pd.DataFrame(data)\n",
    "\n",
    "print(extract_username(df))"
   ]
  },
  {
   "cell_type": "markdown",
   "id": "782378fc-b83a-437d-9aac-a7c064628c3d",
   "metadata": {},
   "source": [
    "### Q8. You have a Pandas DataFrame df with columns 'A', 'B', and 'C'. Write a Python function that selects all rows where the value in column 'A' is greater than 5 and the value in column 'B' is less than 10. The function should return a new DataFrame that contains only the selected rows. For example, if df contains the following values:\n",
    "\n",
    "A B C <br> \n",
    "0 3 5 1 <br> \n",
    "1 8 2 7 <br> \n",
    "2 6 9 4 <br> \n",
    "3 2 3 5 <br> \n",
    "4 9 1 2 <br> \n",
    "Your function should select the following rows: \n",
    "\n",
    "A B C <br> \n",
    "1 8 2 7 <br> \n",
    "4 9 1 2 <br> \n",
    "The function should return a new DataFrame that contains only the selected rows."
   ]
  },
  {
   "cell_type": "code",
   "execution_count": 20,
   "id": "c6a97c7e-ccd4-428f-beaa-d08177d4d554",
   "metadata": {},
   "outputs": [
    {
     "name": "stdout",
     "output_type": "stream",
     "text": [
      "   A  B  C\n",
      "1  8  2  7\n",
      "2  6  9  4\n",
      "4  9  1  2\n"
     ]
    }
   ],
   "source": [
    "import pandas as pd\n",
    "\n",
    "def select_rows(df):\n",
    "    selected_df = df[(df['A'] > 5) & (df['B'] < 10)]\n",
    "    return selected_df\n",
    "\n",
    "data = {\"A\":[3,8,6,2,9],\n",
    "       \"B\":[5,2,9,3,1],\n",
    "       \"C\":[1,7,4,5,2]}\n",
    "\n",
    "df =  pd.DataFrame(data)\n",
    "\n",
    "print(select_rows(df))"
   ]
  },
  {
   "cell_type": "markdown",
   "id": "f1458210-8978-479e-ac74-05919cf8a487",
   "metadata": {
    "tags": []
   },
   "source": [
    "### Q9. Given a Pandas DataFrame df with a column 'Values', write a Python function to calculate the mean, median, and standard deviation of the values in the 'Values' column."
   ]
  },
  {
   "cell_type": "code",
   "execution_count": 36,
   "id": "ce6be1fb-fe26-43ef-88d1-8febab9cb40a",
   "metadata": {},
   "outputs": [
    {
     "name": "stdout",
     "output_type": "stream",
     "text": [
      "Mean: 5.5\n",
      "Median: 5.5\n",
      "Standard deviation: 1.2909944487358056\n"
     ]
    }
   ],
   "source": [
    "import pandas as pd\n",
    "\n",
    "def calculate_stats(df):\n",
    "    mean = df['Values'].mean()\n",
    "    median = df['Values'].median()\n",
    "    std = df['Values'].std()\n",
    "    print(\"Mean:\", mean)\n",
    "    print(\"Median:\", median)\n",
    "    print(\"Standard deviation:\", std)\n",
    "\n",
    "data = {\"a\":[1,2,3,4],\n",
    "       \"Values\":[4,5,6,7],\n",
    "       \"c\":[\"Dishank\" , \"Rahul\",\"Pradeep\",\"Bhumi\"]}\n",
    "\n",
    "df =  pd.DataFrame(data)\n",
    "\n",
    "calculate_stats(df)"
   ]
  },
  {
   "cell_type": "markdown",
   "id": "a0083b7a-1135-45d4-a2c6-23db1fcd8dda",
   "metadata": {},
   "source": [
    "### Q10. Given a Pandas DataFrame df with a column 'Sales' and a column 'Date', write a Python function to create a new column 'MovingAverage' that contains the moving average of the sales for the past 7 days for each row in the DataFrame. The moving average should be calculated using a window of size 7 and should include the current day."
   ]
  },
  {
   "cell_type": "code",
   "execution_count": 66,
   "id": "5147475a-93d3-4475-bf39-5bd097814520",
   "metadata": {},
   "outputs": [
    {
     "name": "stdout",
     "output_type": "stream",
     "text": [
      "         Date  Sales  MovingAverage\n",
      "0  2023-01-01     50      50.000000\n",
      "1  2023-01-02     35      42.500000\n",
      "2  2023-01-03     45      43.333333\n",
      "3  2023-01-04     55      46.250000\n",
      "4  2023-01-05     60      49.000000\n",
      "5  2023-01-06     70      52.500000\n",
      "6  2023-01-07     80      56.428571\n",
      "7  2023-01-08     75      60.000000\n",
      "8  2023-01-09     85      67.142857\n",
      "9  2023-01-10     90      73.571429\n",
      "10 2023-01-11     65      75.000000\n",
      "11 2023-01-12     55      74.285714\n",
      "12 2023-01-13     50      71.428571\n",
      "13 2023-01-14     40      65.714286\n",
      "14 2023-01-15     35      60.000000\n",
      "15 2023-01-16     45      54.285714\n",
      "16 2023-01-17     55      49.285714\n",
      "17 2023-01-18     60      48.571429\n",
      "18 2023-01-19     70      50.714286\n",
      "19 2023-01-20     80      55.000000\n",
      "20 2023-01-21     75      60.000000\n",
      "21 2023-01-22     85      67.142857\n",
      "22 2023-01-23     90      73.571429\n",
      "23 2023-01-24     65      75.000000\n",
      "24 2023-01-25     55      74.285714\n",
      "25 2023-01-26     50      71.428571\n",
      "26 2023-01-27     40      65.714286\n",
      "27 2023-01-28     35      60.000000\n",
      "28 2023-01-29     45      54.285714\n",
      "29 2023-01-30     55      49.285714\n",
      "30 2023-01-31     43      46.142857\n"
     ]
    }
   ],
   "source": [
    "import pandas as pd\n",
    "\n",
    "data = {'Date': pd.date_range(start='2023-01-01', end='2023-01-31'),\n",
    "        'Sales': [50, 35, 45, 55, 60, 70, 80, 75, 85, 90, 65, 55, 50, 40, 35, 45, 55, 60, 70, 80, \n",
    "                  75, 85, 90, 65, 55, 50, 40, 35, 45, 55, 43]}\n",
    "df = pd.DataFrame(data)\n",
    "ma = df['Sales'].rolling(window=7, min_periods=1).mean()\n",
    "\n",
    "df['MovingAverage'] = ma\n",
    "\n",
    "print(df)"
   ]
  },
  {
   "cell_type": "markdown",
   "id": "179abcbc-4b0d-4d47-86c4-f1a293edcf34",
   "metadata": {},
   "source": [
    "### Q11. You have a Pandas DataFrame df with a column 'Date'. Write a Python function that creates a new column 'Weekday' in the DataFrame. The 'Weekday' column should contain the weekday name (e.g. Monday, Tuesday) corresponding to each date in the 'Date' column. For example, if df contains the following values:\n",
    "\n",
    "Date </br>\n",
    "0 2023-01-01 </br>\n",
    "1 2023-01-02 </br>\n",
    "2 2023-01-03 </br>\n",
    "3 2023-01-04 </br>\n",
    "4 2023-01-05\n",
    "\n",
    "Your function should create the following DataFrame:\n",
    "\n",
    "Date Weekday </br>\n",
    "0 2023-01-01 Sunday </br>\n",
    "1 2023-01-02 Monday </br>\n",
    "2 2023-01-03 Tuesday </br>\n",
    "3 2023-01-04 Wednesday </br>\n",
    "4 2023-01-05 Thursday </br>\n",
    "The function should return the modified DataFrame."
   ]
  },
  {
   "cell_type": "code",
   "execution_count": 37,
   "id": "ae412d47-6206-4e64-a065-ad1e6c6fdb7e",
   "metadata": {},
   "outputs": [
    {
     "name": "stdout",
     "output_type": "stream",
     "text": [
      "        Date    Weekday\n",
      "0 2023-01-01     Sunday\n",
      "1 2023-01-02     Monday\n",
      "2 2023-01-03    Tuesday\n",
      "3 2023-01-04  Wednesday\n",
      "4 2023-01-05   Thursday\n"
     ]
    }
   ],
   "source": [
    "import pandas as pd\n",
    "\n",
    "def add_weekday(df):\n",
    "    df['Weekday'] = df['Date'].dt.strftime('%A')\n",
    "    return df\n",
    "\n",
    "df = pd.DataFrame({'Date': ['2023-01-01', '2023-01-02', '2023-01-03', '2023-01-04', '2023-01-05']})\n",
    "df['Date'] = pd.to_datetime(df['Date'])\n",
    "df = add_weekday(df)\n",
    "print(df)"
   ]
  },
  {
   "cell_type": "markdown",
   "id": "d1a32ca8-1443-4e18-b6cc-ac20eb097ebb",
   "metadata": {},
   "source": [
    "### Q12. Given a Pandas DataFrame df with a column 'Date' that contains timestamps, write a Python function to select all rows where the date is between '2023-01-01' and '2023-01-31'."
   ]
  },
  {
   "cell_type": "code",
   "execution_count": 76,
   "id": "ddd9c80b-6c53-4cc0-b5a7-222d39b2a759",
   "metadata": {},
   "outputs": [
    {
     "name": "stdout",
     "output_type": "stream",
     "text": [
      "         Date\n",
      "0  2023-01-01\n",
      "2  2023-01-02\n",
      "3  2023-01-15\n",
      "4  2023-01-20\n"
     ]
    }
   ],
   "source": [
    "import pandas as pd\n",
    "\n",
    "def select_date_range(df):\n",
    "    start_date = '2023-01-01'\n",
    "    end_date = '2023-01-31'\n",
    "    return df[(df['Date'] >= start_date) & (df['Date'] <= end_date)]\n",
    "\n",
    "df = pd.DataFrame({\n",
    "    'Date': ['2023-01-01', '2022-01-01', '2023-01-02', '2023-01-15', '2023-01-20', '2023-02-01']\n",
    "})\n",
    "\n",
    "new_df = select_date_range(df)\n",
    "print(new_df)\n",
    "\n"
   ]
  },
  {
   "cell_type": "markdown",
   "id": "129b1bf4-78c9-4344-bbbe-31ac97467f4d",
   "metadata": {},
   "source": [
    "### Q13. To use the basic functions of pandas, what is the first and foremost necessary library that needs to be imported?"
   ]
  },
  {
   "cell_type": "markdown",
   "id": "f703749b-6cca-4b19-be1d-c7568b84029c",
   "metadata": {},
   "source": [
    "The first and foremost necessary library that needs to be imported to use the basic functions of pandas is pandas itself. "
   ]
  },
  {
   "cell_type": "code",
   "execution_count": 69,
   "id": "b4ef0aa6-f46d-49cb-b9fe-0e5f41ee4dce",
   "metadata": {},
   "outputs": [],
   "source": [
    "import pandas as pd"
   ]
  },
  {
   "cell_type": "markdown",
   "id": "0948362a-595b-4652-942b-bba0cc9cd650",
   "metadata": {},
   "source": [
    "### "
   ]
  },
  {
   "cell_type": "markdown",
   "id": "b47ee5d2-51dd-4882-9eac-73f1c17aa0e2",
   "metadata": {},
   "source": [
    "### "
   ]
  },
  {
   "cell_type": "markdown",
   "id": "51630b93-4c33-49b9-b88a-3c4a1b2d48c7",
   "metadata": {},
   "source": [
    "### "
   ]
  }
 ],
 "metadata": {
  "kernelspec": {
   "display_name": "Python 3 (ipykernel)",
   "language": "python",
   "name": "python3"
  },
  "language_info": {
   "codemirror_mode": {
    "name": "ipython",
    "version": 3
   },
   "file_extension": ".py",
   "mimetype": "text/x-python",
   "name": "python",
   "nbconvert_exporter": "python",
   "pygments_lexer": "ipython3",
   "version": "3.10.8"
  }
 },
 "nbformat": 4,
 "nbformat_minor": 5
}
