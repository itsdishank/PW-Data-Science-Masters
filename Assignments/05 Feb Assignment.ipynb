{
 "cells": [
  {
   "cell_type": "markdown",
   "id": "66489ecf-7e8b-4697-9546-1246535295c7",
   "metadata": {},
   "source": [
    "### Q1. Explain Class and Object with respect to Object-Oriented Programming. Give a suitable example. "
   ]
  },
  {
   "cell_type": "markdown",
   "id": "595a0136-6c62-4cad-b102-1899b5a75e6b",
   "metadata": {},
   "source": [
    "A class is a blueprint for creating objects, providing initial values, and implementations of functions or methods. A class can be considered as a blueprint for making multiple objects, which have the same data members and functions."
   ]
  },
  {
   "cell_type": "markdown",
   "id": "c35dd66c-bebc-478a-bd82-2bbc69c95735",
   "metadata": {},
   "source": [
    "An object is an instance of a class. It is a specific implementation of a class, with its own state and behavior. When a class is instantiated, an object is created and its state is initialized with the values provided in the constructor. An object can access and modify its own state and invoke its own behavior."
   ]
  },
  {
   "cell_type": "code",
   "execution_count": null,
   "id": "99f1257d-756d-42ff-8e45-47ed340ab7af",
   "metadata": {},
   "outputs": [
    {
     "name": "stdout",
     "output_type": "stream",
     "text": [
      "Name: Rahul\n",
      "Salary: 10000\n",
      "Age: 2000\n",
      "********************\n",
      "Name: Pradeep\n",
      "Salary: 20000\n",
      "Age: 1999\n"
     ]
    }
   ],
   "source": [
    "class Employee:\n",
    "    def __init__(self, name, salary, age):\n",
    "        self.name = name\n",
    "        self.salary = salary\n",
    "        self.age = age\n",
    "    \n",
    "    def display_details(self):\n",
    "        return f\"Name: {self.name}\\nSalary: {self.salary}\\nAge: {self.age}\"\n",
    "\n",
    "Employee1 = Employee(\"Rahul\", \"10000\", 2000)\n",
    "print(Employee1.display_details())\n",
    "\n",
    "print(\"*\"*20)\n",
    "\n",
    "Employee2 = Employee(\"Pradeep\", \"20000\", 1999)\n",
    "print(Employee2.display_details())"
   ]
  },
  {
   "cell_type": "markdown",
   "id": "2432a9d1-c935-4c88-a3be-a8be9c3afaf8",
   "metadata": {},
   "source": [
    "### Q2. Name the four pillars of OOPs."
   ]
  },
  {
   "cell_type": "markdown",
   "id": "bebee408-a835-442b-b401-4a0197a72429",
   "metadata": {},
   "source": [
    "The four pillars of OOPs are\n",
    "1. Abstraction\n",
    "2. Encapsulation\n",
    "3. Inheritance\n",
    "4. Polymorphism"
   ]
  },
  {
   "cell_type": "markdown",
   "id": "74331b3c-1438-4ca4-93d8-41087f17d295",
   "metadata": {},
   "source": [
    "### Q3. Explain why the __init__() function is used. Give a suitable example. "
   ]
  },
  {
   "cell_type": "markdown",
   "id": "40ac5586-a21c-4315-b631-7ee2438b8245",
   "metadata": {},
   "source": [
    "The \\_\\_init\\_\\_ method, also known as the constructor method, is used in Python to initialize the state of an object when it is created. It is automatically called when an object is instantiated from a class and it can take parameters to initialize the attributes of the object. The __init__ method allows you to specify the initial state of an object and to create the object with specific values for its attributes."
   ]
  },
  {
   "cell_type": "code",
   "execution_count": 2,
   "id": "fd128f7e-ea3f-44d5-a62c-8a8d4b3042f9",
   "metadata": {},
   "outputs": [
    {
     "name": "stdout",
     "output_type": "stream",
     "text": [
      "Name: Rahul\n",
      "Salary: 10000\n",
      "Age: 2000\n",
      "********************\n",
      "Name: Pradeep\n",
      "Salary: 20000\n",
      "Age: 1999\n"
     ]
    }
   ],
   "source": [
    "class Employee:\n",
    "    def __init__(self, name, salary, age):\n",
    "        self.name = name\n",
    "        self.salary = salary\n",
    "        self.age = age\n",
    "    \n",
    "    def display_details(self):\n",
    "        return f\"Name: {self.name}\\nSalary: {self.salary}\\nAge: {self.age}\"\n",
    "\n",
    "Employee1 = Employee(\"Rahul\", \"10000\", 2000)\n",
    "print(Employee1.display_details())\n",
    "\n",
    "print(\"*\"*20)\n",
    "\n",
    "Employee2 = Employee(\"Pradeep\", \"20000\", 1999)\n",
    "print(Employee2.display_details())"
   ]
  },
  {
   "cell_type": "markdown",
   "id": "672d53b9-610a-4172-bb88-6926c4ecdb79",
   "metadata": {},
   "source": [
    "### Q4. Why self is used in OOPs? "
   ]
  },
  {
   "cell_type": "markdown",
   "id": "2f499949-d4eb-45d6-928c-ecf154dfe723",
   "metadata": {},
   "source": [
    "The keyword self is used in Object-Oriented Programming (OOP) in Python to refer to the instance of an object. It is used to access the attributes and methods of an object from within the object's own methods.In Python, every method in a class must have self as its first parameter, and this is automatically passed to the method when it is called."
   ]
  },
  {
   "cell_type": "markdown",
   "id": "ac4fafae-c091-4ef8-9ee2-5ebe68fc713c",
   "metadata": {},
   "source": [
    "### Q5. What is inheritance? Give an example for each type of inheritance. "
   ]
  },
  {
   "cell_type": "markdown",
   "id": "28c98002-479b-45f3-9400-2a5a95a706fa",
   "metadata": {},
   "source": [
    "Inheritance is a mechanism in Object-Oriented Programming (OOP) that allows you to create a new class based on an existing class. The new class inherits the attributes and behaviors of the existing class, and you can add or override methods to tailor the new class to your needs."
   ]
  }
 ],
 "metadata": {
  "kernelspec": {
   "display_name": "Python 3 (ipykernel)",
   "language": "python",
   "name": "python3"
  },
  "language_info": {
   "codemirror_mode": {
    "name": "ipython",
    "version": 3
   },
   "file_extension": ".py",
   "mimetype": "text/x-python",
   "name": "python",
   "nbconvert_exporter": "python",
   "pygments_lexer": "ipython3",
   "version": "3.10.8"
  }
 },
 "nbformat": 4,
 "nbformat_minor": 5
}
