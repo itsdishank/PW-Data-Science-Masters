{
 "cells": [
  {
   "cell_type": "markdown",
   "id": "908417c4-d553-4101-baf6-e589e3acff7e",
   "metadata": {},
   "source": [
    "### Q1. Which keyword is used to create a function? Create a function to return a list of odd numbers in the  range of 1 to 25. "
   ]
  },
  {
   "cell_type": "markdown",
   "id": "f67d5d0a-e28e-4be3-9257-35eba0e54b90",
   "metadata": {},
   "source": [
    "def keyword is used to create a function in python"
   ]
  },
  {
   "cell_type": "code",
   "execution_count": 11,
   "id": "7d30bb36-296c-45be-a5bc-4dbca79514e2",
   "metadata": {},
   "outputs": [
    {
     "name": "stdout",
     "output_type": "stream",
     "text": [
      "[1, 3, 5, 7, 9, 11, 13, 15, 17, 19, 21, 23]\n"
     ]
    }
   ],
   "source": [
    "def odd():\n",
    "    a = [i for i in range(1,25) if i%2!=0]\n",
    "    return a\n",
    "\n",
    "print(odd())"
   ]
  },
  {
   "cell_type": "markdown",
   "id": "163ae9ab-cb99-4118-bf53-dbe04506d8f0",
   "metadata": {
    "tags": []
   },
   "source": [
    "### Q2. Why *args and **kwargs is used in some functions? Create a function each for *args and **kwargs to  demonstrate their use. "
   ]
  },
  {
   "cell_type": "markdown",
   "id": "10f2c691-77e7-404e-a74b-a993b3a59523",
   "metadata": {},
   "source": [
    "*args is used to pass a variable number of positional arguments to a function. The * operator before the argument name args tells Python to treat the argument as a tuple of any number of positional arguments passed to the function. \n",
    "Example:"
   ]
  },
  {
   "cell_type": "code",
   "execution_count": 13,
   "id": "7a70b81d-0dec-4b07-b037-301126042496",
   "metadata": {},
   "outputs": [
    {
     "name": "stdout",
     "output_type": "stream",
     "text": [
      "10\n",
      "20\n",
      "30\n",
      "40\n",
      "50\n"
     ]
    }
   ],
   "source": [
    "def args(*args):\n",
    "    for arg in args:\n",
    "        print(arg)\n",
    "\n",
    "args(10, 20, 30, 40, 50)"
   ]
  },
  {
   "cell_type": "markdown",
   "id": "2e77e8e2-d1a6-4d67-932a-a975397d3eed",
   "metadata": {},
   "source": [
    "**kwargs is used to pass a variable number of keyword arguments to a function. The ** operator before the argument name kwargs tells Python to treat the argument as a dictionary of any number of keyword arguments passed to the function. \n",
    "Example:"
   ]
  },
  {
   "cell_type": "code",
   "execution_count": 14,
   "id": "bfb65a13-834d-4fdc-8bd4-016a59a2d3dd",
   "metadata": {},
   "outputs": [
    {
     "name": "stdout",
     "output_type": "stream",
     "text": [
      "first_name: Dishank\n",
      "last_name: Hanwate\n",
      "age: 22\n"
     ]
    }
   ],
   "source": [
    "def kwargs(**kwargs):\n",
    "    for key, value in kwargs.items():\n",
    "        print(f\"{key}: {value}\")\n",
    "\n",
    "kwargs(first_name=\"Dishank\", last_name=\"Hanwate\", age=22)"
   ]
  },
  {
   "cell_type": "markdown",
   "id": "e2002c60-0bab-428a-b1c7-1e009589f12f",
   "metadata": {
    "tags": []
   },
   "source": [
    "### Q3.  What is an iterator in python? Name the method used to initialise the iterator object and the method  used for iteration. Use these methods to print the first five elements of the given list [2, 4, 6, 8, 10, 12, 14, 16,  18, 20]. "
   ]
  },
  {
   "cell_type": "markdown",
   "id": "0c92ecc5-c39f-4abe-9d60-05dca7e194c1",
   "metadata": {},
   "source": [
    "To create an iterator object, you can use the iter method. The iter method returns an iterator object that implements the __next__ method, which is used to access the next item in the iterable. Here's an example:An iterator is an object that can be iterated (looped) upon. An object which will return data, one element at a time. An object that implements the iter method is considered an iterator."
   ]
  },
  {
   "cell_type": "markdown",
   "id": "d4f01102-88fe-4466-9e60-bc7a1a1fcb58",
   "metadata": {},
   "source": [
    "To create an iterator object, you can use the iter() method. The iter method returns an iterator object that implements the __next()__ method, which is used to access the next item in the iterable. Example:"
   ]
  },
  {
   "cell_type": "code",
   "execution_count": 18,
   "id": "83bbf375-d1b8-4c66-a75c-46f136f143cc",
   "metadata": {},
   "outputs": [
    {
     "name": "stdout",
     "output_type": "stream",
     "text": [
      "2\n",
      "4\n",
      "6\n",
      "8\n"
     ]
    }
   ],
   "source": [
    "l = [2, 4, 6, 8, 10, 12, 14, 16, 18, 20]\n",
    "l_iter = iter(l)\n",
    "\n",
    "for i in range(4):\n",
    "    print(next(l_iter))"
   ]
  },
  {
   "cell_type": "markdown",
   "id": "aafc7e4a-7b53-43f5-9e39-cf811039857b",
   "metadata": {},
   "source": [
    "### Q4.  What is a generator function in python? Why yield keyword is used? Give an example of a generator  function. "
   ]
  },
  {
   "cell_type": "markdown",
   "id": "d7b03681-0d6b-4413-80f2-34b0ee242488",
   "metadata": {},
   "source": [
    "a generator function is a special type of function that generates a generator object. A generator function contains the yield keyword instead of the return keyword. When a generator function is called, it returns a generator object but does not execute the function code."
   ]
  },
  {
   "cell_type": "markdown",
   "id": "d3d85e6e-f1fd-44c6-93a2-3caac646b099",
   "metadata": {},
   "source": [
    "The yield keyword is used to produce a value from the generator function and temporarily suspends the execution of the function. The state of the generator function is saved, so the next time the next method is called, the execution resumes from where it left off."
   ]
  },
  {
   "cell_type": "code",
   "execution_count": 19,
   "id": "db0f180b-0511-4d51-a895-39d22b69deb8",
   "metadata": {},
   "outputs": [
    {
     "name": "stdout",
     "output_type": "stream",
     "text": [
      "0\n",
      "1\n",
      "4\n",
      "9\n",
      "16\n"
     ]
    }
   ],
   "source": [
    "def square_numbers(n):\n",
    "    for i in range(n):\n",
    "        yield i**2\n",
    "\n",
    "squared_numbers = square_numbers(5)\n",
    "\n",
    "for num in squared_numbers:\n",
    "    print(num)"
   ]
  },
  {
   "cell_type": "markdown",
   "id": "3262d4b4-5dc0-4aac-aa34-4a2bd09e31b7",
   "metadata": {},
   "source": [
    "### Q5. Create a generator function for prime numbers less than 1000. Use the next() method to print the  first 20 prime numbers. "
   ]
  },
  {
   "cell_type": "code",
   "execution_count": 35,
   "id": "a7447261-672b-412e-94d3-104c13ff4d1a",
   "metadata": {},
   "outputs": [
    {
     "ename": "SyntaxError",
     "evalue": "expected ':' (3703048227.py, line 10)",
     "output_type": "error",
     "traceback": [
      "\u001b[0;36m  Cell \u001b[0;32mIn[35], line 10\u001b[0;36m\u001b[0m\n\u001b[0;31m    for i in range(20)\u001b[0m\n\u001b[0m                      ^\u001b[0m\n\u001b[0;31mSyntaxError\u001b[0m\u001b[0;31m:\u001b[0m expected ':'\n"
     ]
    }
   ],
   "source": [
    "def prime():\n",
    "    for i in range(2,1000):\n",
    "        isPrime = True\n",
    "        for j in range(2,int(i/2)):\n",
    "            if i%j==0:\n",
    "                isPrime = False\n",
    "        if isPrime:\n",
    "            yield i\n",
    "            \n",
    "for i in range(20)\n",
    "    print(prime())"
   ]
  },
  {
   "cell_type": "code",
   "execution_count": null,
   "id": "c6c8d011-112c-4d9c-924a-a10a3e0bb7fa",
   "metadata": {},
   "outputs": [],
   "source": []
  },
  {
   "cell_type": "code",
   "execution_count": null,
   "id": "6563c155-ed1a-42bf-88be-6e285f852cfe",
   "metadata": {},
   "outputs": [],
   "source": []
  }
 ],
 "metadata": {
  "kernelspec": {
   "display_name": "Python 3 (ipykernel)",
   "language": "python",
   "name": "python3"
  },
  "language_info": {
   "codemirror_mode": {
    "name": "ipython",
    "version": 3
   },
   "file_extension": ".py",
   "mimetype": "text/x-python",
   "name": "python",
   "nbconvert_exporter": "python",
   "pygments_lexer": "ipython3",
   "version": "3.10.8"
  }
 },
 "nbformat": 4,
 "nbformat_minor": 5
}
