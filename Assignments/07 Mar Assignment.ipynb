{
 "cells": [
  {
   "cell_type": "markdown",
   "id": "e994d972-9916-4020-aaad-2de9ec9678ad",
   "metadata": {},
   "source": [
    "### Q1. What are the three measures of central tendency?"
   ]
  },
  {
   "cell_type": "markdown",
   "id": "a732420c-397e-481d-8f69-6ed63b550a54",
   "metadata": {},
   "source": [
    "The three measures of central tendency are:\n",
    "\n",
    "Mean: The mean is the sum of all values in a data set divided by the number of values. It represents the average value of the data set.\n",
    "\n",
    "Median: The median is the middle value in a data set when the values are arranged in order. It is the value that separates the higher half of the data set from the lower half.\n",
    "\n",
    "Mode: The mode is the value that appears most frequently in a data set. It is the value that occurs with the highest frequency."
   ]
  },
  {
   "cell_type": "markdown",
   "id": "8c9bce5d-217e-4eb7-b2a3-8108d22d949d",
   "metadata": {},
   "source": [
    "### Q2. What is the difference between the mean, median, and mode? How are they used to measure the central tendency of a dataset?"
   ]
  },
  {
   "cell_type": "markdown",
   "id": "bffde6b3-e967-4d37-a5b0-b6be6936c2d5",
   "metadata": {},
   "source": [
    "The mean, median, and mode are all measures of central tendency that are used to describe the typical or central value of a dataset. However, they differ in how they are calculated and what information they provide about the data.\n",
    "\n",
    "The mean is calculated by adding up all the values in the dataset and dividing by the total number of values. It is influenced by extreme values or outliers, which can pull the mean away from the center of the data. The mean is often used when the data is normally distributed.\n",
    "\n",
    "The median is the middle value in a dataset when the values are arranged in order. It is not affected by extreme values or outliers, and it is useful when the data is skewed or has extreme values. To find the median, you first need to arrange the data in order from lowest to highest (or highest to lowest) and then find the middle value.\n",
    "\n",
    "The mode is the most frequently occurring value in a dataset. It is useful when you want to know which value appears most often, or when the data is categorical or nominal. If there is more than one value that appears with the same frequency, then there can be multiple modes."
   ]
  },
  {
   "cell_type": "markdown",
   "id": "3b216df8-dd7b-470a-af6a-984b8f56f7ae",
   "metadata": {},
   "source": [
    "### Q3. Measure the three measures of central tendency for the given height data:\n",
    "[178,177,176,177,178.2,178,175,179,180,175,178.9,176.2,177,172.5,178,176.5]"
   ]
  },
  {
   "cell_type": "markdown",
   "id": "695c0c63-00de-4625-8281-4214f77ab96d",
   "metadata": {},
   "source": [
    "First, let's arrange the data in order:\n",
    "\n",
    "[172.5, 175, 175, 176, 176.2, 176.5, 177, 177, 178, 178, 178, 178.2, 178.9, 179, 180]\n",
    "\n",
    "Next, we can use the formulas to calculate the measures of central tendency:\n",
    "\n",
    "Mean = (172.5+175+175+176+176.2+176.5+177+177+178+178+178+178.2+178.9+179+180) / 15<br>\n",
    "Mean = 176.93\n",
    "\n",
    "Median = (176.5 + 177) / 2<br>\n",
    "Median = 176.75\n",
    "\n",
    "Mode = 178\n",
    "\n",
    "Therefore, the mean height is 176.93 cm, the median height is 176.75 cm, and the mode is 178 cm."
   ]
  },
  {
   "cell_type": "markdown",
   "id": "275c0191-f867-4174-b53f-fba794e0159c",
   "metadata": {},
   "source": [
    "### Q4. Find the standard deviation for the given data:\n",
    "[178,177,176,177,178.2,178,175,179,180,175,178.9,176.2,177,172.5,178,176.5]"
   ]
  },
  {
   "cell_type": "code",
   "execution_count": 6,
   "id": "a0ce1704-852d-48f5-9727-8b7b570b0bb0",
   "metadata": {},
   "outputs": [
    {
     "data": {
      "text/plain": [
       "1.7885814036548633"
      ]
     },
     "execution_count": 6,
     "metadata": {},
     "output_type": "execute_result"
    }
   ],
   "source": [
    "import numpy as np\n",
    "\n",
    "l = [178,177,176,177,178.2,178,175,179,180,175,178.9,176.2,177,172.5,178,176.5]\n",
    "\n",
    "np.std(l)"
   ]
  },
  {
   "cell_type": "markdown",
   "id": "0da947ea-580e-4630-a75d-5c9b6aa58921",
   "metadata": {},
   "source": [
    "### Q5. How are measures of dispersion such as range, variance, and standard deviation used to describe the spread of a dataset? Provide an example."
   ]
  },
  {
   "cell_type": "markdown",
   "id": "0cea65df-02e6-46b8-b516-b767470e2e10",
   "metadata": {},
   "source": [
    "The range is the difference between the maximum and minimum values in a dataset. It provides a simple measure of the spread of the data, but it is sensitive to outliers.\n",
    "\n",
    "The variance is a measure of how far the values in a dataset are from the mean. It is calculated by taking the sum of the squared differences between each value and the mean, divided by the total number of values. The variance is useful because it considers all values in the dataset, but it is difficult to interpret because it is expressed in squared units.\n",
    "\n",
    "The standard deviation is the square root of the variance and is expressed in the same units as the original data. It is the most commonly used measure of dispersion because it is easy to interpret and gives a more intuitive sense of the spread of the data.\n",
    "\n",
    "For example, let's say we have two datasets that represent the number of hours students spend studying for a test. The first dataset has the following values: [4, 5, 6, 4, 7, 8, 5, 6, 4, 6]. The second dataset has the following values: [2, 4, 8, 12, 16, 20, 24, 28, 32, 36].\n",
    "\n",
    "Both datasets have a mean of 5.8 hours. However, the first dataset has a smaller range (3 hours) and a smaller standard deviation (1.37 hours) compared to the second dataset, which has a larger range (34 hours) and a larger standard deviation (12.65 hours). This suggests that the second dataset is more spread out or variable, and the students in the second dataset have more diverse study habits."
   ]
  },
  {
   "cell_type": "markdown",
   "id": "3ab8b145-233f-4d93-97bb-8e0e9b3d6b6e",
   "metadata": {},
   "source": [
    "### Q6. What is a Venn diagram?"
   ]
  },
  {
   "cell_type": "markdown",
   "id": "ee3776a6-2a64-4eed-bbfd-8d9d028c231e",
   "metadata": {},
   "source": [
    "A Venn diagram is a graphical representation of sets using circles or other geometric shapes. It is used to show the relationships between different sets or groups of objects, elements, or concepts. In a Venn diagram, each set is represented by a circle, and the circles overlap to show how the sets are related to each other.\n",
    "\n",
    "The overlapping region represents the elements that are common to both sets. The areas outside the circles represent the elements that are not part of either set. The size of each circle represents the number of elements in that set. Venn diagrams are often used in mathematics, logic, statistics, and other fields to visually illustrate concepts such as set theory, probability, and logic."
   ]
  },
  {
   "cell_type": "markdown",
   "id": "b809f140-a5fa-4cd0-b42d-23ad744915a9",
   "metadata": {},
   "source": [
    "### Q7. For the two given sets A = (2,3,4,5,6,7) & B = (0,2,6,8,10). Find\n",
    "(i) A ∩ B<br>\n",
    "(ii) A ⋃ B"
   ]
  },
  {
   "cell_type": "markdown",
   "id": "3085f685-6773-4699-b823-e18ad1b71d04",
   "metadata": {},
   "source": [
    "1. A ∩ B = {2,6}\n",
    "2. A ⋃ B = {0,2,3,4,5,6,7,8,10}"
   ]
  },
  {
   "cell_type": "markdown",
   "id": "831789a5-0bd0-4307-b8ee-f4269472ca0a",
   "metadata": {},
   "source": [
    "### Q8. What do you understand about skewness in data?"
   ]
  },
  {
   "cell_type": "markdown",
   "id": "8c72b35a-b23e-408d-ab86-18a605e36ae5",
   "metadata": {},
   "source": [
    "Skewness is a statistical measure that describes the asymmetry of a probability distribution. In data analysis, skewness is a measure of the extent to which a dataset is skewed or distorted from a symmetrical bell curve. A symmetrical distribution has a skewness value of zero, indicating that the distribution is equally balanced on both sides of the mean.\n",
    "\n",
    "A positively skewed distribution has a tail on the right-hand side, indicating that the majority of the data is concentrated on the left-hand side of the distribution. This type of distribution has a positive skewness value. A negatively skewed distribution has a tail on the left-hand side, indicating that the majority of the data is concentrated on the right-hand side of the distribution. This type of distribution has a negative skewness value."
   ]
  },
  {
   "cell_type": "markdown",
   "id": "98cdd402-29fa-4451-909e-0686cd21e97b",
   "metadata": {},
   "source": [
    "### Q9. If a data is right skewed then what will be the position of median with respect to mean?"
   ]
  },
  {
   "cell_type": "markdown",
   "id": "36e99538-acdc-492f-9b2b-19ba775c7f6c",
   "metadata": {},
   "source": [
    "If a dataset is right-skewed, then the majority of the data is concentrated on the left-hand side of the distribution, with a long tail stretching out to the right. In such cases, the mean is typically greater than the median. This is because the mean is influenced by the extreme values on the right-hand side of the distribution, while the median is not affected by these outliers."
   ]
  },
  {
   "cell_type": "markdown",
   "id": "aec19057-f77e-4c1b-9e5a-54103505e9ab",
   "metadata": {},
   "source": [
    "### Q10. Explain the difference between covariance and correlation. How are these measures used in statistical analysis?"
   ]
  },
  {
   "cell_type": "markdown",
   "id": "206cb26b-38d0-4695-aabe-c843b108bb57",
   "metadata": {},
   "source": [
    "Covariance measures the degree to which two variables vary together. It is a measure of the strength and direction of the linear relationship between two variables. A positive covariance indicates that the two variables tend to move in the same direction, while a negative covariance indicates that the two variables tend to move in opposite directions. However, covariance does not provide information about the strength or magnitude of the relationship between the two variables. \n",
    "\n",
    "Correlation, on the other hand, is a standardized measure of the linear relationship between two variables. It provides information about the strength and direction of the relationship, ranging from -1 to 1. A correlation of -1 indicates a perfect negative relationship, a correlation of 0 indicates no relationship, and a correlation of 1 indicates a perfect positive relationship."
   ]
  },
  {
   "cell_type": "markdown",
   "id": "f8f41dd8-d15a-440f-9189-7597cefd8b0e",
   "metadata": {},
   "source": [
    "### Q11. What is the formula for calculating the sample mean? Provide an example calculation for a dataset."
   ]
  },
  {
   "cell_type": "markdown",
   "id": "7cf20d5c-7b81-4ac2-b00b-fc5b6aeee8ff",
   "metadata": {},
   "source": [
    "The formula for calculating the sample mean is:\n",
    "\n",
    "sample mean = (sum of all data points) / (number of data points)\n",
    "\n",
    "Suppose we have the following dataset of test scores: 80, 85, 90, 75, 70.<br>\n",
    "sample mean = (80 + 85 + 90 + 75 + 70) / 5<br>\n",
    "sample mean = 400 / 5<br>\n",
    "sample mean = 80\n",
    "\n",
    "Therefore, the sample mean for this dataset is 80."
   ]
  },
  {
   "cell_type": "markdown",
   "id": "55b0dbb5-a00c-406b-8c54-c3e8fc934593",
   "metadata": {},
   "source": [
    "### Q12. For a normal distribution data what is the relationship between its measure of central tendency?"
   ]
  },
  {
   "cell_type": "markdown",
   "id": "7a6796f4-3ccc-4e3a-8e4d-499dc88197f2",
   "metadata": {},
   "source": [
    "For a normal distribution, the three measures of central tendency (mean, median, and mode) are all equal.\n",
    "\n",
    "This means that if a dataset follows a normal distribution, the mean, median, and mode will all be at the same point in the center of the distribution.\n",
    "\n",
    "This is because a normal distribution is symmetric, with data points evenly distributed on either side of the center. As a result, the mean, median, and mode will all be located at the peak of the curve in the center of the distribution."
   ]
  },
  {
   "cell_type": "markdown",
   "id": "45c55fb2-e372-4a90-b8fc-6384fc48e50b",
   "metadata": {},
   "source": [
    "### Q13. How is covariance different from correlation?"
   ]
  },
  {
   "cell_type": "markdown",
   "id": "cd6abe3d-8690-424c-9048-44f49daa6e80",
   "metadata": {},
   "source": [
    "ovariance is a measure of the joint variability of two variables. It indicates the degree to which two variables are linearly associated. Specifically, it measures how much two variables change together. A positive covariance means that when one variable increases, the other variable tends to increase as well, while a negative covariance means that when one variable increases, the other variable tends to decrease.\n",
    "\n",
    "However, covariance is affected by the scale of the variables, and it is difficult to interpret the magnitude of the covariance. For example, the covariance between height (in meters) and weight (in kilograms) will be different from the covariance between height (in inches) and weight (in pounds), even though the relationship between the two variables is the same in both cases.\n",
    "\n",
    "Correlation, on the other hand, is a standardized measure of the relationship between two variables. It ranges from -1 to 1, where a value of -1 indicates a perfect negative correlation, a value of 0 indicates no correlation, and a value of 1 indicates a perfect positive correlation. Correlation is not affected by the scale of the variables and is easier to interpret than covariance."
   ]
  },
  {
   "cell_type": "markdown",
   "id": "2acc93b3-65d5-459d-aa96-1177c32633de",
   "metadata": {},
   "source": [
    "### Q14. How do outliers affect measures of central tendency and dispersion? Provide an example."
   ]
  },
  {
   "cell_type": "markdown",
   "id": "db19549e-f7c6-400c-a1ee-6e8162c8f546",
   "metadata": {},
   "source": [
    "Outliers are data points that deviate significantly from the other values in a dataset. They can have a significant impact on measures of central tendency and dispersion.\n",
    "\n",
    "When calculating measures of central tendency such as the mean, outliers can skew the result by pulling it towards the extreme end of the distribution. For example, let's say a class of students takes a test and scores are as follows: 70, 80, 90, 85, 95, and 10. The mean score is (70+80+90+85+95+10)/6 = 68.3. However, the outlier score of 10 has a significant effect on the mean, making it lower than the other scores might suggest.\n",
    "\n",
    "Similarly, outliers can affect measures of dispersion such as the standard deviation or variance. In this case, the presence of outliers can make the data appear more spread out than it actually is. For example, if we use the same dataset as above, the standard deviation is 29.4. However, if we remove the outlier, the standard deviation becomes 9.7, which is a significant decrease."
   ]
  }
 ],
 "metadata": {
  "kernelspec": {
   "display_name": "Python 3 (ipykernel)",
   "language": "python",
   "name": "python3"
  },
  "language_info": {
   "codemirror_mode": {
    "name": "ipython",
    "version": 3
   },
   "file_extension": ".py",
   "mimetype": "text/x-python",
   "name": "python",
   "nbconvert_exporter": "python",
   "pygments_lexer": "ipython3",
   "version": "3.10.8"
  }
 },
 "nbformat": 4,
 "nbformat_minor": 5
}
