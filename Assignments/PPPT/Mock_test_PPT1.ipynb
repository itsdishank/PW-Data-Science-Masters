{
 "cells": [
  {
   "cell_type": "code",
   "execution_count": 4,
   "id": "3ab4d05f-1242-4f35-8e03-ebe3dc1dd543",
   "metadata": {},
   "outputs": [
    {
     "name": "stdout",
     "output_type": "stream",
     "text": [
      "[1, 3, 12, 0, 0]\n",
      "[0]\n"
     ]
    }
   ],
   "source": [
    "def moveZeroes(nums):\n",
    "    zero_count = 0  # Count of zeros encountered\n",
    "\n",
    "    # Iterate through the array and move non-zero elements to the front\n",
    "    for i in range(len(nums)):\n",
    "        if nums[i] != 0:\n",
    "            nums[i - zero_count] = nums[i]\n",
    "        else:\n",
    "            zero_count += 1\n",
    "\n",
    "    # Fill the remaining positions with zeros\n",
    "    for i in range(len(nums) - zero_count, len(nums)):\n",
    "        nums[i] = 0\n",
    "\n",
    "    return nums\n",
    "\n",
    "nums = [0,1,0,3,12]\n",
    "print(moveZeroes(nums))\n",
    "\n",
    "nums = [0]\n",
    "print(moveZeroes(nums))"
   ]
  }
 ],
 "metadata": {
  "kernelspec": {
   "display_name": "Python 3 (ipykernel)",
   "language": "python",
   "name": "python3"
  },
  "language_info": {
   "codemirror_mode": {
    "name": "ipython",
    "version": 3
   },
   "file_extension": ".py",
   "mimetype": "text/x-python",
   "name": "python",
   "nbconvert_exporter": "python",
   "pygments_lexer": "ipython3",
   "version": "3.10.8"
  }
 },
 "nbformat": 4,
 "nbformat_minor": 5
}
