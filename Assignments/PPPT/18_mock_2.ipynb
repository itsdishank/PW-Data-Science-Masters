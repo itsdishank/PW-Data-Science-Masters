{
 "cells": [
  {
   "cell_type": "markdown",
   "id": "c1b3769c-002d-4b29-8f11-ae3f2207dee4",
   "metadata": {},
   "source": [
    "18. Implement a decorator function called ‘timer’ that measures the execution time of a function. The ‘timer’ decorator should print the time taken by the decorated function to execute. Use the ‘time’ module in Python to calculate the execution time.\n",
    "\n",
    "Example:\n",
    "\n",
    "import time\n",
    "\n",
    "@timer\n",
    "def my_function():\n",
    "    # Function code goes here\n",
    "    time.sleep(2)\n",
    "\n",
    "my_function()\n",
    "\n",
    "Output:\n",
    "\"Execution time: 2.00123 seconds\""
   ]
  },
  {
   "cell_type": "code",
   "execution_count": 2,
   "id": "c5162a05-b5de-4ef2-9bf6-c97aed3c14a0",
   "metadata": {},
   "outputs": [
    {
     "name": "stdout",
     "output_type": "stream",
     "text": [
      "Execution time: 2.00143 seconds\n"
     ]
    }
   ],
   "source": [
    "import time\n",
    "\n",
    "def timer(func):\n",
    "    def wrapper(*args, **kwargs):\n",
    "        start_time = time.time()\n",
    "        result = func(*args, **kwargs)\n",
    "        end_time = time.time()\n",
    "        execution_time = end_time - start_time\n",
    "        print(f\"Execution time: {execution_time:.5f} seconds\")\n",
    "        return result\n",
    "    return wrapper\n",
    "\n",
    "@timer\n",
    "def my_function():\n",
    "    time.sleep(2)\n",
    "\n",
    "my_function()\n"
   ]
  }
 ],
 "metadata": {
  "kernelspec": {
   "display_name": "Python 3 (ipykernel)",
   "language": "python",
   "name": "python3"
  },
  "language_info": {
   "codemirror_mode": {
    "name": "ipython",
    "version": 3
   },
   "file_extension": ".py",
   "mimetype": "text/x-python",
   "name": "python",
   "nbconvert_exporter": "python",
   "pygments_lexer": "ipython3",
   "version": "3.10.8"
  }
 },
 "nbformat": 4,
 "nbformat_minor": 5
}
