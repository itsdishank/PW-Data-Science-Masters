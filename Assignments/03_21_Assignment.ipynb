{
 "cells": [
  {
   "cell_type": "markdown",
   "id": "02771fd7-a8df-4f98-93c1-a5c6dddf822f",
   "metadata": {},
   "source": [
    "### Q1. What is the difference between Ordinal Encoding and Label Encoding? Provide an example of when you might choose one over the other."
   ]
  },
  {
   "cell_type": "markdown",
   "id": "656512d1-91db-4392-850b-dcfa88ee72ad",
   "metadata": {},
   "source": [
    "Ordinal Encoding is a technique where categorical variables are assigned numerical values based on their order or rank. Label Encoding, on the other hand, assigns unique numerical labels to each category without considering any order or rank.\n",
    "\n",
    "An example where you might choose Ordinal Encoding is when dealing with a feature like education level, where there is a clear ordering (e.g., \"High School\" < \"Bachelor's\" < \"Master's\"). In this case, preserving the order is important for capturing the relationship between the categories.\n",
    "\n",
    "Label Encoding might be preferred when dealing with nominal variables, such as colors (e.g., \"Red,\" \"Blue,\" \"Green\"). Here, there is no inherent order, and assigning arbitrary numerical labels can effectively represent the different categories without implying any relationships.\n",
    "\n",
    "It's important to note that the choice between the two encoding techniques depends on the nature of the data and the specific requirements of the problem at hand."
   ]
  },
  {
   "cell_type": "markdown",
   "id": "400558a3-8834-4d95-ab57-1fa54bb94cbc",
   "metadata": {},
   "source": [
    "### Q2. Explain how Target Guided Ordinal Encoding works and provide an example of when you might use it in a machine learning project."
   ]
  },
  {
   "cell_type": "markdown",
   "id": "97be921d-9c52-4ca9-a9c3-8360e8137e79",
   "metadata": {},
   "source": [
    "Target Guided Ordinal Encoding is a technique where categorical variables are encoded based on the relationship between the categories and the target variable. It involves calculating the mean or median target value for each category and then assigning a numerical value based on this information.\n",
    "\n",
    "Here's an example of when you might use Target Guided Ordinal Encoding: Let's say you have a dataset with a categorical feature like \"City\" and a binary target variable indicating whether a customer made a purchase. You want to encode the \"City\" feature in a way that captures the relationship between cities and the likelihood of a purchase.\n",
    "\n",
    "In this case, you can calculate the mean purchase rate for each city (the percentage of customers from that city who made a purchase) and use those values to assign ordinal labels to the cities. Cities with a higher purchase rate would be assigned a higher label, indicating a higher likelihood of purchase.\n",
    "\n",
    "By incorporating target information into the encoding process, Target Guided Ordinal Encoding can potentially improve the predictive power of the categorical variable, as it takes into account the relationship between the categories and the target variable"
   ]
  },
  {
   "cell_type": "markdown",
   "id": "e0644e6b-c832-4f44-9083-50df669bce22",
   "metadata": {},
   "source": [
    "### Q3. Define covariance and explain why it is important in statistical analysis. How is covariance calculated?"
   ]
  },
  {
   "cell_type": "markdown",
   "id": "e53477b8-f1aa-4174-8621-9f78ba6569ba",
   "metadata": {},
   "source": [
    "Covariance is a statistical measure that quantifies the relationship between two random variables. It indicates how changes in one variable correspond to changes in another variable.\n",
    "\n",
    "Covariance is important in statistical analysis because it provides insights into the direction and strength of the relationship between variables. It helps determine whether the variables move together (positive covariance), move in opposite directions (negative covariance), or have no significant relationship (zero covariance). Covariance is particularly useful in understanding the linear association between variables.\n",
    "\n",
    "Mathematically, covariance between two variables X and Y is calculated as the average of the products of the deviations of X from its mean and Y from its mean. The formula for covariance is:\n",
    "\n",
    "Cov(X, Y) = Σ((X[i] - mean(X)) * (Y[i] - mean(Y))) / (n - 1)\n",
    "\n",
    "Where X[i] and Y[i] are the individual values of X and Y, mean(X) and mean(Y) are the means of X and Y, and n is the number of data points."
   ]
  },
  {
   "cell_type": "markdown",
   "id": "0ab0eb4d-a619-49c8-a8d1-fdad730d7cc4",
   "metadata": {},
   "source": [
    "### Q4. For a dataset with the following categorical variables: Color (red, green, blue), Size (small, medium, large), and Material (wood, metal, plastic), perform label encoding using Python's scikit-learn library. Show your code and explain the output."
   ]
  },
  {
   "cell_type": "code",
   "execution_count": 1,
   "id": "999eee03-e39c-4d9e-b112-be4f4cf935b1",
   "metadata": {},
   "outputs": [
    {
     "name": "stdout",
     "output_type": "stream",
     "text": [
      "   Color  Size  Material\n",
      "0      2     2         2\n",
      "1      1     1         0\n",
      "2      0     0         1\n",
      "3      0     2         1\n",
      "4      2     1         0\n"
     ]
    }
   ],
   "source": [
    "from sklearn.preprocessing import LabelEncoder\n",
    "import pandas as pd\n",
    "\n",
    "# Create a sample dataset\n",
    "data = {\n",
    "    'Color': ['red', 'green', 'blue', 'blue', 'red'],\n",
    "    'Size': ['small', 'medium', 'large', 'small', 'medium'],\n",
    "    'Material': ['wood', 'metal', 'plastic', 'plastic', 'metal']\n",
    "}\n",
    "\n",
    "df = pd.DataFrame(data)\n",
    "\n",
    "# Apply label encoding to categorical variables\n",
    "label_encoder = LabelEncoder()\n",
    "df_encoded = df.apply(label_encoder.fit_transform)\n",
    "\n",
    "# Print the encoded dataframe\n",
    "print(df_encoded)\n"
   ]
  },
  {
   "cell_type": "markdown",
   "id": "ca3db46a-c873-4f9d-a42d-9639c7ef7f61",
   "metadata": {},
   "source": [
    "The encoded DataFrame has three columns: Color, Size, and Material. Each unique category in each column is assigned a unique label.\n",
    "\n",
    "In the Color column:\n",
    "\n",
    "* \"red\" is encoded as 2\n",
    "* \"green\" is encoded as 1\n",
    "* \"blue\" is encoded as 0\n",
    "\n",
    "In the Size column:\n",
    "\n",
    "* \"small\" is encoded as 2\n",
    "* \"medium\" is encoded as 1\n",
    "* \"large\" is encoded as 0\n",
    "\n",
    "In the Material column:\n",
    "\n",
    "* \"wood\" is encoded as 2\n",
    "* \"metal\" is encoded as 0\n",
    "* \"plastic\" is encoded as 1\n",
    "\n",
    "The label encoding is performed independently for each column, without considering any relationships between the categories. The encoding simply maps each unique category to a numerical label."
   ]
  },
  {
   "cell_type": "markdown",
   "id": "002319d6-3023-4a12-8167-797adf4268db",
   "metadata": {},
   "source": [
    "### Q5. Calculate the covariance matrix for the following variables in a dataset: Age, Income, and Education level. Interpret the results."
   ]
  },
  {
   "cell_type": "code",
   "execution_count": 3,
   "id": "007f7c50-ec7e-4bc6-8986-568f12ad8338",
   "metadata": {},
   "outputs": [
    {
     "name": "stdout",
     "output_type": "stream",
     "text": [
      "               Age      Income  Education\n",
      "Age           35.3     46250.0       13.4\n",
      "Income     46250.0  62500000.0    17500.0\n",
      "Education     13.4     17500.0        5.2\n"
     ]
    }
   ],
   "source": [
    "import pandas as pd\n",
    "\n",
    "# Create a sample dataset\n",
    "data = {\n",
    "    'Age': [30, 40, 25, 35, 28],\n",
    "    'Income': [50000, 60000, 40000, 55000, 45000],\n",
    "    'Education': [12, 16, 10, 14, 12]\n",
    "}\n",
    "\n",
    "df = pd.DataFrame(data)\n",
    "\n",
    "# Calculate the covariance matrix\n",
    "covariance_matrix = df.cov()\n",
    "\n",
    "# Print the covariance matrix\n",
    "print(covariance_matrix)\n"
   ]
  },
  {
   "cell_type": "markdown",
   "id": "55d16560-9590-44b7-983e-5ffb2bc0395e",
   "metadata": {},
   "source": [
    "Interpretation of result:\n",
    "\n",
    "* The covariance between Age and Income is 46250.0. This positive covariance suggests a positive linear relationship between Age and Income, indicating that as Age increases, Income tends to increase as well.\n",
    "* The covariance between Age and Education is 13.4. This positive covariance implies a weak positive linear relationship between Age and Education level, suggesting that, on average, as Age increases, Education level tends to slightly increase.\n",
    "* The covariance between Income and Education is 17,500.0. This positive covariance indicates a weak positive linear relationship between Income and Education level, implying that, on average, as Income increases, Education level tends to slightly increase."
   ]
  },
  {
   "cell_type": "markdown",
   "id": "88450464-be89-4de8-a6bc-6ecd274a30d8",
   "metadata": {},
   "source": [
    "### Q6. You are working on a machine learning project with a dataset containing several categorical variables, including \"Gender\" (Male/Female), \"Education Level\" (High School/Bachelor's/Master's/PhD), and \"Employment Status\" (Unemployed/Part-Time/Full-Time). Which encoding method would you use for each variable, and why?"
   ]
  },
  {
   "cell_type": "markdown",
   "id": "d8822bbc-0d1b-44b5-b4d8-1ae0f958daee",
   "metadata": {},
   "source": [
    "Gender: Since there are only two categories (Male/Female), you can use binary encoding or label encoding. Binary encoding assigns 0 and 1 to the two categories, while label encoding assigns consecutive numerical labels (e.g., 0 and 1). Both methods are suitable for binary variables, and the choice between them depends on personal preference or specific requirements.\n",
    "\n",
    "Education Level: Ordinal encoding would be suitable for the \"Education Level\" variable. Ordinal encoding assigns numerical values based on the order or rank of the categories. In this case, you can assign values like 0, 1, 2, and 3 to the categories \"High School,\" \"Bachelor's,\" \"Master's,\" and \"PhD\" respectively. Ordinal encoding preserves the order of education levels, which can be meaningful in capturing the relationship between the categories.\n",
    "\n",
    "Employment Status: One-hot encoding (also known as dummy encoding) is appropriate for the \"Employment Status\" variable. One-hot encoding converts each category into a binary column, where 1 represents the presence of the category and 0 represents the absence. This approach allows the machine learning model to learn distinct patterns associated with each employment status without assuming any ordinal relationship between the categories."
   ]
  },
  {
   "cell_type": "markdown",
   "id": "7dbc4a71-bb98-4b1e-ba75-2ece519fc009",
   "metadata": {},
   "source": [
    "### Q7. You are analyzing a dataset with two continuous variables, \"Temperature\" and \"Humidity\", and two categorical variables, \"Weather Condition\" (Sunny/Cloudy/Rainy) and \"Wind Direction\" (North/South/East/West). Calculate the covariance between each pair of variables and interpret the results."
   ]
  },
  {
   "cell_type": "code",
   "execution_count": 6,
   "id": "0c99c5b2-2bd5-40bb-8ef3-1ff3c54b67d9",
   "metadata": {},
   "outputs": [
    {
     "name": "stdout",
     "output_type": "stream",
     "text": [
      "             Temperature  Humidity\n",
      "Temperature         9.20    -23.75\n",
      "Humidity          -23.75     62.50\n"
     ]
    }
   ],
   "source": [
    "import pandas as pd\n",
    "\n",
    "# Create a sample dataset\n",
    "data = {\n",
    "    'Temperature': [25.0, 28.0, 22.0, 20.0, 24.0],\n",
    "    'Humidity': [60.0, 55.0, 70.0, 75.0, 65.0],\n",
    "    'Weather Condition': ['Sunny', 'Cloudy', 'Sunny', 'Rainy', 'Cloudy'],\n",
    "    'Wind Direction': ['North', 'South', 'North', 'East', 'West']\n",
    "}\n",
    "\n",
    "df = pd.DataFrame(data)\n",
    "\n",
    "# Calculate the covariance matrix\n",
    "covariance_matrix = df[['Temperature', 'Humidity']].cov()\n",
    "\n",
    "# Print the covariance matrix\n",
    "print(covariance_matrix)\n"
   ]
  },
  {
   "cell_type": "markdown",
   "id": "c3d991c2-23a6-4951-a00e-54ff78605f47",
   "metadata": {},
   "source": [
    "\n",
    "The covariance between \"Temperature\" and \"Humidity\" is -23.75. This negative covariance suggests a weak negative relationship between \"Temperature\" and \"Humidity,\" indicating that as \"Temperature\" increases, \"Humidity\" tends to decrease slightly, on average."
   ]
  },
  {
   "cell_type": "markdown",
   "id": "17c69f06-1773-4723-a15e-4db232b8022c",
   "metadata": {},
   "source": [
    "### "
   ]
  },
  {
   "cell_type": "markdown",
   "id": "5e6079e8-1b35-4cba-832e-020f65f6ca0e",
   "metadata": {},
   "source": [
    "### "
   ]
  },
  {
   "cell_type": "markdown",
   "id": "fd5766ee-0539-46f1-a411-97995178b3ab",
   "metadata": {},
   "source": [
    "### "
   ]
  },
  {
   "cell_type": "markdown",
   "id": "fad09d75-8d6a-4cd5-ba4d-2eb9487eee0c",
   "metadata": {},
   "source": [
    "### "
   ]
  },
  {
   "cell_type": "markdown",
   "id": "c10fa68b-e542-444e-923b-687fc7874a8f",
   "metadata": {},
   "source": [
    "### "
   ]
  },
  {
   "cell_type": "markdown",
   "id": "833ef119-a753-40d7-a806-0f34650e29c7",
   "metadata": {},
   "source": [
    "### "
   ]
  },
  {
   "cell_type": "markdown",
   "id": "1184e8d5-b34c-45cc-a3cd-5aca7bfbe1e6",
   "metadata": {},
   "source": [
    "### "
   ]
  },
  {
   "cell_type": "markdown",
   "id": "df71e659-c548-407d-be4b-b8db8bd9dacd",
   "metadata": {},
   "source": [
    "### "
   ]
  },
  {
   "cell_type": "markdown",
   "id": "ef8821a6-74dc-49f4-8357-1596edf224aa",
   "metadata": {},
   "source": [
    "### "
   ]
  },
  {
   "cell_type": "markdown",
   "id": "7d7df070-434a-44f3-b7cd-555abf542a64",
   "metadata": {},
   "source": [
    "### "
   ]
  },
  {
   "cell_type": "markdown",
   "id": "5b6d4dd4-0788-4033-820f-d525947c028f",
   "metadata": {},
   "source": [
    "### "
   ]
  },
  {
   "cell_type": "markdown",
   "id": "8a379f26-685a-4b6f-8b2b-ccce2a09162a",
   "metadata": {},
   "source": [
    "### "
   ]
  }
 ],
 "metadata": {
  "kernelspec": {
   "display_name": "Python 3 (ipykernel)",
   "language": "python",
   "name": "python3"
  },
  "language_info": {
   "codemirror_mode": {
    "name": "ipython",
    "version": 3
   },
   "file_extension": ".py",
   "mimetype": "text/x-python",
   "name": "python",
   "nbconvert_exporter": "python",
   "pygments_lexer": "ipython3",
   "version": "3.10.8"
  }
 },
 "nbformat": 4,
 "nbformat_minor": 5
}
