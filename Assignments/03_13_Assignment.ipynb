{
 "cells": [
  {
   "cell_type": "markdown",
   "id": "0af944b4-433f-42f9-87d7-1440341175c3",
   "metadata": {},
   "source": [
    "### Q1. Explain the assumptions required to use ANOVA and provide examples of violations that could impact the validity of the results."
   ]
  },
  {
   "cell_type": "markdown",
   "id": "413294c1-0a96-4080-8a88-caca22ec699b",
   "metadata": {},
   "source": [
    "ANOVA (Analysis of Variance) is a statistical test used to compare the means of three or more groups to determine if there are any statistically significant differences between them. To use ANOVA, certain assumptions need to be met. Here are the assumptions required for ANOVA:\n",
    "\n",
    "Independence: The observations within each group should be independent of each other. This means that the values of one observation should not be influenced by the values of other observations within the same group.<br>\n",
    "Violation of Independence: If the observations within each group are not independent, it can lead to biased results. For example, if the same participants are measured repeatedly within different groups, their responses may be correlated, violating the independence assumption.\n",
    "\n",
    "Normality: The data within each group should be normally distributed. Normality assumption implies that the distribution of the data follows a bell-shaped curve.<br>\n",
    "Violation of Normality: If the data within each group is not normally distributed, the assumptions underlying ANOVA may not hold, and the results may be misleading. This can occur if the data is heavily skewed or contains outliers.\n",
    "\n",
    "Homogeneity of Variance: The variability (variance) of the data within each group should be roughly equal. Homogeneity of variance assumption implies that the spread of the data points is similar across all groups.<br>\n",
    "Violation of Homogeneity of Variance: If the variability of the data differs significantly across groups, it can affect the accuracy of ANOVA results. Unequal variances can lead to incorrect conclusions regarding group differences. For example, if the variances are much larger in one group compared to others, ANOVA may wrongly conclude that the means of groups are significantly different.\n",
    "\n",
    "Random Sampling: The groups should be formed through random sampling from the population of interest. Random sampling helps ensure that the groups are representative of the larger population.<br>\n",
    "Violation of Random Sampling: If the groups are not formed through random sampling, the generalizability of ANOVA results can be compromised. Non-random sampling may introduce selection biases and make the groups unrepresentative of the population, leading to incorrect conclusions."
   ]
  },
  {
   "cell_type": "markdown",
   "id": "62cd5857-e1b8-4149-914b-09f61ccceae9",
   "metadata": {},
   "source": [
    "### Q2. What are the three types of ANOVA, and in what situations would each be used?"
   ]
  },
  {
   "cell_type": "markdown",
   "id": "87ffe8d7-f64d-4f33-8930-a169f44fd67d",
   "metadata": {},
   "source": [
    "* One-Way ANOVA: Used to compare means across three or more groups with one categorical independent variable. It determines if there are significant differences among the group means.\n",
    "\n",
    "* Two-Way ANOVA: Used to examine the interaction effect between two categorical independent variables on the dependent variable. It allows for investigating main effects and interaction effects between the variables.\n",
    "\n",
    "* Repeated Measures ANOVA: Used when measuring the same participants under different conditions or at multiple time points to analyze within-subject changes. It assesses changes over time or across conditions while considering the dependency between measurements.\n",
    "\n",
    "These ANOVA techniques offer flexibility in analyzing data based on the research design and the nature of the independent variables involved."
   ]
  },
  {
   "cell_type": "markdown",
   "id": "d14c5916-ee4d-422a-8611-d80e05e87ff4",
   "metadata": {},
   "source": [
    "### Q3. What is the partitioning of variance in ANOVA, and why is it important to understand this concept?"
   ]
  },
  {
   "cell_type": "markdown",
   "id": "1a566390-f770-4de8-a81d-9f9e3ca74585",
   "metadata": {},
   "source": [
    "The partitioning of variance in ANOVA refers to the breakdown of the total variability in the data into different components that can be attributed to various sources. Understanding this concept is crucial in ANOVA because it helps to assess the contributions of different factors and sources of variation to the overall variability in the data.\n",
    "\n",
    "In ANOVA, the total variability is decomposed into two main components:\n",
    "\n",
    "1. Between-Group Variance: This component represents the variability in the data that is attributable to differences between the groups being compared. It reflects the differences in means among the groups and is often referred to as the \"explained variance\" or \"treatment effect.\" It measures how much the groups differ from each other on the dependent variable.\n",
    "\n",
    "2. Within-Group Variance: This component represents the variability in the data that is due to differences within each group. It reflects the variability of individual observations within each group and is often referred to as the \"unexplained variance\" or \"error variance.\" It captures the random variation or noise present in the data that is not accounted for by the group differences.\n",
    "\n",
    "Understanding the concept of partitioning of variance in ANOVA is important because it allows researchers to identify and quantify the contributions of different sources of variation in the data. This understanding helps in hypothesis testing, result interpretation, experimental design, and determining the significance of group differences. It provides insights into the factors driving variability and enables researchers to make meaningful statistical inferences from their data."
   ]
  },
  {
   "cell_type": "markdown",
   "id": "c19f5971-ad9b-435e-a9c6-54654e057563",
   "metadata": {},
   "source": [
    "### Q4. How would you calculate the total sum of squares (SST), explained sum of squares (SSE), and residual sum of squares (SSR) in a one-way ANOVA using Python?"
   ]
  },
  {
   "cell_type": "code",
   "execution_count": 4,
   "id": "05b8da96-bed8-4f99-948a-a53d69e6f2ed",
   "metadata": {},
   "outputs": [
    {
     "name": "stdout",
     "output_type": "stream",
     "text": [
      "6.0\n",
      "[3. 6. 9.]\n",
      "Total Sum of Squares (SST): 230.0\n",
      "Explained Sum of Squares (SSE): 90.0\n",
      "Residual Sum of Squares (SSR): 140.0\n"
     ]
    }
   ],
   "source": [
    "import numpy as np\n",
    "from scipy import stats\n",
    "\n",
    "# Example data for three groups\n",
    "group1 = [1, 2, 3, 4, 5]\n",
    "group2 = [2, 4, 6, 8, 10]\n",
    "group3 = [3, 6, 9, 12, 15]\n",
    "\n",
    "# Combine data into a single array\n",
    "data = np.concatenate([group1, group2, group3])\n",
    "\n",
    "# Calculate the overall mean\n",
    "overall_mean = np.mean(data)\n",
    "print(overall_mean)\n",
    "# Calculate the total sum of squares (SST)\n",
    "sst = np.sum((data - overall_mean) ** 2)\n",
    "\n",
    "# Calculate the explained sum of squares (SSE)\n",
    "group_means = np.array([np.mean(group1), np.mean(group2), np.mean(group3)])\n",
    "print(group_means)\n",
    "sse = np.sum((group_means - overall_mean) ** 2) * len(group1)\n",
    "\n",
    "# Calculate the residual sum of squares (SSR)\n",
    "ssr = sst - sse\n",
    "\n",
    "# Print the results\n",
    "print(\"Total Sum of Squares (SST):\", sst)\n",
    "print(\"Explained Sum of Squares (SSE):\", sse)\n",
    "print(\"Residual Sum of Squares (SSR):\", ssr)\n"
   ]
  },
  {
   "cell_type": "markdown",
   "id": "ba5b8e45-94b6-4b27-830a-f16e703faf67",
   "metadata": {},
   "source": [
    "### Q5. In a two-way ANOVA, how would you calculate the main effects and interaction effects using Python?"
   ]
  },
  {
   "cell_type": "code",
   "execution_count": 13,
   "id": "2a00ef56-f1ae-4217-9e11-31b19780e4df",
   "metadata": {},
   "outputs": [
    {
     "name": "stdout",
     "output_type": "stream",
     "text": [
      "Main Effects:\n",
      "factorA[T.A2]    4.0\n",
      "factorA[T.A3]    8.0\n",
      "factorB[T.B2]    2.0\n",
      "dtype: float64\n",
      "Interaction Effect:\n",
      "-1.7763568394002505e-15\n"
     ]
    }
   ],
   "source": [
    "import numpy as np\n",
    "import pandas as pd\n",
    "import statsmodels.api as sm\n",
    "from statsmodels.formula.api import ols\n",
    "\n",
    "# Example data for two independent variables (factorA and factorB) and the dependent variable\n",
    "factorA = ['A1', 'A1', 'A2', 'A2', 'A3', 'A3']\n",
    "factorB = ['B1', 'B2', 'B1', 'B2', 'B1', 'B2']\n",
    "dependent_var = [2, 4, 6, 8, 10, 12]\n",
    "\n",
    "# Create a pandas DataFrame for the data\n",
    "df = pd.DataFrame({'factorA': factorA, 'factorB': factorB, 'dependent_var': dependent_var})\n",
    "\n",
    "# Fit the two-way ANOVA model\n",
    "model = ols('dependent_var ~ factorA + factorB + factorA:factorB', data=df).fit()\n",
    "\n",
    "# Extract the main effects and interaction effects\n",
    "main_effects = model.params[['factorA[T.A2]', 'factorA[T.A3]', 'factorB[T.B2]']]\n",
    "interaction_effect = model.params['factorA[T.A3]:factorB[T.B2]']\n",
    "\n",
    "# Print the results\n",
    "print(\"Main Effects:\")\n",
    "print(main_effects)\n",
    "print(\"Interaction Effect:\")\n",
    "print(interaction_effect)\n"
   ]
  },
  {
   "cell_type": "markdown",
   "id": "c67a8af8-f404-45c1-8530-5e679b35b31b",
   "metadata": {},
   "source": [
    "### Q6. Suppose you conducted a one-way ANOVA and obtained an F-statistic of 5.23 and a p-value of 0.02. What can you conclude about the differences between the groups, and how would you interpret these results?"
   ]
  },
  {
   "cell_type": "markdown",
   "id": "e5953ce4-0d00-45c1-8304-30badfeded4f",
   "metadata": {},
   "source": [
    "In the context of a one-way ANOVA, the F-statistic and the associated p-value provide information about the differences between the groups. Let's interpret the results based on the given values:\n",
    "\n",
    "The F-statistic measures the ratio of the between-group variability to the within-group variability. A larger F-statistic suggests that the differences between the groups are relatively larger compared to the variability within the groups. In this case, the F-statistic is 5.23, indicating that there are differences between the groups.\n",
    "\n",
    "The p-value associated with the F-statistic is 0.02. This p-value represents the probability of obtaining an F-statistic as extreme as the observed one, assuming that there are no true differences between the groups (null hypothesis). In other words, it indicates the evidence against the null hypothesis.\n",
    "\n",
    "With a p-value of 0.02, which is less than the conventional significance level of 0.05, we can conclude that there is sufficient evidence to reject the null hypothesis. This suggests that the differences between the groups are statistically significant.\n",
    "\n",
    "Interpreting these results, we can conclude that there are statistically significant differences between the groups based on the given data. However, it is important to note that statistical significance does not necessarily imply practical or meaningful significance. It indicates that the observed differences are unlikely to be due to random chance, but further analysis and interpretation are required to understand the magnitude and practical importance of these differences."
   ]
  },
  {
   "cell_type": "markdown",
   "id": "0046978d-e7f5-463b-8f0f-97ef66cffb88",
   "metadata": {},
   "source": [
    "### Q7. In a repeated measures ANOVA, how would you handle missing data, and what are the potential consequences of using different methods to handle missing data?"
   ]
  },
  {
   "cell_type": "markdown",
   "id": "bb68d3e9-61cd-45cd-8d41-0af0e175ee9b",
   "metadata": {},
   "source": [
    "In a repeated measures ANOVA, missing data can be handled using various methods. Here are some common approaches:\n",
    "\n",
    "Listwise deletion: This method involves excluding participants with missing data on any of the variables used in the analysis. It results in analyzing only the complete cases and discards any incomplete data. However, this approach can lead to a reduction in sample size and potential bias if the missingness is related to the outcome or other variables.\n",
    "\n",
    "Pairwise deletion: With this method, available data points for each comparison are used, even if participants have missing data on some variables. It maximizes the use of available data but can lead to biased estimates if the missingness is related to specific variables.\n",
    "\n",
    "Mean imputation: Missing values are replaced with the mean value of the variable across all participants. This method assumes that the missing values are missing completely at random (MCAR) and can introduce bias if the missingness is related to other factors.\n",
    "\n",
    "The choice of method for handling missing data can have consequences for the analysis results. Different methods may yield different estimates of treatment effects, standard errors, and p-values. The potential consequences of using different methods include:\n",
    "\n",
    "Bias: If the missingness is related to the outcome or other variables, certain methods may introduce bias in the estimates.\n",
    "\n",
    "Efficiency: Methods that retain more participants and utilize more data, such as pairwise deletion or imputation, can improve the efficiency of the analysis by utilizing available information.\n",
    "\n",
    "Precision: Different methods can lead to different standard errors and confidence intervals, affecting the precision of the estimated treatment effects.\n",
    "\n",
    "Assumptions: Each method makes different assumptions about the nature of the missing data, and if these assumptions are violated, the results may be misleading."
   ]
  },
  {
   "cell_type": "markdown",
   "id": "c5fb630b-c9f2-4b59-863a-4dd3fb8b2f66",
   "metadata": {},
   "source": [
    "### Q8. What are some common post-hoc tests used after ANOVA, and when would you use each one? Provide an example of a situation where a post-hoc test might be necessary."
   ]
  },
  {
   "cell_type": "markdown",
   "id": "6054e460-40a5-4a31-90c0-fe29c5f83a2b",
   "metadata": {},
   "source": [
    "Post-hoc tests play a crucial role in ANOVA by examining specific group differences. Several commonly used post-hoc tests include Tukey's Honestly Significant Difference (HSD), Bonferroni correction, Scheffe's test, Dunnett's test, and Fisher's Least Significant Difference (LSD) test.\n",
    "\n",
    "Tukey's HSD allows for all possible pairwise comparisons between group means, providing adjusted p-values to control for multiple comparisons. Bonferroni correction adjusts the significance level for multiple comparisons by dividing it by the number of comparisons, ensuring a stringent control over the overall Type I error rate.\n",
    "\n",
    "Scheffe's test is more conservative and can be employed for any number of comparisons. It offers a broader scope for complex comparisons or interactions. Dunnett's test is suitable when comparing multiple treatment groups to a control group, maintaining a specified significance level for comparisons involving the control group.\n",
    "\n",
    "Fisher's LSD test compares all pairwise group means without controlling for the family-wise error rate. It is useful when the number of comparisons is limited and exploratory analysis is desired.\n",
    "\n",
    "Post-hoc tests are necessary when ANOVA reveals a significant overall effect but does not provide detailed information on specific group differences. They allow for a more comprehensive analysis, aiding in the identification of significant differences between specific groups or conditions.\n",
    "\n",
    "\n",
    "\n",
    "\n"
   ]
  },
  {
   "cell_type": "markdown",
   "id": "c67ac65b-ad00-43cd-a6cd-14c99c5a5c04",
   "metadata": {},
   "source": [
    "### Q9. A researcher wants to compare the mean weight loss of three diets: A, B, and C. They collect data from 50 participants who were randomly assigned to one of the diets. Conduct a one-way ANOVA using Python to determine if there are any significant differences between the mean weight loss of the three diets. Report the F-statistic and p-value, and interpret the results."
   ]
  },
  {
   "cell_type": "code",
   "execution_count": 15,
   "id": "7ff03ed5-ae50-4791-8b1c-7d7ef9ced51f",
   "metadata": {},
   "outputs": [
    {
     "name": "stdout",
     "output_type": "stream",
     "text": [
      "F-Statistic: 290.40896753135155\n",
      "p-value: 8.692640746954726e-52\n",
      "There is a significant difference between the mean weight loss of the three diets.\n"
     ]
    }
   ],
   "source": [
    "import scipy.stats as stats\n",
    "\n",
    "# Weight loss data for each diet group\n",
    "diet_A = [2.5, 1.8, 2.2, 2.6, 2.3, 2.1, 2.7, 2.4, 2.0, 2.5,\n",
    "          2.3, 2.1, 2.4, 2.8, 2.6, 2.3, 2.2, 2.5, 2.3, 2.1,\n",
    "          2.7, 2.4, 2.6, 2.3, 2.2, 2.5, 2.3, 2.1, 2.7, 2.4,\n",
    "          2.6, 2.3, 2.2, 2.5, 2.3, 2.1, 2.7, 2.4, 2.6, 2.3,\n",
    "          2.2, 2.5, 2.3, 2.1, 2.7, 2.4, 2.6, 2.3, 2.2, 2.5]\n",
    "\n",
    "diet_B = [2.9, 3.1, 3.2, 3.0, 2.8, 3.3, 3.1, 2.9, 3.0, 3.2,\n",
    "          2.8, 3.3, 3.1, 2.9, 3.0, 3.2, 2.8, 3.3, 3.1, 2.9,\n",
    "          3.0, 3.2, 2.8, 3.3, 3.1, 2.9, 3.0, 3.2, 2.8, 3.3,\n",
    "          3.1, 2.9, 3.0, 3.2, 2.8, 3.3, 3.1, 2.9, 3.0, 3.2,\n",
    "          2.8, 3.3, 3.1, 2.9, 3.0, 3.2, 2.8, 3.3, 3.1, 2.9]\n",
    "\n",
    "diet_C = [1.9, 1.7, 2.0, 2.2, 1.8, 2.1, 2.3, 2.4, 2.0, 2.2,\n",
    "          1.8, 2.1, 2.3, 2.4, 2.0, 2.2, 1.8, 2.1, 2.3, 2.4,\n",
    "          2.0, 2.2, 1.8, 2.1, 2.3, 2.4, 2.0, 2.2, 1.8, 2.1,\n",
    "          2.3, 2.4, 2.0, 2.2, 1.8, 2.1, 2.3, 2.4, 2.0, 2.2,\n",
    "          1.8, 2.1, 2.3, 2.4, 2.0, 2.2, 1.8, 2.1, 2.3, 2.4]\n",
    "\n",
    "# Perform one-way ANOVA\n",
    "f_statistic, p_value = stats.f_oneway(diet_A, diet_B, diet_C)\n",
    "\n",
    "# Print the results\n",
    "print(\"F-Statistic:\", f_statistic)\n",
    "print(\"p-value:\", p_value)\n",
    "\n",
    "# Interpret the results\n",
    "if p_value < 0.05:\n",
    "    print(\"There is a significant difference between the mean weight loss of the three diets.\")\n",
    "else:\n",
    "    print(\"There is no significant difference between the mean weight loss of the three diets.\")\n"
   ]
  },
  {
   "cell_type": "markdown",
   "id": "68fa02f1-8668-4f6b-9bb5-aaceecfc8c09",
   "metadata": {},
   "source": [
    "### Q10. A company wants to know if there are any significant differences in the average time it takes to complete a task using three different software programs: Program A, Program B, and Program C. They randomly assign 30 employees to one of the programs and record the time it takes each employee to complete the task. Conduct a two-way ANOVA using Python to determine if there are any main effects or interaction effects between the software programs and employee experience level (novice vs. experienced). Report the F-statistics and p-values, and interpret the results."
   ]
  },
  {
   "cell_type": "code",
   "execution_count": 28,
   "id": "0b29f6c4-0558-4339-8dec-2365eb5c269d",
   "metadata": {},
   "outputs": [
    {
     "name": "stdout",
     "output_type": "stream",
     "text": [
      "                             sum_sq    df         F    PR(>F)\n",
      "C(Program)                 0.207514   2.0  0.127259  0.881095\n",
      "C(Experience)              2.073729   1.0  2.543455  0.123838\n",
      "C(Program):C(Experience)   1.436605   2.0  0.881007  0.427343\n",
      "Residual                  19.567667  24.0       NaN       NaN\n",
      "There is no significant main effect of software programs.\n",
      "There is no significant main effect of employee experience level.\n",
      "There is no significant interaction effect between software programs and employee experience level.\n"
     ]
    }
   ],
   "source": [
    "import pandas as pd\n",
    "import statsmodels.api as sm\n",
    "from statsmodels.formula.api import ols\n",
    "\n",
    "# Create a dataframe with the data\n",
    "data = {\n",
    "    'Time': [12.3, 10.8, 11.5, 13.2, 11.1, 10.9, 12.1, 12.6, 11.7, 10.5,\n",
    "             11.8, 12.2, 10.7, 11.9, 12.4, 13.1, 11.6, 10.3, 12.0, 12.8,\n",
    "             10.6, 11.3, 12.5, 13.0, 11.4, 10.2, 12.7, 11.2, 10.4, 11.0],\n",
    "    'Program': ['A', 'B', 'C', 'A', 'B', 'C', 'A', 'B', 'C', 'A',\n",
    "                'B', 'C', 'A', 'B', 'C', 'A', 'B', 'C', 'A', 'B',\n",
    "                'C', 'A', 'B', 'C', 'A', 'B', 'C', 'A', 'B', 'C'],\n",
    "    'Experience': ['Novice', 'Experienced', 'Experienced', 'Novice', 'Experienced',\n",
    "                   'Novice', 'Experienced', 'Novice', 'Novice', 'Experienced',\n",
    "                   'Experienced', 'Novice', 'Experienced', 'Novice', 'Novice',\n",
    "                   'Experienced', 'Experienced', 'Novice', 'Experienced', 'Novice',\n",
    "                   'Experienced', 'Novice', 'Experienced', 'Novice', 'Novice',\n",
    "                   'Experienced', 'Experienced', 'Novice', 'Experienced', 'Experienced']\n",
    "}\n",
    "df = pd.DataFrame(data)\n",
    "\n",
    "# Fit the two-way ANOVA model\n",
    "model = ols('Time ~ C(Program) + C(Experience) + C(Program):C(Experience)', data=df).fit()\n",
    "anova_table = sm.stats.anova_lm(model, typ=2)\n",
    "\n",
    "# Print the ANOVA table\n",
    "print(anova_table)\n",
    "\n",
    "# Interpret the results\n",
    "if anova_table['PR(>F)'][0] < 0.05:\n",
    "    print(\"There is a significant main effect of software programs.\")\n",
    "else:\n",
    "    print(\"There is no significant main effect of software programs.\")\n",
    "\n",
    "if anova_table['PR(>F)'][1] < 0.05:\n",
    "    print(\"There is a significant main effect of employee experience level.\")\n",
    "else:\n",
    "    print(\"There is no significant main effect of employee experience level.\")\n",
    "\n",
    "if anova_table['PR(>F)'][2] < 0.05:\n",
    "    print(\"There is a significant interaction effect between software programs and employee experience level.\")\n",
    "else:\n",
    "    print(\"There is no significant interaction effect between software programs and employee experience level.\")\n"
   ]
  },
  {
   "cell_type": "markdown",
   "id": "bdaf267d-0d95-4302-b995-d3f9139be4c0",
   "metadata": {},
   "source": [
    "### Q11. An educational researcher is interested in whether a new teaching method improves student test scores. They randomly assign 100 students to either the control group (traditional teaching method) or the experimental group (new teaching method) and administer a test at the end of the semester. Conduct a two-sample t-test using Python to determine if there are any significant differences in test scores between the two groups. If the results are significant, follow up with a post-hoc test to determine which group(s) differ significantly from each other."
   ]
  },
  {
   "cell_type": "code",
   "execution_count": 59,
   "id": "72f5111d-326b-4136-b1fb-b6c42c62d1f0",
   "metadata": {},
   "outputs": [
    {
     "name": "stdout",
     "output_type": "stream",
     "text": [
      "Two-Sample T-Test Results:\n",
      "t-statistic: 6.598873888596288\n",
      "p-value: 2.1288010414685533e-09\n",
      "\n",
      "Post-Hoc Test (Tukey's HSD) Results:\n",
      "    Multiple Comparison of Means - Tukey HSD, FWER=0.05    \n",
      "===========================================================\n",
      " group1    group2    meandiff p-adj  lower    upper  reject\n",
      "-----------------------------------------------------------\n",
      "Control Experimental    -8.04   0.0 -10.4579 -5.6221   True\n",
      "-----------------------------------------------------------\n"
     ]
    }
   ],
   "source": [
    "import pandas as pd\n",
    "import scipy.stats as stats\n",
    "from statsmodels.stats.multicomp import pairwise_tukeyhsd\n",
    "\n",
    "# Create a dataframe with the data\n",
    "data = {\n",
    "    'Group': ['Control'] * 50 + ['Experimental'] * 50,\n",
    "    'Test_Score': [75, 85, 80, 78, 82, 79, 88, 77, 83, 81,\n",
    "                   92, 89, 86, 87, 90, 94, 95, 93, 91, 84,\n",
    "                   79, 88, 90, 87, 85, 89, 82, 83, 84, 81,\n",
    "                   75, 85, 80, 78, 82, 79, 88, 77, 83, 81,\n",
    "                   92, 89, 86, 87, 90, 94, 95, 93, 91, 84,\n",
    "                   70, 72, 73, 68, 71, 69, 74, 76, 67, 66,\n",
    "                   77, 79, 76, 75, 80, 81, 85, 82, 84, 83,\n",
    "                   79, 88, 90, 87, 85, 89, 82, 83, 84, 81,\n",
    "                   70, 72, 73, 68, 71, 69, 74, 76, 67, 66,\n",
    "                   77, 79, 76, 75, 80, 81, 85, 82, 84, 83]\n",
    "}\n",
    "\n",
    "df = pd.DataFrame(data)\n",
    "\n",
    "# Perform the two-sample t-test\n",
    "control_scores = df[df['Group'] == 'Control']['Test_Score']\n",
    "experimental_scores = df[df['Group'] == 'Experimental']['Test_Score']\n",
    "t_statistic, p_value = stats.ttest_ind(control_scores, experimental_scores)\n",
    "\n",
    "# Print the t-statistic and p-value\n",
    "print(\"Two-Sample T-Test Results:\")\n",
    "print(\"t-statistic:\", t_statistic)\n",
    "print(\"p-value:\", p_value)\n",
    "\n",
    "# Perform post-hoc test (Tukey's HSD) if the results are significant\n",
    "if p_value < 0.05:\n",
    "    posthoc = pairwise_tukeyhsd(df['Test_Score'], df['Group'])\n",
    "    print(\"\\nPost-Hoc Test (Tukey's HSD) Results:\")\n",
    "    print(posthoc)\n"
   ]
  },
  {
   "cell_type": "markdown",
   "id": "6e8d2dd7-2139-4f7b-9f40-e5d6f49a3acd",
   "metadata": {},
   "source": [
    "### "
   ]
  },
  {
   "cell_type": "code",
   "execution_count": 56,
   "id": "284853d8-5a6d-40c4-86ea-5b684d862f08",
   "metadata": {},
   "outputs": [
    {
     "name": "stdout",
     "output_type": "stream",
     "text": [
      "      Day    Store  Sales\n",
      "0   Day 1  Store A    100\n",
      "1   Day 1  Store B    120\n",
      "2   Day 1  Store C     95\n",
      "3   Day 2  Store A    110\n",
      "4   Day 2  Store B    130\n",
      "5   Day 2  Store C    115\n",
      "6   Day 3  Store A     90\n",
      "7   Day 3  Store B    105\n",
      "8   Day 3  Store C    115\n",
      "9   Day 4  Store A    105\n",
      "10  Day 4  Store B    125\n",
      "11  Day 4  Store C    130\n",
      "12  Day 5  Store A     98\n",
      "13  Day 5  Store B    118\n",
      "14  Day 5  Store C     92\n",
      "15  Day 6  Store A    108\n",
      "16  Day 6  Store B    128\n",
      "17  Day 6  Store C    113\n",
      "Repeated Measures ANOVA Results:\n",
      "               sum_sq    df         F    PR(>F)\n",
      "C(Store)  1110.111111   2.0  4.918283  0.022777\n",
      "Residual  1692.833333  15.0       NaN       NaN\n",
      "There are significant differences in sales between the three stores.\n",
      "Post-hoc Test Results:\n",
      " Multiple Comparison of Means - Tukey HSD, FWER=0.05  \n",
      "======================================================\n",
      " group1  group2 meandiff p-adj   lower   upper  reject\n",
      "------------------------------------------------------\n",
      "Store A Store B  19.1667  0.018   3.2354 35.098   True\n",
      "Store A Store C   8.1667 0.4003  -7.7646 24.098  False\n",
      "Store B Store C    -11.0 0.2053 -26.9313 4.9313  False\n",
      "------------------------------------------------------\n"
     ]
    },
    {
     "data": {
      "image/png": "[encoded data removed]",
      "text/plain": [
       "<Figure size 1000x600 with 1 Axes>"
      ]
     },
     "metadata": {},
     "output_type": "display_data"
    }
   ],
   "source": [
    "import pandas as pd\n",
    "import statsmodels.api as sm\n",
    "from statsmodels.formula.api import ols\n",
    "\n",
    "# Create a dataframe with the data\n",
    "data = {\n",
    "    'Day': ['Day 1'] * 3 + ['Day 2'] * 3 + ['Day 3'] * 3 + ['Day 4'] * 3 + ['Day 5'] * 3 + ['Day 6'] * 3,\n",
    "    'Store': ['Store A', 'Store B', 'Store C'] * 6,\n",
    "    'Sales': [100, 120, 95, 110, 130, 115, 90, 105, 115, 105, 125, 130,\n",
    "              98, 118, 92, 108, 128, 113]\n",
    "}\n",
    "df = pd.DataFrame(data)\n",
    "print(df)\n",
    "# Convert the data to wide format for repeated measures ANOVA\n",
    "df_wide = df.pivot(index='Day', columns='Store', values='Sales')\n",
    "\n",
    "# Perform repeated measures ANOVA\n",
    "formula = 'Sales ~ C(Store)'\n",
    "model = ols(formula, data=df).fit()\n",
    "anova_table = sm.stats.anova_lm(model, typ=2)\n",
    "\n",
    "# Print the ANOVA table\n",
    "print(\"Repeated Measures ANOVA Results:\")\n",
    "print(anova_table)\n",
    "\n",
    "# Follow up with post-hoc test if the results are significant\n",
    "if anova_table['PR(>F)'][0] < 0.05:\n",
    "    print(\"There are significant differences in sales between the three stores.\")\n",
    "\n",
    "    # Perform post-hoc test, e.g., Tukey's HSD test\n",
    "    from statsmodels.stats.multicomp import pairwise_tukeyhsd\n",
    "\n",
    "    posthoc = pairwise_tukeyhsd(df['Sales'], df['Store'])\n",
    "    print(\"Post-hoc Test Results:\")\n",
    "    print(posthoc.summary())\n",
    "\n",
    "    # Plot the post-hoc test results\n",
    "    posthoc.plot_simultaneous()\n",
    "else:\n",
    "    print(\"There are no significant differences in sales between the three stores.\")\n"
   ]
  },
  {
   "cell_type": "code",
   "execution_count": 135,
   "id": "062356d0-fd69-4aac-b009-61a9bddbb6d7",
   "metadata": {},
   "outputs": [
    {
     "name": "stdout",
     "output_type": "stream",
     "text": [
      "Repeated Measures ANOVA:\n",
      "                sum_sq    df         F    PR(>F)\n",
      "Store      1583.288889   2.0  3.650497  0.030035\n",
      "Residual  18866.766667  87.0       NaN       NaN\n",
      "\n",
      "P-value: 0.030035156556728494\n",
      "\n",
      "Post-hoc Test (Tukey's HSD):\n",
      " Multiple Comparison of Means - Tukey HSD, FWER=0.05 \n",
      "=====================================================\n",
      "group1 group2 meandiff p-adj   lower    upper  reject\n",
      "-----------------------------------------------------\n",
      "     A      B   5.4667 0.3262  -3.5998 14.5331  False\n",
      "     A      C     -4.8 0.4202 -13.8664  4.2664  False\n",
      "     B      C -10.2667 0.0225 -19.3331 -1.2002   True\n",
      "-----------------------------------------------------\n"
     ]
    }
   ],
   "source": [
    "import pandas as pd\n",
    "import statsmodels.api as sm\n",
    "from statsmodels.formula.api import ols\n",
    "from statsmodels.stats.multicomp import pairwise_tukeyhsd\n",
    "\n",
    "#np.random.seed(42)  \n",
    "\n",
    "# Create the dataframe with the sales data\n",
    "data = {\n",
    "    'Store': ['A'] * 30 + ['B'] * 30 + ['C'] * 30,\n",
    "    'Day': ['Day' + str(i) for i in range(1, 31)] * 3,\n",
    "    'Sales': np.random.randint(50, 100, size=(30, 3)).flatten()\n",
    "}\n",
    "df = pd.DataFrame(data)\n",
    "\n",
    "# Conduct repeated measures ANOVA\n",
    "rm_anova = ols('Sales ~ Store', data=df).fit()\n",
    "anova_table = sm.stats.anova_lm(rm_anova, typ=2)\n",
    "\n",
    "# Extract the p-value from the ANOVA table\n",
    "p_value = anova_table['PR(>F)']['Store']\n",
    "\n",
    "# Print the ANOVA results\n",
    "print(\"Repeated Measures ANOVA:\")\n",
    "print(anova_table)\n",
    "print(f\"\\nP-value: {p_value}\")\n",
    "\n",
    "# Perform post-hoc test (Tukey's HSD) if results are significant\n",
    "if p_value < 0.05:\n",
    "    posthoc = pairwise_tukeyhsd(df['Sales'], df['Store'])\n",
    "    print(\"\\nPost-hoc Test (Tukey's HSD):\")\n",
    "    print(posthoc)\n",
    "else:\n",
    "    print(\"\\nNo significant differences between the stores.\")\n"
   ]
  },
  {
   "cell_type": "markdown",
   "id": "2a763656-daec-40ea-83f7-a0a95a3d2c38",
   "metadata": {},
   "source": [
    "### "
   ]
  },
  {
   "cell_type": "markdown",
   "id": "31b63f63-a961-4e3e-91e2-00c37f5e9e8f",
   "metadata": {},
   "source": [
    "### "
   ]
  },
  {
   "cell_type": "markdown",
   "id": "8159e318-a4f7-4c41-a8b5-e737f8646b69",
   "metadata": {},
   "source": [
    "### "
   ]
  },
  {
   "cell_type": "markdown",
   "id": "73de530b-f8e0-4097-a6b4-e1e1316fe42f",
   "metadata": {},
   "source": [
    "### "
   ]
  },
  {
   "cell_type": "markdown",
   "id": "c1ff6279-509d-4131-857e-55a1e9864da1",
   "metadata": {},
   "source": [
    "### "
   ]
  },
  {
   "cell_type": "markdown",
   "id": "cb46ed01-b97c-4450-b0d1-6900a6bc78d0",
   "metadata": {},
   "source": [
    "### "
   ]
  },
  {
   "cell_type": "markdown",
   "id": "f92d2f94-e45a-4efb-986f-5f3e1efd7c36",
   "metadata": {},
   "source": [
    "### "
   ]
  }
 ],
 "metadata": {
  "kernelspec": {
   "display_name": "Python 3 (ipykernel)",
   "language": "python",
   "name": "python3"
  },
  "language_info": {
   "codemirror_mode": {
    "name": "ipython",
    "version": 3
   },
   "file_extension": ".py",
   "mimetype": "text/x-python",
   "name": "python",
   "nbconvert_exporter": "python",
   "pygments_lexer": "ipython3",
   "version": "3.10.8"
  }
 },
 "nbformat": 4,
 "nbformat_minor": 5
}
