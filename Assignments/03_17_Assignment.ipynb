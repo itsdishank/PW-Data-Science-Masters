{
 "cells": [
  {
   "cell_type": "markdown",
   "id": "d9e9a242-4459-40a5-b43d-4e36f5c3ded3",
   "metadata": {},
   "source": [
    "### Q1: What are missing values in a dataset? Why is it essential to handle missing values? Name some algorithms that are not affected by missing values."
   ]
  },
  {
   "cell_type": "markdown",
   "id": "be6f82c2-7b0a-4d2a-8056-2fe9b4ff57f5",
   "metadata": {},
   "source": [
    "Missing values in a dataset refer to the absence of data for one or more variables in certain observations or records. These missing values can occur due to various reasons, such as data entry errors, equipment malfunction, participant non-response, or intentional omission.\n",
    "\n",
    "Handling missing values is crucial for several reasons:\n",
    "\n",
    "* Missing values can lead to biased or inaccurate results in data analysis and modeling.<br>\n",
    "* Many machine learning algorithms cannot handle missing values directly and may produce errors or biased outcomes.<br>\n",
    "* Missing values can impact the statistical properties of a dataset, such as mean, variance, and correlation, affecting subsequent analyses.\n",
    "\n",
    "Some algorithms that are not affected by missing values or can handle them directly include:\n",
    "* Decision trees\n",
    "* Random Forests\n",
    "* Gradient Boosting Machines (GBMs)\n",
    "* Naive Bayes\n",
    "* K-nearest neighbors (KNN)\n",
    "\n",
    "It is important to note that while some algorithms can handle missing values, it is still advisable to carefully impute or handle missing values to ensure the best possible results from the analysis or modeling process."
   ]
  },
  {
   "cell_type": "markdown",
   "id": "d9dbdc68-be37-4571-8bbd-4f45214aff95",
   "metadata": {},
   "source": [
    "### Q2: List down techniques used to handle missing data. Give an example of each with python code."
   ]
  },
  {
   "cell_type": "markdown",
   "id": "207a9087-9e9f-4f98-b065-4185068d0190",
   "metadata": {},
   "source": [
    "Here are three common techniques used to handle missing data, along with examples of how to implement them in Python:\n",
    "\n",
    "1. Mean Value Imputation:\n",
    "\n",
    "This technique replaces missing values with the mean of the available values for that variable."
   ]
  },
  {
   "cell_type": "code",
   "execution_count": null,
   "id": "948297e1-4cfc-48da-a6c7-3d39a5f2e2df",
   "metadata": {},
   "outputs": [],
   "source": [
    "import pandas as pd\n",
    "import numpy as np\n",
    "\n",
    "# Assuming 'df' is the DataFrame with missing values\n",
    "df['column_name'].fillna(df['column_name'].mean(), inplace=True)"
   ]
  },
  {
   "cell_type": "markdown",
   "id": "fb4dc111-1c15-49eb-b3ee-dbd9fef81ce3",
   "metadata": {},
   "source": [
    "2. Median Value Imputation:\n",
    "\n",
    "This technique replaces missing values with the median of the available values for that variable. It is often more robust to outliers compared to mean imputation."
   ]
  },
  {
   "cell_type": "code",
   "execution_count": null,
   "id": "f2cc63f4-d0be-4472-84f9-5eda116760b0",
   "metadata": {},
   "outputs": [],
   "source": [
    "df['column_name'].fillna(df['column_name'].median(), inplace=True)"
   ]
  },
  {
   "cell_type": "markdown",
   "id": "476482f6-c15f-42ee-bf9f-326987ab14d1",
   "metadata": {},
   "source": [
    "3. Mode Imputation (for categorical values):\n",
    "\n",
    "This technique replaces missing values with the mode (most frequent value) of the available values for that variable when dealing with categorical data."
   ]
  },
  {
   "cell_type": "code",
   "execution_count": null,
   "id": "b54b9033-2963-42f0-8671-282ef8bae8f0",
   "metadata": {},
   "outputs": [],
   "source": [
    "df['column_name'].fillna(df['column_name'].mode()[0], inplace=True)"
   ]
  },
  {
   "cell_type": "markdown",
   "id": "2335923d-3716-470f-953c-9ae84fb3579d",
   "metadata": {},
   "source": [
    "### Q3: Explain the imbalanced data. What will happen if imbalanced data is not handled?"
   ]
  },
  {
   "cell_type": "markdown",
   "id": "451a836c-3399-4239-8f18-46877c7b9ad9",
   "metadata": {},
   "source": [
    "Imbalanced data refers to a situation where the classes or categories in a dataset are not represented equally. One class has significantly more instances than the others, resulting in an imbalance.\n",
    "\n",
    "If imbalanced data is not handled, it can lead to several issues:\n",
    "\n",
    "Biased model performance: Class imbalance can cause models to be biased towards the majority class, leading to poor predictive performance for the minority class.<br>\n",
    "Poor generalization: Models trained on imbalanced data may struggle to generalize well to unseen data, particularly for the minority class, as they are not adequately represented during training.<br>\n",
    "Misleading evaluation metrics: Accuracy can be misleading as an evaluation metric since a model that always predicts the majority class will have high accuracy but lacks practical value.<br>\n",
    "To mitigate these problems, handling imbalanced data is crucial. Techniques such as resampling (undersampling or oversampling), using different evaluation metrics (precision, recall, F1-score), ensemble methods (e.g., boosting), or generating synthetic samples (e.g., SMOTE) can be employed to address class imbalance and improve the model's performance on the minority class."
   ]
  },
  {
   "cell_type": "markdown",
   "id": "8ef2a919-5e5c-45b6-9bbd-de0fdfe74702",
   "metadata": {},
   "source": [
    "### Q4: What are Up-sampling and Down-sampling? Explain with an example when up-sampling and down-sampling are required."
   ]
  },
  {
   "cell_type": "markdown",
   "id": "ca3d1270-d5ad-495b-bffe-36714cf8b8a1",
   "metadata": {},
   "source": [
    "Up-sampling and down-sampling are techniques used to address class imbalance in a dataset:\n",
    "\n",
    "1. Up-sampling:\n",
    "\n",
    "Up-sampling involves increasing the number of instances in the minority class to match the number of instances in the majority class. This can be achieved by duplicating existing minority class samples or generating synthetic samples.\n",
    "\n",
    "Example: In a medical dataset, where the majority class represents healthy individuals and the minority class represents rare diseases, up-sampling may be required to ensure sufficient representation of the minority class for accurate disease detection.\n",
    "\n",
    "2. Down-sampling:\n",
    "\n",
    "Down-sampling involves reducing the number of instances in the majority class to match the number of instances in the minority class. This can be done by randomly removing instances from the majority class.\n",
    "\n",
    "Example: In a fraud detection dataset, where the majority class represents non-fraudulent transactions and the minority class represents fraudulent transactions, down-sampling may be necessary to balance the dataset and prevent the model from being biased towards predicting non-fraudulent transactions."
   ]
  },
  {
   "cell_type": "markdown",
   "id": "1c91c4be-5811-4ac3-948b-2034d2cc3275",
   "metadata": {},
   "source": [
    "### Q5: What is data Augmentation? Explain SMOTE."
   ]
  },
  {
   "cell_type": "markdown",
   "id": "e541a7f4-360a-47af-882d-cb83f1284afb",
   "metadata": {},
   "source": [
    "Data augmentation is a technique used to increase the size and diversity of a dataset by creating synthetic samples based on existing data. It is commonly used in machine learning and deep learning to improve model performance, especially when the original dataset is limited.\n",
    "\n",
    "SMOTE (Synthetic Minority Over-sampling Technique) is a popular data augmentation technique for addressing class imbalance. SMOTE generates synthetic samples for the minority class by interpolating between neighboring instances. It creates new synthetic samples by selecting random instances from the minority class, identifying their nearest neighbors, and creating synthetic samples along the line segment joining the instance and its neighbors.\n",
    "\n",
    "SMOTE helps to overcome the problem of imbalanced classes by providing additional training examples for the minority class, making the dataset more balanced and reducing bias in model training. It can be particularly effective in scenarios where minority class samples are scarce, allowing the model to learn from a more diverse set of examples."
   ]
  },
  {
   "cell_type": "markdown",
   "id": "593d9e94-1671-4196-be1d-6194fbe48159",
   "metadata": {},
   "source": [
    "### Q6: What are outliers in a dataset? Why is it essential to handle outliers?"
   ]
  },
  {
   "cell_type": "markdown",
   "id": "062456e7-d483-4a07-b3d0-54846c2788a8",
   "metadata": {},
   "source": [
    "Outliers are data points that significantly deviate from the majority of the observations in a dataset. They can be extreme values that are unusually high or low compared to the rest of the data. Outliers can arise due to measurement errors, data entry mistakes, or genuine extreme observations.\n",
    "\n",
    "Handling outliers is essential for several reasons:\n",
    "\n",
    "* Impact on statistical measures: Outliers can skew statistical measures such as mean and standard deviation, leading to inaccurate interpretations of the data.\n",
    "* Influence on model performance: Outliers can disproportionately affect the fitting of models, leading to biased parameter estimates and reduced predictive performance.\n",
    "* Violation of assumptions: Outliers can violate the assumptions of many statistical and machine learning algorithms, affecting the reliability and validity of the results.\n",
    "* Misleading insights: Outliers can distort data visualization, making it challenging to interpret and communicate meaningful patterns or trends."
   ]
  },
  {
   "cell_type": "markdown",
   "id": "13381700-7e90-42fd-a5ad-22286c404718",
   "metadata": {},
   "source": [
    "### Q7: You are working on a project that requires analyzing customer data. However, you notice that some of the data is missing. What are some techniques you can use to handle the missing data in your analysis? "
   ]
  },
  {
   "cell_type": "markdown",
   "id": "8d554529-5b52-4694-803a-d9385d3cec42",
   "metadata": {},
   "source": [
    "When encountering missing data in customer analysis, several techniques can be used to handle the missing values effectively:\n",
    "\n",
    "* Deletion: Remove observations with missing values, either listwise deletion (removing entire rows) or pairwise deletion (removing specific columns for analysis).\n",
    "* Mean/median imputation: Replace missing values with the mean or median of the available data for numerical variables.\n",
    "* Mode imputation: Replace missing values with the mode (most frequent value) for categorical variables.\n",
    "* Regression imputation: Predict missing values using regression models based on other variables in the dataset.\n",
    "* Multiple imputation: Generate multiple imputed datasets by estimating missing values multiple times and pooling the results for analysis.\n",
    "* K-nearest neighbors imputation: Estimate missing values by imputing them with values from the nearest neighbors in the dataset.\n",
    "\n",
    "The choice of technique depends on the nature of the data, the extent of missingness, the underlying assumptions, and the analysis goals. It is advisable to evaluate the impact of different techniques on the analysis results and consider the potential biases introduced by imputing missing values.* "
   ]
  },
  {
   "cell_type": "markdown",
   "id": "dc084f16-1cfe-4c63-9f92-21a0097bba58",
   "metadata": {},
   "source": [
    "### Q8: You are working with a large dataset and find that a small percentage of the data is missing. What are some strategies you can use to determine if the missing data is missing at random or if there is a pattern to the missing data?"
   ]
  },
  {
   "cell_type": "markdown",
   "id": "47fbc476-0046-419a-948e-2ac1753224c6",
   "metadata": {},
   "source": [
    "When dealing with a large dataset with a small percentage of missing data, you can employ various strategies to determine if the missingness is random or exhibits a pattern:\n",
    "\n",
    "* Descriptive statistics: Examine summary statistics and compare them between observations with missing data and complete observations to identify any systematic differences.\n",
    "* Missingness patterns: Analyze the patterns of missing data across variables to identify any associations or dependencies.\n",
    "* Missingness tests: Conduct statistical tests, such as the chi-square test or t-test, to assess if the missingness is related to specific variables or patterns.\n",
    "* Data visualization: Create visualizations, such as heatmaps or missing data matrices, to visualize the patterns of missingness and identify any discernible trends.\n",
    "* Imputation and analysis comparison: Perform analyses with and without imputed data and compare the results to determine if the missingness pattern affects the conclusions.\n",
    "\n",
    "These strategies can help provide insights into the nature of missing data and whether it follows a random or non-random pattern. Understanding the pattern of missingness is essential for selecting appropriate missing data handling techniques and mitigating potential biases in subsequent analyses."
   ]
  },
  {
   "cell_type": "markdown",
   "id": "24138158-f3a1-4752-8344-d2d51b6541c7",
   "metadata": {
    "tags": []
   },
   "source": [
    "### Q9: Suppose you are working on a medical diagnosis project and find that the majority of patients in the dataset do not have the condition of interest, while a small percentage do. What are some strategies you can use to evaluate the performance of your machine learning model on this imbalanced dataset?"
   ]
  },
  {
   "cell_type": "markdown",
   "id": "2c85e009-71d5-49d0-9140-ce95ef717acc",
   "metadata": {},
   "source": [
    "When dealing with an imbalanced medical diagnosis dataset, several strategies can be employed to evaluate the performance of a machine learning model:\n",
    "\n",
    "* Confusion matrix: Examine metrics such as precision, recall, and F1-score, which provide a more comprehensive evaluation than accuracy, considering true positives, false positives, and false negatives.\n",
    "* Resampling techniques: Employ techniques like oversampling the minority class (e.g., SMOTE) or undersampling the majority class to create a more balanced training set.\n",
    "* Evaluation metrics: Utilize evaluation metrics specifically designed for imbalanced datasets, such as area under the precision-recall curve (PR AUC) or receiver operating characteristic curve (ROC AUC).\n",
    "* Ensemble methods: Utilize ensemble techniques like bagging or boosting to improve the model's ability to learn from the minority class.\n",
    "* Cost-sensitive learning: Assign different misclassification costs to different classes to reflect the importance of correctly identifying the minority class.\n",
    "* Threshold adjustment: Adjust the classification threshold to optimize the trade-off between precision and recall, based on the specific requirements of the medical diagnosis problem.\n",
    "\n",
    "Combining these strategies can help assess the model's performance more accurately and mitigate the biases caused by the class imbalance, leading to better predictions for the minority class."
   ]
  },
  {
   "cell_type": "markdown",
   "id": "7005a792-2d32-4204-8946-5d43716ae6b0",
   "metadata": {},
   "source": [
    "### Q10: When attempting to estimate customer satisfaction for a project, you discover that the dataset is unbalanced, with the bulk of customers reporting being satisfied. What methods can you employ to balance the dataset and down-sample the majority class?"
   ]
  },
  {
   "cell_type": "markdown",
   "id": "aaf536c2-8d7c-49e1-83ee-87a8135f3a18",
   "metadata": {},
   "source": [
    "\n",
    "To balance the dataset and down-sample the majority class when estimating customer satisfaction:\n",
    "\n",
    "* Random under-sampling: Randomly remove instances from the majority class until a desired balance is achieved.\n",
    "* Cluster-based under-sampling: Use clustering algorithms to identify representative instances from the majority class and remove the remaining instances.\n",
    "* Tomek links: Identify pairs of instances from different classes that are nearest neighbors and remove the majority class instances.\n",
    "* NearMiss algorithm: Select majority class instances that are closest to minority class instances and remove the rest.\n",
    "* Combination of under-sampling and over-sampling: Down-sample the majority class and up-sample the minority class simultaneously to create a balanced dataset.\n",
    "* Evaluate and iterate: Continuously evaluate model performance after down-sampling and adjust the balance or explore other techniques if necessary.\n",
    "\n",
    "Applying these down-sampling methods helps address the imbalance by reducing the dominance of the majority class, allowing for improved modeling and analysis of customer satisfaction."
   ]
  },
  {
   "cell_type": "markdown",
   "id": "37596dd7-3861-476f-bba9-59bb04c3e3ad",
   "metadata": {},
   "source": [
    "### Q11: You discover that the dataset is unbalanced with a low percentage of occurrences while working on a project that requires you to estimate the occurrence of a rare event. What methods can you employ to balance the dataset and up-sample the minority class?"
   ]
  },
  {
   "cell_type": "markdown",
   "id": "d83cfe5c-8009-46c0-9d06-acffc57567b3",
   "metadata": {},
   "source": [
    "To balance the dataset and up-sample the minority class when estimating the occurrence of a rare event:\n",
    "\n",
    "Random over-sampling: Randomly duplicate instances from the minority class to increase its representation in the dataset.\n",
    "* SMOTE (Synthetic Minority Over-sampling Technique): Generate synthetic samples by interpolating between existing minority class instances.\n",
    "* ADASYN (Adaptive Synthetic Sampling): Generate synthetic samples with a higher density in the areas of the feature space where the minority class is less represented.\n",
    "* SMOTE-ENN: Combine SMOTE and Edited Nearest Neighbors (ENN) to both up-sample the minority class and remove noisy instances from the majority class.\n",
    "* Ensemble methods: Utilize ensemble techniques like boosting, bagging, or stacking to combine multiple models trained on different resampled datasets.\n",
    "* Evaluate and iterate: Continuously evaluate model performance after up-sampling and adjust the balance or explore other techniques if necessary.\n",
    "\n",
    "Applying these up-sampling methods helps address the imbalance by increasing the presence of the minority class, allowing for more accurate modeling and estimation of the rare event."
   ]
  },
  {
   "cell_type": "markdown",
   "id": "6f238e97-75c2-4806-a5ea-230730fab1d2",
   "metadata": {},
   "source": [
    "### "
   ]
  },
  {
   "cell_type": "markdown",
   "id": "10436afe-6d6c-4488-952a-35e08e6db06b",
   "metadata": {},
   "source": [
    "### "
   ]
  },
  {
   "cell_type": "markdown",
   "id": "6bd8c8c0-4134-44cd-92dc-a5df9fa75bf4",
   "metadata": {},
   "source": [
    "### "
   ]
  },
  {
   "cell_type": "markdown",
   "id": "0bb25bd5-f9d7-4a51-b4f8-8eed577655d0",
   "metadata": {},
   "source": [
    "### "
   ]
  },
  {
   "cell_type": "markdown",
   "id": "9771604f-4f14-405d-9e4c-6421d6b62f33",
   "metadata": {},
   "source": [
    "### "
   ]
  },
  {
   "cell_type": "markdown",
   "id": "459617c6-d039-4f21-a73a-222c46cb531d",
   "metadata": {},
   "source": [
    "### "
   ]
  }
 ],
 "metadata": {
  "kernelspec": {
   "display_name": "Python 3 (ipykernel)",
   "language": "python",
   "name": "python3"
  },
  "language_info": {
   "codemirror_mode": {
    "name": "ipython",
    "version": 3
   },
   "file_extension": ".py",
   "mimetype": "text/x-python",
   "name": "python",
   "nbconvert_exporter": "python",
   "pygments_lexer": "ipython3",
   "version": "3.10.8"
  }
 },
 "nbformat": 4,
 "nbformat_minor": 5
}
