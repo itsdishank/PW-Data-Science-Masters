{
 "cells": [
  {
   "cell_type": "markdown",
   "id": "6cdec8c6-ab27-44f8-8e62-9eba218093e7",
   "metadata": {},
   "source": [
    "### Q1. What is multiprocessing in python? Why is it useful?"
   ]
  },
  {
   "cell_type": "markdown",
   "id": "1f203e9e-6e51-413b-8d27-4221916807a7",
   "metadata": {},
   "source": [
    "Multiprocessing in Python refers to the ability to run multiple processes in parallel, allowing different tasks to be executed simultaneously on multiple CPU cores.\n",
    "\n",
    "Python's multiprocessing module provides an easy way to utilize multiple processors on a single machine. This allows for better performance, as it enables programs to execute multiple tasks at the same time, reducing the overall runtime of the program.\n",
    "\n",
    "Multiprocessing can be useful in a variety of situations, such as:\n",
    "\n",
    "1. Parallelizing CPU-intensive tasks\n",
    "2. Improving I/O-bound tasks\n",
    "3. Scaling a program\n",
    "\n",
    "Overall, multiprocessing is a powerful feature of Python that can help improve the performance of programs by distributing tasks among multiple processors."
   ]
  },
  {
   "cell_type": "markdown",
   "id": "124b43c4-420d-4478-ad90-26a5b4f7555b",
   "metadata": {},
   "source": [
    "### Q2. What are the differences between multiprocessing and multithreading?"
   ]
  },
  {
   "cell_type": "markdown",
   "id": "00e1fb21-da1a-4551-9f67-9ccaf51da546",
   "metadata": {},
   "source": [
    "Multiprocessing and multithreading are both techniques used to achieve concurrent execution of code, but they work in slightly different ways. Here are some of the key differences between multiprocessing and multithreading:\n",
    "\n",
    "1. Separate memory space: In multiprocessing, each process has its own memory space, which means that they do not share memory. On the other hand, in multithreading, all threads of a process share the same memory space.\n",
    "\n",
    "2. Parallelism: Multiprocessing can achieve true parallelism, meaning that multiple processes can run at the same time on different CPU cores. However, multithreading can only achieve concurrency, meaning that threads take turns executing on a single CPU core.\n",
    "\n",
    "3. Overhead: Multiprocessing has more overhead than multithreading because it requires the creation of separate processes, which can be more time-consuming and resource-intensive. Multithreading, on the other hand, has less overhead because threads can be created more quickly and do not require separate memory spaces.\n",
    "\n",
    "4. Interprocess communication: In multiprocessing, interprocess communication is required to share data between processes, which can be more complex than sharing data between threads in multithreading.\n",
    "\n",
    "5. Fault tolerance: Multiprocessing is more fault-tolerant than multithreading because if one process crashes, it does not affect other processes. In contrast, if a thread crashes in a multithreaded program, it can potentially cause the entire program to crash."
   ]
  },
  {
   "cell_type": "markdown",
   "id": "fb6b8a4f-2b0b-4dbe-b594-b2ea5309a2ce",
   "metadata": {},
   "source": [
    "### Q3. Write a python code to create a process using the multiprocessing module."
   ]
  },
  {
   "cell_type": "code",
   "execution_count": 14,
   "id": "aeee4efd-8f1c-4a20-987c-555f3e87ad0e",
   "metadata": {},
   "outputs": [
    {
     "name": "stdout",
     "output_type": "stream",
     "text": [
      "Worker process is running.\n",
      "Main process is done.\n"
     ]
    }
   ],
   "source": [
    "import multiprocessing\n",
    "\n",
    "def worker():\n",
    "    print(\"Worker process is running.\")\n",
    "\n",
    "if __name__ == '__main__':\n",
    "    p = multiprocessing.Process(target=worker)\n",
    "    p.start()\n",
    "    p.join()\n",
    "\n",
    "    print(\"Main process is done.\")\n"
   ]
  },
  {
   "cell_type": "markdown",
   "id": "a9860b18-d3a1-4595-87cd-b2459a7f32b4",
   "metadata": {},
   "source": [
    "### Q4. What is a multiprocessing pool in python? Why is it used?"
   ]
  },
  {
   "cell_type": "markdown",
   "id": "7bb270a4-46b4-42b3-880d-252068845fee",
   "metadata": {},
   "source": [
    "In Python, a multiprocessing pool is a collection of worker processes that are used to perform tasks in parallel. The multiprocessing module provides a Pool class that can be used to create a pool of worker processes.\n",
    "\n",
    "When you create a Pool object, you specify the number of worker processes that should be in the pool. You can then submit tasks to the pool using the apply() or map() methods, which distribute the tasks among the worker processes.\n",
    "\n",
    "Multiprocessing pools are used in Python to distribute the workload across multiple processes, allowing for efficient use of CPU resources and faster completion of tasks. They are particularly useful in situations where the tasks are independent of each other and can be executed in any order."
   ]
  },
  {
   "cell_type": "markdown",
   "id": "904e4fd3-45da-4cb8-a9a5-36d7e662e0a2",
   "metadata": {},
   "source": [
    "### Q5. How can we create a pool of worker processes in python using the multiprocessing module?"
   ]
  },
  {
   "cell_type": "code",
   "execution_count": 15,
   "id": "794ad343-da88-45e5-a5ef-c0c986bbe773",
   "metadata": {},
   "outputs": [
    {
     "name": "stdout",
     "output_type": "stream",
     "text": [
      "Worker process 0 is running.\n",
      "Worker process 1 is running.\n",
      "Worker process 2 is running.\n",
      "Main process is done.\n"
     ]
    }
   ],
   "source": [
    "import multiprocessing\n",
    "import time\n",
    "\n",
    "def worker(num):\n",
    "    print(\"Worker process %d is running.\" % num)\n",
    "\n",
    "if __name__ == '__main__':\n",
    "    # Create a pool with 3 worker processes\n",
    "    pool = multiprocessing.Pool(3)\n",
    "\n",
    "    # Submit tasks to the pool\n",
    "    for i in range(3):\n",
    "        pool.apply(worker, args=(i,))\n",
    "\n",
    "    # Wait for all tasks to complete\n",
    "    pool.close()\n",
    "    pool.join()\n",
    "\n",
    "    print(\"Main process is done.\")\n"
   ]
  },
  {
   "cell_type": "markdown",
   "id": "c9aa507b-2571-422c-b976-30d36f64ecd2",
   "metadata": {},
   "source": [
    "### Q6. Write a python program to create 4 processes, each process should print a different number using the multiprocessing module in python."
   ]
  },
  {
   "cell_type": "code",
   "execution_count": 16,
   "id": "a6fdb030-cc85-4309-a593-b7fcf46e56b4",
   "metadata": {},
   "outputs": [
    {
     "name": "stdout",
     "output_type": "stream",
     "text": [
      "Process 0 is printing number 0.\n",
      "Process 1 is printing number 1.\n",
      "Process 2 is printing number 2.\n",
      "Process 3 is printing number 3.\n",
      "All processes are done.\n"
     ]
    }
   ],
   "source": [
    "import multiprocessing\n",
    "import time\n",
    "\n",
    "def print_number(num):\n",
    "    print(\"Process %d is printing number %d.\" % (num, num))\n",
    "\n",
    "if __name__ == '__main__':\n",
    "    processes = []\n",
    "    for i in range(4):\n",
    "        process = multiprocessing.Process(target=print_number, args=(i,))\n",
    "        processes.append(process)\n",
    "\n",
    "    for process in processes:\n",
    "        process.start()\n",
    "\n",
    "    for process in processes:\n",
    "        process.join()\n",
    "\n",
    "    print(\"All processes are done.\")\n"
   ]
  },
  {
   "cell_type": "markdown",
   "id": "8566e82f-3052-49b8-b91c-57e42bfa08c1",
   "metadata": {},
   "source": [
    "### "
   ]
  },
  {
   "cell_type": "markdown",
   "id": "70732803-d397-4567-b51b-f497393ddacb",
   "metadata": {},
   "source": [
    "### "
   ]
  },
  {
   "cell_type": "markdown",
   "id": "9021db39-96f7-4a9c-a544-8804481cdd73",
   "metadata": {},
   "source": [
    "### "
   ]
  }
 ],
 "metadata": {
  "kernelspec": {
   "display_name": "Python 3 (ipykernel)",
   "language": "python",
   "name": "python3"
  },
  "language_info": {
   "codemirror_mode": {
    "name": "ipython",
    "version": 3
   },
   "file_extension": ".py",
   "mimetype": "text/x-python",
   "name": "python",
   "nbconvert_exporter": "python",
   "pygments_lexer": "ipython3",
   "version": "3.10.8"
  }
 },
 "nbformat": 4,
 "nbformat_minor": 5
}
