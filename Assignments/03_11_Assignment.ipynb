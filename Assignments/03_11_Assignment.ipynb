{
 "cells": [
  {
   "cell_type": "markdown",
   "id": "0e91cbe4-e9c9-437e-ab10-f7a448bbf789",
   "metadata": {},
   "source": [
    "### Q1: What is the difference between a t-test and a z-test? Provide an example scenario where you would use each type of test."
   ]
  },
  {
   "cell_type": "markdown",
   "id": "1e603357-a9b2-4446-9d37-97423c95a2a3",
   "metadata": {},
   "source": [
    "Both t-tests and z-tests are statistical tests used to make inferences about population parameters based on sample data. The main difference between the two tests lies in the assumptions made about the population and the sample size.\n",
    "\n",
    "T-test:<br>\n",
    "A t-test is used when the sample size is small, or when the population standard deviation is unknown. It is based on Student's t-distribution. The t-distribution has thicker tails compared to the standard normal distribution (z-distribution), which accounts for the increased uncertainty with smaller sample sizes.<br>\n",
    "Example scenario for t-test:<br>\n",
    "Suppose you want to compare the mean heights of two different groups of students: Group A and Group B. You take a random sample of 30 students from each group and measure their heights. Since the population standard deviations are unknown, you would use a t-test to determine if there is a significant difference between the mean heights of the two groups.\n",
    "\n",
    "Z-test:<br>\n",
    "A z-test is used when the sample size is large (typically n > 30), or when the population standard deviation is known. It assumes that the sampling distribution follows a standard normal distribution.<br>\n",
    "Example scenario for z-test:<br>\n",
    "Let's say you want to test whether the average IQ score of a certain population is significantly different from a known population mean IQ score of 100. You collect a large random sample of 200 individuals from the population and compute their IQ scores. Since the sample size is large and the population standard deviation is known, you would employ a z-test to determine if the average IQ score of the population differs significantly from 100.\n",
    "\n"
   ]
  },
  {
   "cell_type": "markdown",
   "id": "4f8da4af-ce38-4dea-be73-026dff39981d",
   "metadata": {},
   "source": [
    "### Q2: Differentiate between one-tailed and two-tailed tests."
   ]
  },
  {
   "cell_type": "markdown",
   "id": "d13690b1-2f1b-440a-918d-0b70033b718f",
   "metadata": {},
   "source": [
    "One-Tailed Test:<br>\n",
    "In a one-tailed test, the alternative hypothesis focuses on a specific direction of the effect or difference between groups. It tests whether the sample data is significantly greater than or less than a particular value, depending on the direction specified in the alternative hypothesis. The critical region for the test is located entirely in one tail of the distribution.\n",
    "\n",
    "Two-Tailed Test:<br>\n",
    "In a two-tailed test, the alternative hypothesis considers the possibility of an effect or difference in either direction. It tests whether the sample data is significantly different from a particular value, regardless of the direction. The critical region for the test is divided between both tails of the distribution."
   ]
  },
  {
   "cell_type": "markdown",
   "id": "a8bd0a45-7e67-4e8e-ab79-a516f13e5a5a",
   "metadata": {},
   "source": [
    "### Q3: Explain the concept of Type 1 and Type 2 errors in hypothesis testing. Provide an example scenario for each type of error."
   ]
  },
  {
   "cell_type": "markdown",
   "id": "2bded662-d8c9-4093-916c-d14aaaa82dc5",
   "metadata": {},
   "source": [
    "Type 1 Error (False Positive):<br>\n",
    "A Type 1 error occurs when the null hypothesis is rejected when it is actually true. In other words, it is the incorrect rejection of a true null hypothesis. This error is also known as a \"false positive.\"<br>\n",
    "Example scenario: Let's say a pharmaceutical company is testing a new drug to determine its effectiveness in treating a particular disease. The null hypothesis (H0) states that the drug has no effect on the disease. A Type 1 error would occur if the company rejects the null hypothesis and concludes that the drug is effective, even though it has no real effect. This could lead to the drug being released to the market and prescribed to patients, resulting in unnecessary expenses and potential harm.\n",
    "\n",
    "Type 2 Error (False Negative):<br>\n",
    "A Type 2 error occurs when the null hypothesis is accepted when it is actually false. In other words, it is the failure to reject a false null hypothesis. This error is also known as a \"false negative.\"<br>\n",
    "Example scenario: Continuing with the previous example, a Type 2 error would occur if the pharmaceutical company fails to reject the null hypothesis and concludes that the drug is ineffective, even though it has a real effect in treating the disease. In this case, the drug would not be further developed or approved, and patients would miss out on a potentially beneficial treatment."
   ]
  },
  {
   "cell_type": "markdown",
   "id": "f4c0b458-51c9-416f-8b7b-2737fcc34325",
   "metadata": {},
   "source": [
    "### Q4: Explain Bayes's theorem with an example."
   ]
  },
  {
   "cell_type": "markdown",
   "id": "0cff8455-ae35-4502-a17c-f6da7c6b5b34",
   "metadata": {},
   "source": [
    "Bayes's theorem is a fundamental concept in probability theory and statistics that provides a way to update our beliefs or probabilities based on new evidence. It allows us to calculate the conditional probability of an event A given that event B has occurred, by taking into account the prior probability of A and the likelihood of B given A.\n",
    "\n",
    "The formula for Bayes's theorem is as follows:\n",
    "\n",
    "P(A|B) = (P(B|A) * P(A)) / P(B)\n",
    "\n",
    "Where:\n",
    "P(A|B) is the posterior probability of event A given event B.<br>\n",
    "P(B|A) is the likelihood or conditional probability of event B given event A.<br>\n",
    "P(A) is the prior probability of event A.<br>\n",
    "P(B) is the prior probability of event B.<br>\n",
    "\n",
    "Example:\n",
    "\n",
    "Suppose you have two coins in a bag, one is fair (50% chance of landing on heads) and the other is biased (80% chance of landing on heads). You randomly pick a coin from the bag and flip it once. The coin lands on heads. We want to calculate the probability that the coin you picked is the biased one.\n",
    "\n",
    "Let's assign the following probabilities:<br>\n",
    "P(Fair) = 0.5 (prior probability of picking the fair coin)<br>\n",
    "P(Biased) = 0.5 (prior probability of picking the biased coin)<br>\n",
    "P(Heads|Fair) = 0.5 (likelihood of getting heads if the coin is fair)<br>\n",
    "P(Heads|Biased) = 0.8 (likelihood of getting heads if the coin is biased)<br>\n",
    "\n",
    "Using Bayes's theorem, we can calculate the posterior probability:\n",
    "\n",
    "P(Biased|Heads) = (P(Heads|Biased) * P(Biased)) / P(Heads)\n",
    "\n",
    "To calculate P(Heads), we need to consider the probabilities of getting heads with both the fair and biased coins:\n",
    "\n",
    "P(Heads) = P(Heads|Fair) * P(Fair) + P(Heads|Biased) * P(Biased)<br>\n",
    "= 0.5 * 0.5 + 0.8 * 0.5<br>\n",
    "= 0.25 + 0.4<br>\n",
    "= 0.65<br>\n",
    "\n",
    "Now, let's calculate the posterior probability:\n",
    "\n",
    "P(Biased|Heads) = (0.8 * 0.5) / 0.65<br>\n",
    "= 0.4 / 0.65<br>\n",
    "≈ 0.615<br>\n",
    "\n",
    "So, given that you flipped a coin and it landed on heads, the probability that the coin you picked is the biased one is approximately 0.615 or 61.5%."
   ]
  },
  {
   "cell_type": "markdown",
   "id": "b534554c-8c4b-4ed3-9e65-66dbc6c58005",
   "metadata": {},
   "source": [
    "### Q5: What is a confidence interval? How to calculate the confidence interval, explain with an example."
   ]
  },
  {
   "cell_type": "markdown",
   "id": "973e8bab-b4d4-49a4-81c4-7297869aabe3",
   "metadata": {},
   "source": [
    "A confidence interval is a range of values that provides an estimate of the plausible range of values for an unknown population parameter, such as a mean or a proportion. It is often used in statistics to quantify the uncertainty associated with sample estimates.\n",
    "\n",
    "To calculate a confidence interval, you typically need three pieces of information: the sample mean (or proportion), the standard deviation (or standard error), and the desired level of confidence.\n",
    "\n",
    "Example:\n",
    "Suppose you want to estimate the proportion of people in a city who support a specific political candidate. You randomly survey 500 individuals and find that 300 of them express support for the candidate.\n",
    "\n",
    "Sample proportion: 300/500 = 0.6\n",
    "\n",
    "Desired confidence level: 95% confidence level (α = 0.05)\n",
    "\n",
    "Distribution: Since the sample is large, you can use the standard normal distribution.\n",
    "\n",
    "Calculate the standard error:<br>\n",
    "Standard Error = sqrt((p * (1 - p)) / n)<br>\n",
    "Standard Error = sqrt((0.6 * (1 - 0.6)) / 500)<br>\n",
    "Standard Error ≈ 0.020\n",
    "\n",
    "Find the critical value: For a 95% confidence level, the critical value is approximately 1.96 from the standard normal distribution.\n",
    "\n",
    "Calculate the margin of error:<br>\n",
    "Margin of Error = Critical Value * Standard Error<br>\n",
    "Margin of Error = 1.96 * 0.020<br>\n",
    "Margin of Error ≈ 0.0392\n",
    "\n",
    "Construct the confidence interval:<br>\n",
    "Confidence Interval = Sample Proportion ± Margin of Error<br>\n",
    "Confidence Interval = 0.6 ± 0.0392<br>\n",
    "Confidence Interval ≈ (0.5608, 0.6392)"
   ]
  },
  {
   "cell_type": "markdown",
   "id": "ff588bab-6d27-45d9-9118-9f526c21f66c",
   "metadata": {},
   "source": [
    "### Q6. Use Bayes' Theorem to calculate the probability of an event occurring given prior knowledge of the event's probability and new evidence. Provide a sample problem and solution."
   ]
  },
  {
   "cell_type": "markdown",
   "id": "2eef568e-d72d-42fc-a2d2-4da0495ffd8c",
   "metadata": {},
   "source": [
    "Problem:\n",
    "Suppose there is a rare disease that affects 1 in 10,000 individuals in a population. There is a test available to detect the disease, but it is not perfect. The test has a sensitivity of 95%, meaning it correctly identifies 95% of the individuals who have the disease. The test also has a specificity of 90%, meaning it correctly identifies 90% of the individuals who do not have the disease.\n",
    "\n",
    "You have taken the test and received a positive result. Given this information, what is the probability that you actually have the disease?\n",
    "\n",
    "Solution:\n",
    "Let's break down the problem and calculate the probability using Bayes' Theorem.\n",
    "\n",
    "P(Disease) = 1/10,000 (prior probability of having the disease)<br>\n",
    "P(No Disease) = 1 - P(Disease) = 9,999/10,000 (prior probability of not having the disease)<br>\n",
    "P(Positive|Disease) = 0.95 (likelihood of a positive test result given the person has the disease)<br>\n",
    "P(Positive|No Disease) = 0.1 (likelihood of a positive test result given the person does not have the disease)\n",
    "\n",
    "Now, let's calculate the probability using Bayes' Theorem:\n",
    "\n",
    "P(Disease|Positive) = (P(Positive|Disease) * P(Disease)) / P(Positive)\n",
    "\n",
    "To calculate P(Positive), we need to consider the probabilities of both true positives and false positives:\n",
    "\n",
    "P(Positive) = P(Positive|Disease) * P(Disease) + P(Positive|No Disease) * P(No Disease)<br>\n",
    "= 0.95 * (1/10,000) + 0.1 * (9,999/10,000)<br>\n",
    "≈ 0.000095 + 0.09999<br>\n",
    "≈ 0.100085\n",
    "\n",
    "Now, let's calculate the probability using Bayes' Theorem:\n",
    "\n",
    "P(Disease|Positive) = (0.95 * (1/10,000)) / 0.100085<br>\n",
    "≈ 0.000095 / 0.100085<br>\n",
    "≈ 0.0009491\n",
    "\n",
    "Therefore, given a positive test result, the probability that you actually have the disease is approximately 0.0009491 or 0.09491%."
   ]
  },
  {
   "cell_type": "markdown",
   "id": "45b29b4a-de95-453c-bea8-c0e2cc391b55",
   "metadata": {},
   "source": [
    "### Q7. Calculate the 95% confidence interval for a sample of data with a mean of 50 and a standard deviation of 5. Interpret the results."
   ]
  },
  {
   "cell_type": "markdown",
   "id": "8209c9f2-3d0f-48d1-82df-8bb918395b56",
   "metadata": {},
   "source": [
    "Confidence Interval = Sample Mean ± (Critical Value * Standard Error)\n",
    "\n",
    "The critical value depends on the desired level of confidence and the sample size. For a 95% confidence level and a sufficiently large sample size (typically considered as n ≥ 30), the critical value is approximately 1.96.\n",
    "\n",
    "First, let's calculate the standard error:\n",
    "\n",
    "Standard Error = Standard Deviation / sqrt(Sample Size)<br>\n",
    "Standard Error = 5 / sqrt(N)<br>\n",
    "\n",
    "Assuming the sample size (N) is not specified, let's consider a sample size of 100 for demonstration purposes.\n",
    "\n",
    "Standard Error = 5 / sqrt(100)<br>\n",
    "Standard Error = 5 / 10<br>\n",
    "Standard Error = 0.5\n",
    "\n",
    "Now, we can calculate the 95% confidence interval:\n",
    "\n",
    "Confidence Interval = 50 ± (1.96 * 0.5)<br>\n",
    "Confidence Interval = 50 ± 0.98<br>\n",
    "Confidence Interval ≈ (49.02, 50.98)\n",
    "\n",
    "Interpretation:<br>\n",
    "The 95% confidence interval for the sample data with a mean of 50 and a standard deviation of 5 is approximately (49.02, 50.98). This means that we can be 95% confident that the true population mean falls within this interval."
   ]
  },
  {
   "cell_type": "markdown",
   "id": "e3ac7320-0dfd-4f46-8986-e71faa37fee8",
   "metadata": {},
   "source": [
    "### Q8. What is the margin of error in a confidence interval? How does sample size affect the margin of error? Provide an example of a scenario where a larger sample size would result in a smaller margin of error."
   ]
  },
  {
   "cell_type": "markdown",
   "id": "d119cd56-aba0-4163-b176-0460afabac56",
   "metadata": {},
   "source": [
    "The margin of error in a confidence interval is the range of values that is added or subtracted from the point estimate (such as the sample mean or proportion) to create the interval estimate. It quantifies the precision or uncertainty associated with the estimate.\n",
    "\n",
    "The margin of error is influenced by several factors, including the desired level of confidence, the variability of the data (typically measured by the standard deviation or standard error), and the sample size.\n",
    "\n",
    "Sample size has an inverse relationship with the margin of error. As the sample size increases, the margin of error decreases. This is because larger sample sizes provide more information about the population, resulting in a more precise estimate.\n",
    "\n",
    "In Scenario 1:<br>\n",
    "Sample Size (n) = 50<br>\n",
    "Standard Deviation (σ) = 10<br>\n",
    "\n",
    "In Scenario 2:<br>\n",
    "Sample Size (n) = 500<br>\n",
    "Standard Deviation (σ) = 10\n",
    "\n",
    "Now, let's calculate the margin of error using a 95% confidence level:\n",
    "\n",
    "Margin of Error = Critical Value * (Standard Deviation / sqrt(Sample Size))\n",
    "\n",
    "Assuming a critical value of approximately 1.96 for a 95% confidence level, let's calculate the margin of error for both scenarios:\n",
    "\n",
    "In Scenario 1:<br>\n",
    "Margin of Error = 1.96 * (10 / sqrt(50))<br>\n",
    "≈ 1.96 * (10 / 7.07)<br>\n",
    "≈ 2.78\n",
    "\n",
    "In Scenario 2:<br>\n",
    "Margin of Error = 1.96 * (10 / sqrt(500))<br>\n",
    "≈ 1.96 * (10 / 22.36)<br>\n",
    "≈ 0.879\n",
    "\n",
    "As you can see, the margin of error in Scenario 2 (larger sample size) is smaller than in Scenario 1 (smaller sample size). This is because the larger sample size provides more information and reduces the uncertainty associated with the estimate. Consequently, the margin of error decreases, resulting in a narrower confidence interval and a more precise estimate of the population parameter."
   ]
  },
  {
   "cell_type": "markdown",
   "id": "aabe2822-1a6d-43cb-9bf0-cb4a8f14760b",
   "metadata": {},
   "source": [
    "### Q9. Calculate the z-score for a data point with a value of 75, a population mean of 70, and a population standard deviation of 5. Interpret the results."
   ]
  },
  {
   "cell_type": "markdown",
   "id": "80f16127-af65-4442-ab4a-8add385dddb0",
   "metadata": {},
   "source": [
    "To calculate the z-score for a data point, you can use the formula:\n",
    "\n",
    "z = (X - μ) / σ\n",
    "\n",
    "Where:<br>\n",
    "X is the data point,<br>\n",
    "μ is the population mean, and<br>\n",
    "σ is the population standard deviation.\n",
    "\n",
    "In this case, the data point is 75, the population mean is 70, and the population standard deviation is 5. Let's calculate the z-score:\n",
    "\n",
    "z = (75 - 70) / 5<br>\n",
    "z = 5 / 5<br>\n",
    "z = 1\n",
    "\n",
    "The calculated z-score is 1."
   ]
  },
  {
   "cell_type": "markdown",
   "id": "a496c628-8036-485b-a856-add99031c571",
   "metadata": {},
   "source": [
    "### Q10. In a study of the effectiveness of a new weight loss drug, a sample of 50 participants lost an average of 6 pounds with a standard deviation of 2.5 pounds. Conduct a hypothesis test to determine if the drug is significantly effective at a 95% confidence level using a t-test."
   ]
  },
  {
   "cell_type": "markdown",
   "id": "7694e893-db87-4469-b8aa-e46d678faa61",
   "metadata": {},
   "source": [
    "Null hypothesis (H0): The weight loss drug is not significantly effective. The average weight loss is equal to or less than zero (μ ≤ 0).<br>\n",
    "Alternative hypothesis (Ha): The weight loss drug is significantly effective. The average weight loss is greater than zero (μ > 0).<br>\n",
    "\n",
    "Here, we have a sample of 50 participants with an average weight loss of 6 pounds and a standard deviation of 2.5 pounds.\n",
    "\n",
    "Now, let's calculate the test statistic using the t-test formula:\n",
    "\n",
    "t = (X - μ) / (s / √n)\n",
    "\n",
    "Where:<br>\n",
    "X is the sample mean,<br>\n",
    "μ is the population mean under the null hypothesis,<br>\n",
    "s is the sample standard deviation, and<br>\n",
    "n is the sample size.\n",
    "\n",
    "In this case:<br>\n",
    "X = 6 (sample mean)<br>\n",
    "μ = 0 (null hypothesis mean)<br>\n",
    "s = 2.5 (sample standard deviation)<br>\n",
    "n = 50 (sample size)\n",
    "\n",
    "t = (6 - 0) / (2.5 / √50)<br>\n",
    "t = 6 / (2.5 / 7.071)<br>\n",
    "t = 6 / 1.767<br>\n",
    "t ≈ 3.394\n",
    "\n",
    "Now, we need to determine the critical value for a one-tailed t-test with a 95% confidence level and 49 degrees of freedom (n - 1 = 50 - 1 = 49). We can look up this value in a t-distribution table. For a 95% confidence level and 49 degrees of freedom, the critical value is approximately 1.684.\n",
    "\n",
    "Since the test statistic (3.394) is greater than the critical value (1.684), we can reject the null hypothesis.\n",
    "\n",
    "Conclusion:<br>\n",
    "Based on the results of the t-test, at a 95% confidence level, we have evidence to suggest that the weight loss drug is significantly effective in helping participants lose weight. The average weight loss of 6 pounds observed in the sample is statistically significant and likely not due to random chance alone."
   ]
  },
  {
   "cell_type": "markdown",
   "id": "a278c40e-315c-4aef-8d53-9d6f26893261",
   "metadata": {},
   "source": [
    "### Q11. In a survey of 500 people, 65% reported being satisfied with their current job. Calculate the 95% confidence interval for the true proportion of people who are satisfied with their job."
   ]
  },
  {
   "cell_type": "markdown",
   "id": "d151095d-52ec-4426-b063-77df06e59f70",
   "metadata": {},
   "source": [
    "the sample size is 500 and the proportion of people satisfied with their job is 0.65 (or 65%).\n",
    "\n",
    "Let's calculate the confidence interval:\n",
    "\n",
    "Standard Error = sqrt[(p * (1-p)) / n]<br>\n",
    "= sqrt[(0.65 * (1-0.65)) / 500]<br>\n",
    "≈ sqrt[(0.2275) / 500]<br>\n",
    "≈ sqrt[0.000455]<br>\n",
    "≈ 0.02135\n",
    "\n",
    "Confidence Interval = 0.65 ± (1.96 * 0.02135)<br>\n",
    "= 0.65 ± 0.04186<br>\n",
    "≈ (0.6081, 0.6919)\n",
    "\n",
    "The 95% confidence interval for the true proportion of people who are satisfied with their job is approximately (0.6081, 0.6919).\n",
    "\n",
    "Interpretation:<br>\n",
    "We can be 95% confident that the true proportion of people who are satisfied with their job falls within this interval. This means that if we were to repeat the survey multiple times and calculate the confidence interval each time, approximately 95% of the intervals would capture the true proportion of people satisfied with their job."
   ]
  },
  {
   "cell_type": "markdown",
   "id": "03aa76f0-de87-4e7f-9a21-3451e96b1989",
   "metadata": {},
   "source": [
    "### Q12. A researcher is testing the effectiveness of two different teaching methods on student performance. Sample A has a mean score of 85 with a standard deviation of 6, while sample B has a mean score of 82 with a standard deviation of 5. Conduct a hypothesis test to determine if the two teaching methods have a significant difference in student performance using a t-test with a significance level of 0.01."
   ]
  },
  {
   "cell_type": "markdown",
   "id": "ffb3a713-7d5f-4fef-ab18-d329077f46a6",
   "metadata": {},
   "source": [
    "<br>Null hypothesis (H0): The two teaching methods have no significant difference in student performance. The mean score for sample A is equal to the mean score for sample B (μA = μB).<br>\n",
    "Alternative hypothesis (Ha): The two teaching methods have a significant difference in student performance. The mean score for sample A is not equal to the mean score for sample B (μA ≠ μB).\n",
    "\n",
    "Sample A has a mean score of 85 with a standard deviation of 6, and sample B has a mean score of 82 with a standard deviation of 5.\n",
    "\n",
    "Let's assume the sample sizes are equal, with n1 = n2 = 20.\n",
    "\n",
    "The calculated test statistic is:\n",
    "\n",
    "t = (85 - 82) / sqrt((6^2 / 20) + (5^2 / 20))<br>\n",
    "= 3 / sqrt((36/20) + (25/20))<br>\n",
    "= 3 / sqrt(1.8 + 1.25)<br>\n",
    "= 3 / sqrt(3.05)<br>\n",
    "≈ 3 / 1.747<br>\n",
    "≈ 1.716<br>\n",
    "\n",
    "To compare the calculated test statistic to the critical value, we use the significance level of 0.01.\n",
    "\n",
    "For a two-tailed t-test with 38 degrees of freedom (assuming equal sample sizes of 20), the critical value can be obtained from a t-distribution table or statistical software. Let's assume the critical value is approximately ±2.714.\n",
    "\n",
    "Since the calculated |t| value (1.716) is less than the critical value (2.714), we fail to reject the null hypothesis."
   ]
  },
  {
   "cell_type": "markdown",
   "id": "2785663d-619e-4e85-a1f1-3b8322c453c1",
   "metadata": {},
   "source": [
    "### Q13. A population has a mean of 60 and a standard deviation of 8. A sample of 50 observations has a mean of 65. Calculate the 90% confidence interval for the true population mean."
   ]
  },
  {
   "cell_type": "markdown",
   "id": "b83b463d-f4ae-48f3-a15e-95f2b0b6837f",
   "metadata": {},
   "source": [
    "Standard Error = Population Standard Deviation / sqrt(Sample Size)<br>\n",
    "= 8 / sqrt(50)<br>\n",
    "≈ 1.1314\n",
    "\n",
    "Confidence Interval = Sample Mean ± (Critical Value * Standard Error)<br>\n",
    "= 65 ± (1.65 * 1.1314)<br>\n",
    "= 65 ± (1.867)<br>\n",
    "≈ (63.133, 66.867)\n",
    "\n",
    "The 90% confidence interval for the true population mean is approximately (63.133, 66.867)."
   ]
  },
  {
   "cell_type": "markdown",
   "id": "25ef0c2d-3adf-4393-9dbc-c46c9dfc1564",
   "metadata": {},
   "source": [
    "### Q14. In a study of the effects of caffeine on reaction time, a sample of 30 participants had an average reaction time of 0.25 seconds with a standard deviation of 0.05 seconds. Conduct a hypothesis test to determine if the caffeine has a significant effect on reaction time at a 90% confidence level using a t-test."
   ]
  },
  {
   "cell_type": "markdown",
   "id": "c1e47c67-6f41-4938-9dc6-b85f222d6f48",
   "metadata": {},
   "source": [
    "Null hypothesis (H0): Caffeine has no significant effect on reaction time. The mean reaction time for the population is equal to the mean reaction time in the sample (μ = μ0).<br>\n",
    "Alternative hypothesis (Ha): Caffeine has a significant effect on reaction time. The mean reaction time for the population is not equal to the mean reaction time in the sample (μ ≠ μ0).\n",
    "\n",
    "The sample of 30 participants had an average reaction time of 0.25 seconds with a standard deviation of 0.05 seconds.<br>\n",
    "\n",
    "Now, let's calculate the test statistic using the t-test formula:\n",
    "\n",
    "t = (X - μ0) / (s / sqrt(n))\n",
    "\n",
    "Where:\n",
    "\n",
    "X is the sample mean,<br>\n",
    "μ0 is the hypothesized population mean under the null hypothesis,<br>\n",
    "s is the sample standard deviation,<br>\n",
    "n is the sample size.<br>\n",
    "In this case:<br>\n",
    "X = 0.25 (sample mean)<br>\n",
    "μ0 = Let's assume the hypothesized population mean under the null hypothesis is 0.24 (seconds).<br>\n",
    "s = 0.05 (sample standard deviation)<br>\n",
    "n = 30 (sample size)\n",
    "\n",
    "t = (0.25 - 0.24) / (0.05 / sqrt(30))<br>\n",
    "t = 0.01 / (0.05 / sqrt(30))<br>\n",
    "t = 0.01 / (0.05 / 5.477)<br>\n",
    "t = 0.01 / 0.00915<br>\n",
    "t ≈ 1.093\n",
    "\n",
    "To compare the calculated test statistic to the critical value, we need to determine the degrees of freedom (df), which is n - 1.\n",
    "\n",
    "df = 30 - 1<br>\n",
    "df = 29\n",
    "\n",
    "Using a significance level of 0.10 (90% confidence level) and the degrees of freedom, we can find the critical value for a two-tailed t-test. Let's assume the critical value is approximately ±1.699 (obtained from a t-distribution table or statistical software).\n",
    "\n",
    "Now, we can compare the calculated test statistic to the critical value.<br>\n",
    "\n",
    "If |t| > critical value, we reject the null hypothesis. Otherwise, we fail to reject the null hypothesis.\n",
    "\n",
    "Conclusion:<br>\n",
    "Based on the calculated test statistic and the critical value, if the calculated |t| value is greater than 1.699 or less than -1.699, we would reject the null hypothesis. This would indicate that caffeine has a significant effect on reaction time.\n",
    "\n",
    "Please note that the critical value and the hypothesized population mean under the null hypothesis are arbitrary in this example, and we should use the actual values and significance level available to us for a precise analysis."
   ]
  }
 ],
 "metadata": {
  "kernelspec": {
   "display_name": "Python 3 (ipykernel)",
   "language": "python",
   "name": "python3"
  },
  "language_info": {
   "codemirror_mode": {
    "name": "ipython",
    "version": 3
   },
   "file_extension": ".py",
   "mimetype": "text/x-python",
   "name": "python",
   "nbconvert_exporter": "python",
   "pygments_lexer": "ipython3",
   "version": "3.10.8"
  }
 },
 "nbformat": 4,
 "nbformat_minor": 5
}
