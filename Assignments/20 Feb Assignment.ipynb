{
 "cells": [
  {
   "cell_type": "markdown",
   "id": "468c469e-b40b-455a-8e5b-ca314814c3e4",
   "metadata": {},
   "source": [
    "### Q1. Explain GET and POST methods."
   ]
  },
  {
   "cell_type": "markdown",
   "id": "57573fc1-1acb-4b15-a9b7-1ac4147ef3a7",
   "metadata": {},
   "source": [
    "GET and POST are two HTTP methods used in web development to send and receive data from the server.\n",
    "\n",
    "* GET: \n",
    "The GET method is used to request a resource from the server. It is the default method used by web browsers to request web pages. When a GET request is made, the data is sent in the URL as a query string. This means that the data is visible to everyone, including any sensitive information such as passwords.\n",
    "\n",
    "* POST:\n",
    "The POST method is used to submit data to the server. When a POST request is made, the data is sent in the body of the request, which is not visible in the URL. This makes it more secure than the GET method for sending sensitive information. The POST method is used to create, update or delete data on the server."
   ]
  },
  {
   "cell_type": "markdown",
   "id": "0c4f4f1a-2f5b-4a4b-b5dc-a689d27a867b",
   "metadata": {},
   "source": [
    "### Q2. Why is request used in Flask?"
   ]
  },
  {
   "cell_type": "markdown",
   "id": "e342911e-c6cf-48b8-95fd-bacf22a0f84c",
   "metadata": {},
   "source": [
    "Request is a module in Flask that is used to access the data sent by the client as part of the request. It allows us to extract data from the incoming request and process it in our Flask application.\n",
    "\n",
    "Request is an essential module in Flask because it allows us to interact with the user and process the data sent by the user. Without the request module, we would not be able to extract and process the data sent by the user, and our Flask application would not be very useful. Therefore, the request module is an integral part of Flask, and it is used extensively in Flask applications."
   ]
  },
  {
   "cell_type": "markdown",
   "id": "0be7afe9-4718-4b31-b46f-2c2b7dc6cd44",
   "metadata": {},
   "source": [
    "### Q3. Why is redirect() used in Flask?"
   ]
  },
  {
   "cell_type": "markdown",
   "id": "18105b38-8209-4c42-87ff-5d934cb80c86",
   "metadata": {},
   "source": [
    "The redirect() function is a built-in function in Flask that is used to redirect the user to a different URL. It is often used in web applications when the user submits a form or clicks a button that triggers some action on the server and then needs to be redirected to a different page.\n",
    "\n",
    "Redirects can be used for a variety of purposes, such as:\n",
    "\n",
    "1. After a user logs in, redirect them to a dashboard or profile page.\n",
    "\n",
    "2. After a user submits a form, redirect them to a thank you page.\n",
    "\n",
    "3. After a user logs out, redirect them to the homepage."
   ]
  },
  {
   "cell_type": "markdown",
   "id": "0fdb0e98-4527-4ee4-b6db-73823adb1715",
   "metadata": {
    "tags": []
   },
   "source": [
    "### Q4. What are templates in Flask? Why is the render_template() function used?"
   ]
  },
  {
   "cell_type": "markdown",
   "id": "485ddbf3-4df2-46c0-aee0-457c117ea646",
   "metadata": {},
   "source": [
    "In Flask, a template is a file that contains HTML markup with placeholders for dynamic content. It allows us to separate the presentation layer from the application logic, making it easier to develop and maintain web applications.\n",
    "\n",
    "Templates can be used to generate dynamic HTML pages by replacing the placeholders with actual data. For example, we can create a template for a blog post and pass the title and content of the post as variables to the template. The template can then use these variables to generate the HTML markup for the blog post.\n",
    "\n",
    "The render_template() function is a built-in function in Flask that is used to render a template. It takes the name of the template as an argument and any variables that need to be passed to the template. The function then loads the template, replaces the placeholders with the actual data, and returns the resulting HTML markup as a response to the client."
   ]
  },
  {
   "cell_type": "markdown",
   "id": "3f2886ca-dea8-4267-a9b0-f06edf6d605a",
   "metadata": {},
   "source": [
    "### Q5. Create a simple API. Use Postman to test it. Attach the screenshot of the output in the Jupyter Notebook."
   ]
  },
  {
   "cell_type": "code",
   "execution_count": null,
   "id": "193bca25-820f-48bc-a5ab-66e39b8db288",
   "metadata": {},
   "outputs": [],
   "source": [
    "from flask import Flask,request ,render_template , jsonify\n",
    "from datetime import datetime\n",
    "\n",
    "app = Flask(__name__)\n",
    "\n",
    "@app.route('/api/time')\n",
    "def get_current_time():\n",
    "    now = datetime.now()\n",
    "    return {'time': now.strftime(\"%H:%M:%S\")}"
   ]
  },
  {
   "attachments": {
    "3eb9ce6f-0c77-4783-9636-d1feb7d9e78c.png": {
     "image/png": "[encoded data removed]"
    }
   },
   "cell_type": "markdown",
   "id": "7caaf4a1-0991-492b-b839-4ddf49044124",
   "metadata": {},
   "source": [
    "![image.png](attachment:3eb9ce6f-0c77-4783-9636-d1feb7d9e78c.png)"
   ]
  },
  {
   "cell_type": "markdown",
   "id": "6c7bc21b-d26b-4de1-9e8d-e3e76fd047d9",
   "metadata": {},
   "source": [
    "### "
   ]
  },
  {
   "cell_type": "markdown",
   "id": "6f57ef38-a4b2-4286-bfe6-e52fabf5598d",
   "metadata": {},
   "source": [
    "### "
   ]
  }
 ],
 "metadata": {
  "kernelspec": {
   "display_name": "Python 3 (ipykernel)",
   "language": "python",
   "name": "python3"
  },
  "language_info": {
   "codemirror_mode": {
    "name": "ipython",
    "version": 3
   },
   "file_extension": ".py",
   "mimetype": "text/x-python",
   "name": "python",
   "nbconvert_exporter": "python",
   "pygments_lexer": "ipython3",
   "version": "3.10.8"
  }
 },
 "nbformat": 4,
 "nbformat_minor": 5
}
