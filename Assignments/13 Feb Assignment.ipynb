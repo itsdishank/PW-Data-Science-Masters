{
 "cells": [
  {
   "cell_type": "markdown",
   "id": "23c7f8b5-9ac2-4ac7-a83c-99163d55b3ce",
   "metadata": {},
   "source": [
    "### Q1. Explain why we have to use the Exception class while creating a Custom Exception.\n",
    "Note: Here Exception class refers to the base class for all the exceptions."
   ]
  },
  {
   "cell_type": "markdown",
   "id": "7f37a329-e5a0-49c2-9afd-7e142206aa7e",
   "metadata": {},
   "source": [
    "When creating a custom exception in Python, it is recommended to use the Exception class as the base class because it provides a well-defined structure and behavior for all exceptions. The Exception class provides attributes and methods that allow for consistent handling of exceptions, such as the ability to set a custom error message, retrieve the traceback, and handle exceptions in a consistent manner. "
   ]
  },
  {
   "cell_type": "markdown",
   "id": "687d6825-06eb-4d30-8e8e-c22087818b59",
   "metadata": {},
   "source": [
    "### Q2. Write a python program to print Python Exception Hierarchy."
   ]
  },
  {
   "cell_type": "code",
   "execution_count": 4,
   "id": "35ebc1c9-57a5-496e-a3cf-26386a50b4dc",
   "metadata": {},
   "outputs": [
    {
     "name": "stdout",
     "output_type": "stream",
     "text": [
      "TypeError\n",
      "    FloatOperation\n",
      "    MultipartConversionError\n",
      "StopAsyncIteration\n",
      "StopIteration\n",
      "ImportError\n",
      "    ModuleNotFoundError\n",
      "    ZipImportError\n",
      "OSError\n",
      "    ConnectionError\n",
      "    BlockingIOError\n",
      "    ChildProcessError\n",
      "    FileExistsError\n",
      "    FileNotFoundError\n",
      "    IsADirectoryError\n",
      "    NotADirectoryError\n",
      "    InterruptedError\n",
      "    PermissionError\n",
      "    ProcessLookupError\n",
      "    TimeoutError\n",
      "    UnsupportedOperation\n",
      "    itimer_error\n",
      "    herror\n",
      "    gaierror\n",
      "    SSLError\n",
      "    Error\n",
      "    SpecialFileError\n",
      "    ExecError\n",
      "    ReadError\n",
      "    URLError\n",
      "    BadGzipFile\n",
      "EOFError\n",
      "    IncompleteReadError\n",
      "RuntimeError\n",
      "    RecursionError\n",
      "    NotImplementedError\n",
      "    _DeadlockError\n",
      "    BrokenBarrierError\n",
      "    BrokenExecutor\n",
      "    SendfileNotAvailableError\n",
      "    ExtractionError\n",
      "    VariableError\n",
      "NameError\n",
      "    UnboundLocalError\n",
      "AttributeError\n",
      "    FrozenInstanceError\n",
      "SyntaxError\n",
      "    IndentationError\n",
      "LookupError\n",
      "    IndexError\n",
      "    KeyError\n",
      "    CodecRegistryError\n",
      "ValueError\n",
      "    UnicodeError\n",
      "    UnsupportedOperation\n",
      "    JSONDecodeError\n",
      "    SSLCertVerificationError\n",
      "    Error\n",
      "    UnsupportedDigestmodError\n",
      "    IllegalMonthError\n",
      "    IllegalWeekdayError\n",
      "    ParserError\n",
      "    ClassNotFound\n",
      "    ClipboardEmpty\n",
      "    MessageDefect\n",
      "    MacroToEdit\n",
      "    InvalidFileException\n",
      "    UnequalIterablesError\n",
      "    InvalidVersion\n",
      "    _InvalidELFFileHeader\n",
      "    InvalidWheelFilename\n",
      "    InvalidSdistFilename\n",
      "    InvalidSpecifier\n",
      "    InvalidMarker\n",
      "    UndefinedComparison\n",
      "    UndefinedEnvironmentName\n",
      "    InvalidRequirement\n",
      "    InvalidVersion\n",
      "AssertionError\n",
      "ArithmeticError\n",
      "    FloatingPointError\n",
      "    OverflowError\n",
      "    ZeroDivisionError\n",
      "    DecimalException\n",
      "SystemError\n",
      "    CodecRegistryError\n",
      "ReferenceError\n",
      "MemoryError\n",
      "BufferError\n",
      "Warning\n",
      "    UserWarning\n",
      "    EncodingWarning\n",
      "    DeprecationWarning\n",
      "    PendingDeprecationWarning\n",
      "    SyntaxWarning\n",
      "    RuntimeWarning\n",
      "    FutureWarning\n",
      "    ImportWarning\n",
      "    UnicodeWarning\n",
      "    BytesWarning\n",
      "    ResourceWarning\n",
      "    DeprecatedTzFormatWarning\n",
      "    PkgResourcesDeprecationWarning\n",
      "_OptionError\n",
      "_Error\n",
      "error\n",
      "Verbose\n",
      "Error\n",
      "SubprocessError\n",
      "    CalledProcessError\n",
      "    TimeoutExpired\n",
      "TokenError\n",
      "StopTokenizing\n",
      "ClassFoundException\n",
      "EndOfBlock\n",
      "TraitError\n",
      "Error\n",
      "Error\n",
      "    CancelledError\n",
      "    TimeoutError\n",
      "    InvalidStateError\n",
      "_GiveupOnSendfile\n",
      "error\n",
      "Incomplete\n",
      "TimeoutError\n",
      "InvalidStateError\n",
      "LimitOverrunError\n",
      "QueueEmpty\n",
      "QueueFull\n",
      "Empty\n",
      "Full\n",
      "ArgumentError\n",
      "ZMQBaseError\n",
      "    ZMQError\n",
      "    ZMQBindError\n",
      "    NotDone\n",
      "PickleError\n",
      "    PicklingError\n",
      "    UnpicklingError\n",
      "_Stop\n",
      "ArgumentError\n",
      "ArgumentTypeError\n",
      "ConfigError\n",
      "    ConfigLoaderError\n",
      "    ConfigFileNotFound\n",
      "ConfigurableError\n",
      "    MultipleInstanceError\n",
      "ApplicationError\n",
      "error\n",
      "TimeoutError\n",
      "error\n",
      "ReturnValueIgnoredError\n",
      "KeyReuseError\n",
      "UnknownKeyError\n",
      "LeakedCallbackError\n",
      "BadYieldError\n",
      "ReturnValueIgnoredError\n",
      "Return\n",
      "InvalidPortNumber\n",
      "error\n",
      "LZMAError\n",
      "RegistryError\n",
      "_GiveupOnFastCopy\n",
      "Error\n",
      "    NoSectionError\n",
      "    DuplicateSectionError\n",
      "    DuplicateOptionError\n",
      "    NoOptionError\n",
      "    InterpolationError\n",
      "    ParsingError\n",
      "NoIPAddresses\n",
      "BadZipFile\n",
      "LargeZipFile\n",
      "BadEntryPoint\n",
      "NoSuchEntryPoint\n",
      "DuplicateKernelError\n",
      "ErrorDuringImport\n",
      "NotOneValueFound\n",
      "CannotEval\n",
      "OptionError\n",
      "BdbQuit\n",
      "Restart\n",
      "ExceptionPexpect\n",
      "    EOF\n",
      "    TIMEOUT\n",
      "PtyProcessError\n",
      "FindCmdError\n",
      "HomeDirError\n",
      "ProfileDirError\n",
      "IPythonCoreError\n",
      "    TryNext\n",
      "    UsageError\n",
      "    StdinNotImplementedError\n",
      "InputRejected\n",
      "GetoptError\n",
      "ErrorToken\n",
      "PrefilterError\n",
      "AliasError\n",
      "    InvalidAliasError\n",
      "Error\n",
      "    InterfaceError\n",
      "    DatabaseError\n",
      "Warning\n",
      "SpaceInInput\n",
      "DOMException\n",
      "    IndexSizeErr\n",
      "    DomstringSizeErr\n",
      "    HierarchyRequestErr\n",
      "    WrongDocumentErr\n",
      "    InvalidCharacterErr\n",
      "    NoDataAllowedErr\n",
      "    NoModificationAllowedErr\n",
      "    NotFoundErr\n",
      "    NotSupportedErr\n",
      "    InuseAttributeErr\n",
      "    InvalidStateErr\n",
      "    SyntaxErr\n",
      "    InvalidModificationErr\n",
      "    NamespaceErr\n",
      "    InvalidAccessErr\n",
      "    ValidationErr\n",
      "ValidationError\n",
      "EditReadOnlyBuffer\n",
      "_Retry\n",
      "InvalidLayoutError\n",
      "HeightIsUnknownError\n",
      "ParserSyntaxError\n",
      "InternalParseError\n",
      "_PositionUpdatingFinished\n",
      "SimpleGetItemNotFound\n",
      "UncaughtAttributeError\n",
      "HasNoContext\n",
      "ParamIssue\n",
      "_JediError\n",
      "    InternalError\n",
      "    WrongVersion\n",
      "    RefactoringError\n",
      "OnErrorLeaf\n",
      "InvalidPythonEnvironment\n",
      "MessageError\n",
      "    MessageParseError\n",
      "    MultipartConversionError\n",
      "    CharsetError\n",
      "Error\n",
      "HTTPException\n",
      "    NotConnected\n",
      "    InvalidURL\n",
      "    UnknownProtocol\n",
      "    UnknownTransferEncoding\n",
      "    UnimplementedFileMode\n",
      "    IncompleteRead\n",
      "    ImproperConnectionState\n",
      "    BadStatusLine\n",
      "    LineTooLong\n",
      "InteractivelyDefined\n",
      "KillEmbedded\n",
      "Error\n",
      "    NoSuchProcess\n",
      "    AccessDenied\n",
      "    TimeoutExpired\n",
      "_Ipv6UnsupportedError\n",
      "QueueEmpty\n",
      "QueueFull\n",
      "DebuggerInitializationError\n",
      "ExpatError\n",
      "Error\n",
      "    ProtocolError\n",
      "    ResponseError\n",
      "    Fault\n",
      "ParseBaseException\n",
      "    ParseException\n",
      "    ParseFatalException\n",
      "RecursiveGrammarException\n",
      "ResolutionError\n",
      "    VersionConflict\n",
      "    DistributionNotFound\n",
      "    UnknownExtra\n",
      "_Error\n",
      "UnableToResolveVariableException\n",
      "InvalidTypeInArgsException\n"
     ]
    }
   ],
   "source": [
    "exception_list = Exception.__subclasses__()\n",
    "\n",
    "for exception in exception_list:\n",
    "    print(exception.__name__)\n",
    "    for sub_exception in exception.__subclasses__():\n",
    "        print(\"    \" + sub_exception.__name__)"
   ]
  },
  {
   "cell_type": "markdown",
   "id": "ee3a0150-5e48-404b-b2d5-fd51e14195d1",
   "metadata": {},
   "source": [
    "### Q3. What errors are defined in the ArithmeticError class? Explain any two with an example."
   ]
  },
  {
   "cell_type": "markdown",
   "id": "70d012de-884a-4d23-bc71-354e148cefb7",
   "metadata": {},
   "source": [
    "The ArithmeticError class in Python is a base class for all exceptions that occur during arithmetic operations.\n",
    "\n",
    "The errors that are defined in the ArithmeticError class are:\n",
    "1. FloatingPointError\n",
    "2. OverflowError\n",
    "3. ZeroDivisionError\n",
    "4. DecimalException\n",
    "\n",
    "* ZeroDivisionError:\n",
    "\n",
    "\tThis exception is raised when attempting to divide a number by zero. For example:"
   ]
  },
  {
   "cell_type": "code",
   "execution_count": 5,
   "id": "623e8800-2a65-4c60-998a-206f30232a56",
   "metadata": {},
   "outputs": [
    {
     "name": "stdout",
     "output_type": "stream",
     "text": [
      "Error: division by zero\n"
     ]
    }
   ],
   "source": [
    "a = 5\n",
    "b = 0\n",
    "\n",
    "try:\n",
    "    result = a / b\n",
    "except ZeroDivisionError:\n",
    "    print(\"Error: division by zero\")"
   ]
  },
  {
   "cell_type": "markdown",
   "id": "9b47b01e-b650-4474-997e-199f28e8ebc8",
   "metadata": {
    "tags": []
   },
   "source": [
    "* OverflowError: \n",
    "\n",
    "\tThis exception is raised when an arithmetic operation produces a result that is too large to be represented by the available memory. For example:"
   ]
  },
  {
   "cell_type": "code",
   "execution_count": 6,
   "id": "8db4027c-1d95-4643-b50f-5aa052c74d09",
   "metadata": {},
   "outputs": [
    {
     "name": "stdout",
     "output_type": "stream",
     "text": [
      "Error: result too large to be represented\n"
     ]
    }
   ],
   "source": [
    "import math\n",
    "\n",
    "try:\n",
    "    result = math.exp(1000)\n",
    "except OverflowError:\n",
    "    print(\"Error: result too large to be represented\")"
   ]
  },
  {
   "cell_type": "markdown",
   "id": "565e6000-aab2-4f3e-9dc8-da7278492d7c",
   "metadata": {},
   "source": [
    "### Q4. Why LookupError class is used? Explain with an example KeyError and IndexError."
   ]
  },
  {
   "cell_type": "markdown",
   "id": "d2741bd8-5bc7-4aa9-8a27-e10a332386ec",
   "metadata": {},
   "source": [
    "The LookupError class is a built-in Python exception that serves as the base class for exceptions that occur when a key or index is not found during a lookup operation. This class is used to define a number of lookup-related exceptions.\n",
    "\n",
    "1. KeyError: \n",
    "\n",
    "\tThis exception is raised when a key is not found in a dictionary or other mapping object. For example:"
   ]
  },
  {
   "cell_type": "code",
   "execution_count": 7,
   "id": "c745f7db-7f86-4225-8a86-45a3e267176a",
   "metadata": {},
   "outputs": [
    {
     "name": "stdout",
     "output_type": "stream",
     "text": [
      "Error: key not found in dictionary\n"
     ]
    }
   ],
   "source": [
    "fruits = {\"apple\": 2, \"banana\": 7, \"orange\": 3}\n",
    "\n",
    "try:\n",
    "    value = fruits[\"mango\"]\n",
    "except KeyError:\n",
    "    print(\"Error: key not found in dictionary\")"
   ]
  },
  {
   "cell_type": "markdown",
   "id": "d4213c55-90a2-4d7a-ab64-f3f4f5ed40cc",
   "metadata": {},
   "source": [
    "2. IndexError:\n",
    "\n",
    "\tThis exception is raised when an index is not found in a sequence such as a list, tuple, or string. For Example:"
   ]
  },
  {
   "cell_type": "code",
   "execution_count": 8,
   "id": "802375b3-5076-488a-9625-3a6aed587bc1",
   "metadata": {},
   "outputs": [
    {
     "name": "stdout",
     "output_type": "stream",
     "text": [
      "Error: index out of range\n"
     ]
    }
   ],
   "source": [
    "l = [1, 2, 3]\n",
    "\n",
    "try:\n",
    "    value = l[3]\n",
    "except IndexError:\n",
    "    print(\"Error: index out of range\")"
   ]
  },
  {
   "cell_type": "markdown",
   "id": "2be5a0f0-64ae-4710-9594-64c8967df4bf",
   "metadata": {},
   "source": [
    "### Q5. Explain ImportError. What is ModuleNotFoundError?"
   ]
  },
  {
   "cell_type": "markdown",
   "id": "98d50448-18dc-4b46-9d66-215615b1b52e",
   "metadata": {},
   "source": [
    "ImportError is a built-in Python exception that is raised when an imported module, function, or attribute is not found or cannot be loaded. This can happen if the module is missing, if the file is not readable or does not exist, if the module name is misspelled, or if there is a circular import that cannot be resolved.\n",
    "\n",
    "ModuleNotFoundError is a subclass of ImportError that is specifically used to indicate that a module could not be found. It was introduced in Python 3.6 as a more specific and informative version of ImportError."
   ]
  },
  {
   "cell_type": "code",
   "execution_count": 12,
   "id": "9083ceb5-0545-4a93-bb02-d0900058b986",
   "metadata": {},
   "outputs": [
    {
     "name": "stdout",
     "output_type": "stream",
     "text": [
      "Error: module not found\n"
     ]
    }
   ],
   "source": [
    "try:\n",
    "    import my_module\n",
    "except ModuleNotFoundError:\n",
    "    print(\"Error: module not found\")\n",
    "except ImportError:\n",
    "    print(\"Error: module not found or could not be loaded\")"
   ]
  },
  {
   "cell_type": "markdown",
   "id": "2a302cf7-7f3e-46d3-83bd-276f374081ed",
   "metadata": {},
   "source": [
    "### Q6. List down some best practices for exception handling in python."
   ]
  },
  {
   "cell_type": "markdown",
   "id": "ac062dcc-07eb-4574-89ea-457daa52eeb8",
   "metadata": {},
   "source": [
    "Some best practices for exception handling in Python include:\n",
    "\n",
    "* Be specific and catch only the exceptions you expect\n",
    "* Provide informative error messages\n",
    "* Log exceptions for debugging purposes\n",
    "* Clean up resources using the finally block\n",
    "* Avoid catching all exceptions with a bare except block\n",
    "* Don't hide errors without providing useful information\n",
    "* Keep the code simple and easy to understand"
   ]
  }
 ],
 "metadata": {
  "kernelspec": {
   "display_name": "Python 3 (ipykernel)",
   "language": "python",
   "name": "python3"
  },
  "language_info": {
   "codemirror_mode": {
    "name": "ipython",
    "version": 3
   },
   "file_extension": ".py",
   "mimetype": "text/x-python",
   "name": "python",
   "nbconvert_exporter": "python",
   "pygments_lexer": "ipython3",
   "version": "3.10.8"
  }
 },
 "nbformat": 4,
 "nbformat_minor": 5
}
