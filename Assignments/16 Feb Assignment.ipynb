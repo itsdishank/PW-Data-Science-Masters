{
 "cells": [
  {
   "cell_type": "markdown",
   "id": "3fe693b0-3a81-401b-a40f-de0f3ebb97c3",
   "metadata": {},
   "source": [
    "### Q1. What is a database? Differentiate between SQL and NoSQL databases."
   ]
  },
  {
   "cell_type": "markdown",
   "id": "060ed094-e39d-47c4-816a-61de134382e4",
   "metadata": {},
   "source": [
    "A database is a structured collection of data that is organized and managed to allow for efficient storage, retrieval, and manipulation of data. A database can be of various types, including SQL and NoSQL databases.\n",
    "\n",
    "The main differences between SQL and NoSQL databases are:\n",
    "\n",
    "1. Data model: SQL databases use a structured, table-based model, while NoSQL databases use a non-structured or semi-structured model.\n",
    "2. Query language: SQL databases use SQL for querying and data manipulation, while NoSQL databases use their own query languages, such as MongoDB Query Language (MQL) or Cassandra Query Language (CQL).\n",
    "3. Scalability: NoSQL databases are more scalable than SQL databases, as they are designed for distributed architectures and can easily handle large amounts of data and high traffic volumes."
   ]
  },
  {
   "cell_type": "markdown",
   "id": "0861789c-ccf2-4ae7-837f-c42757108568",
   "metadata": {},
   "source": [
    "### Q2. What is DDL? Explain why CREATE, DROP, ALTER, and TRUNCATE are used with an example."
   ]
  },
  {
   "cell_type": "markdown",
   "id": "96be544b-ee1a-42c9-bea7-26b9e31d4f95",
   "metadata": {},
   "source": [
    "DDL stands for Data Definition Language and is used to define the structure and schema of a database. DDL statements are used to create, modify, and delete database objects, such as tables, indexes, and constraints.\n",
    "\n",
    "Some examples of DDL statements and their uses are:\n",
    "\n",
    "* CREATE: Used to create a new database object, such as a table or index."
   ]
  },
  {
   "cell_type": "raw",
   "id": "486d80cc-019d-401f-9106-10a5ef704d2f",
   "metadata": {},
   "source": [
    "CREATE TABLE customers (\n",
    "   id INT NOT NULL,\n",
    "   name VARCHAR(50) NOT NULL,\n",
    "   email VARCHAR(50),\n",
    "   PRIMARY KEY (id)\n",
    ");\n",
    "\n",
    "This statement creates a new table called \"customers\" with three columns: \"id\", \"name\", and \"email\". The \"id\" column is set as the primary key."
   ]
  },
  {
   "cell_type": "markdown",
   "id": "897aac18-ecf7-4992-8181-6224d1f1ba26",
   "metadata": {},
   "source": [
    "* DROP: Used to delete an existing database object."
   ]
  },
  {
   "cell_type": "raw",
   "id": "d6e0b096-bdab-48c0-9dd0-ee32bc390224",
   "metadata": {},
   "source": [
    "DROP TABLE customers;\n",
    "\n",
    "This statement deletes the \"customers\" table."
   ]
  },
  {
   "cell_type": "markdown",
   "id": "2c30081b-0409-43d9-beee-6d3b04bed6c9",
   "metadata": {},
   "source": [
    "* ALTER: Used to modify an existing database object."
   ]
  },
  {
   "cell_type": "raw",
   "id": "ec09db57-9fac-44ce-a07e-15c33e14e6e1",
   "metadata": {},
   "source": [
    "ALTER TABLE customers ADD COLUMN phone VARCHAR(20);\n",
    "\n",
    "This statement adds a new column called \"phone\" to the \"customers\" table."
   ]
  },
  {
   "cell_type": "markdown",
   "id": "ba6746f1-20f7-48f6-91ab-def73c46fb3b",
   "metadata": {},
   "source": [
    "* TRUNCATE: Used to delete all data from a table.`"
   ]
  },
  {
   "cell_type": "raw",
   "id": "c455f1f3-3483-4f04-b6aa-594162dc309f",
   "metadata": {},
   "source": [
    "TRUNCATE TABLE customers;\n",
    "\n",
    "This statement deletes all data from the \"customers\" table, but keeps the table structure."
   ]
  },
  {
   "cell_type": "markdown",
   "id": "c9845260-45b7-4436-96cd-25c03ddce45a",
   "metadata": {},
   "source": [
    "### Q3. What is DML? Explain INSERT, UPDATE, and DELETE with an example."
   ]
  },
  {
   "cell_type": "markdown",
   "id": "0856bba2-da19-4a21-ba52-af69ab5695e6",
   "metadata": {},
   "source": [
    "DML stands for Data Manipulation Language and is used to manipulate data in a database. DML statements are used to insert, update, and delete data in a table.\n",
    "\n",
    "Some examples of DML statements and their uses are:\n",
    "\n",
    "* INSERT: Used to insert new data into a table."
   ]
  },
  {
   "cell_type": "raw",
   "id": "36eed0f7-effe-4e7e-bd2a-79ae1b2ea037",
   "metadata": {},
   "source": [
    "INSERT INTO customers (id, name, email) VALUES (1, 'Dishank Hanwate', 'dishank@gmail.com');\n",
    "\n",
    "This statement inserts a new row into the \"customers\" table with the values \"1\" for the \"id\" column, \"Dishank Hanwate\" for the \"name\" column, and \"dishank@hanwate.com\" for the \"email\" column."
   ]
  },
  {
   "cell_type": "markdown",
   "id": "c40ce637-f99d-469a-be80-7ffd60400b1f",
   "metadata": {},
   "source": [
    "* UPDATE: Used to update existing data in a table."
   ]
  },
  {
   "cell_type": "raw",
   "id": "bc95f234-4cbf-4fb2-991f-228fd4151584",
   "metadata": {},
   "source": [
    "UPDATE customers SET email = 'dishank.hanwate@example.com' WHERE id = 1;\n",
    "\n",
    "This statement updates the \"email\" with \"dishank.hanwate@example.com\" where the \"id\" of the row is \"1\""
   ]
  },
  {
   "cell_type": "markdown",
   "id": "12bea049-18e5-453c-826a-546175b38d54",
   "metadata": {},
   "source": [
    "* DELETE: Used to delete data from a table."
   ]
  },
  {
   "cell_type": "raw",
   "id": "b7383243-79d6-4c6c-9d24-95df9446d0dd",
   "metadata": {},
   "source": [
    "DELETE FROM customers WHERE id = 1;\n",
    "\n",
    "This statement deletes the row from the \"customers\" table where the value of the \"id\" column is equal to 1."
   ]
  },
  {
   "cell_type": "markdown",
   "id": "40b887cb-cfa6-45fe-8af1-7a0e80b6eebc",
   "metadata": {
    "tags": []
   },
   "source": [
    "### Q4. What is DQL? Explain SELECT with an example."
   ]
  },
  {
   "cell_type": "markdown",
   "id": "bff5bee6-22f0-4aff-a5ca-a4f6597db8ba",
   "metadata": {},
   "source": [
    "DQL stands for Data Query Language and is used to retrieve data from a database. DQL statements are used to query a table and retrieve data based on specific criteria.\n",
    "\n",
    "Here is an example of a SELECT statement and its use:\n",
    "\n",
    "* SELECT: Used to retrieve data from one or more tables."
   ]
  },
  {
   "cell_type": "raw",
   "id": "743df66c-8eef-4719-b9d0-d433532cc777",
   "metadata": {},
   "source": [
    "SELECT name, email FROM customers WHERE id = 1;\n",
    "\n",
    "This statement retrieves the values of the \"name\" and \"email\" columns from the \"customers\" table where the value of the \"id\" column is equal to 1."
   ]
  },
  {
   "cell_type": "markdown",
   "id": "30d8ebc1-6d85-4851-9eb2-854705f41c20",
   "metadata": {},
   "source": [
    "### Q5. Explain Primary Key and Foreign Key."
   ]
  },
  {
   "cell_type": "markdown",
   "id": "5ebdb395-7572-4199-bb01-efab8378d64d",
   "metadata": {},
   "source": [
    "A primary key is a unique identifier for a row in a table. It is used to ensure that each row in the table can be uniquely identified and that there are no duplicates. A primary key can be a single column or a combination of columns, and it is used to enforce referential integrity and establish relationships between tables.\n",
    "\n",
    "A foreign key is a column or a set of columns in a table that refers to the primary key of another table. It is used to establish relationships between tables and enforce referential integrity. A foreign key ensures that a row in one table cannot be deleted if it is referenced by a row in another table, and it helps maintain consistency and accuracy in the database."
   ]
  },
  {
   "cell_type": "markdown",
   "id": "33a3bbc2-b31d-470f-afbe-dea9ba93a572",
   "metadata": {},
   "source": [
    "### Q6. Write a python code to connect MySQL to python. Explain the cursor() and execute() method."
   ]
  },
  {
   "cell_type": "code",
   "execution_count": null,
   "id": "d6ea1b35-a176-4c39-8a8f-922c232e6c47",
   "metadata": {},
   "outputs": [],
   "source": [
    "import mysql.connector\n",
    "\n",
    "mydb = mysql.connector.connect(\n",
    "  host=\"localhost\",\n",
    "  user=\"abc\",\n",
    "  password=\"password\"\n",
    ")\n",
    "\n",
    "cursor = mydb.cursor()\n",
    "\n",
    "# Execute a query\n",
    "cursor.execute('SELECT * FROM customers')\n",
    "\n",
    "# Fetch the results\n",
    "results = cursor.fetchall()\n",
    "\n",
    "# Print the results\n",
    "for row in results:\n",
    "    print(row)\n",
    "\n",
    "# Close the cursor and connection\n",
    "cursor.close()\n",
    "conn.close()"
   ]
  },
  {
   "cell_type": "markdown",
   "id": "83c58e41-0436-430c-b02b-f2f10d91e7b5",
   "metadata": {},
   "source": [
    "The cursor() method creates a cursor object that is used to execute SQL statements and retrieve results.\n",
    "\n",
    "The execute() method is used to execute an SQL statement and can take parameters, such as a query string or a tuple of values to be used in a prepared statement."
   ]
  },
  {
   "cell_type": "markdown",
   "id": "53fdc299-cda5-48bb-997c-b9374b6035ef",
   "metadata": {},
   "source": [
    "### Q7. Give the order of execution of SQL clauses in an SQL query."
   ]
  },
  {
   "cell_type": "markdown",
   "id": "fba1da8f-c173-459f-a118-22c455eaf5ab",
   "metadata": {},
   "source": [
    "1. FROM: Specifies the table or tables from which to retrieve data.\n",
    "2. JOIN: Joins two or more tables together based on a specified condition.\n",
    "3. WHERE: Filters the data based on a specified condition.\n",
    "4. GROUP BY: Groups the data based on a specified column or columns.\n",
    "5. HAVING: Filters the grouped data based on a specified condition.\n",
    "6. SELECT: Retrieves the data from the specified columns.\n",
    "7. DISTINCT: Filters out duplicate values from the results.\n",
    "8. ORDER BY: Sorts the results based on a specified column or columns.\n",
    "9. LIMIT: Limits the number of results returned."
   ]
  }
 ],
 "metadata": {
  "kernelspec": {
   "display_name": "Python 3 (ipykernel)",
   "language": "python",
   "name": "python3"
  },
  "language_info": {
   "codemirror_mode": {
    "name": "ipython",
    "version": 3
   },
   "file_extension": ".py",
   "mimetype": "text/x-python",
   "name": "python",
   "nbconvert_exporter": "python",
   "pygments_lexer": "ipython3",
   "version": "3.10.8"
  }
 },
 "nbformat": 4,
 "nbformat_minor": 5
}
