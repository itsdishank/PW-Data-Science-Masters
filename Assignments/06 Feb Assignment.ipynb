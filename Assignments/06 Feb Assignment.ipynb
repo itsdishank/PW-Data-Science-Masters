{
 "cells": [
  {
   "cell_type": "markdown",
   "id": "e9d5efc8-246f-4ebd-94ec-2271c7e66ada",
   "metadata": {
    "tags": []
   },
   "source": [
    "### Q1. Create a function which will take a list as an argument and return the product of all the numbers  after creating a flat list. \n",
    "Use the below-given list as an argument for your function.\n",
    "\n",
    "list1 = [1,2,3,4, [44,55,66, True], False, (34,56,78,89,34), {1,2,3,3,2,1}, {1:34, \"key2\": [55, 67, 78, 89], 4: (45,  22, 61, 34)}, [56, 'data science'], 'Machine Learning'] \n",
    "\n",
    "Note: you must extract numeric keys and values of the dictionary also. "
   ]
  },
  {
   "cell_type": "code",
   "execution_count": 79,
   "id": "f565612f-23af-4cbd-b028-fc4ad53d2f33",
   "metadata": {},
   "outputs": [],
   "source": [
    "from functools import reduce\n",
    "def get_product(l):\n",
    "    def get_int_list(l,nl):\n",
    "        for i in l:\n",
    "            if isinstance(i, (int, float)) and not isinstance(i, (bool)):\n",
    "                nl.append(i)\n",
    "            elif isinstance(i, (list, tuple, set)):\n",
    "                nl = get_int_list(i,nl)\n",
    "            elif isinstance(i, dict):\n",
    "                for key, value in i.items():\n",
    "                    if isinstance(key, (int, float)):\n",
    "                        nl.append(key)\n",
    "                    if isinstance(value, (int, float)):\n",
    "                        nl.append(value)\n",
    "                    else:\n",
    "                        nl = get_int_list(value,nl)\n",
    "        return nl\n",
    "    nl = []\n",
    "    flat_int_list = get_int_list(l,nl)\n",
    "    print(flat_int_list)\n",
    "    return reduce(lambda x, y: x * y, flat_int_list)"
   ]
  },
  {
   "cell_type": "code",
   "execution_count": 80,
   "id": "e3b43b78-85fe-4bfd-a2b0-a3a89de1e3f3",
   "metadata": {},
   "outputs": [
    {
     "name": "stdout",
     "output_type": "stream",
     "text": [
      "[1, 2, 3, 4, 44, 55, 66, 34, 56, 78, 89, 34, 1, 2, 3, 1, 34, 55, 67, 78, 89, 4, 45, 22, 61, 34, 56]\n"
     ]
    },
    {
     "data": {
      "text/plain": [
       "4134711838987085478833841242112000"
      ]
     },
     "execution_count": 80,
     "metadata": {},
     "output_type": "execute_result"
    }
   ],
   "source": [
    "list1 = [1,2,3,4, [44,55,66, True], False, (34,56,78,89,34), {1,2,3,3,2,1}, {1:34, \"key2\": [55, 67, 78, 89], 4: (45, 22, 61, 34)}, [56, 'data science'], 'Machine Learning']\n",
    "\n",
    "get_product(list1)"
   ]
  },
  {
   "cell_type": "markdown",
   "id": "27cccc3e-8be0-4442-9274-51917f9f371a",
   "metadata": {},
   "source": [
    "### Q2. Write a python program for encrypting a message sent to you by your friend. The logic of encryption  should be such that, for a the output should be z. For b, the output should be y. For c, the output should  be x respectively. Also, the whitespace should be replaced with a dollar sign. Keep the punctuation  marks unchanged. \n",
    "Input Sentence: I want to become a Data Scientist. \n",
    "\n",
    "Encrypt the above input sentence using the program you just created. \n",
    "\n",
    "Note: Convert the given input sentence into lowercase before encrypting. The final output should be  lowercase. \n"
   ]
  },
  {
   "cell_type": "code",
   "execution_count": 25,
   "id": "aace4ff3-b7a9-4c1a-9305-48469ac110a1",
   "metadata": {},
   "outputs": [
    {
     "name": "stdout",
     "output_type": "stream",
     "text": [
      "r$dzmg$gl$yvxlnv$z$wzgz$hxrvmgrhg\n",
      "i want to become a data scientist.\n"
     ]
    }
   ],
   "source": [
    "sentence = \"I want to become a Data Scientist.\"\n",
    "l=[]\n",
    "\n",
    "for i in sentence.lower():\n",
    "    order = ord(i)\n",
    "    if 97<=order<=122:\n",
    "        l.append(chr(122+97-order))\n",
    "    elif order == 32:\n",
    "        l.append(\"$\")\n",
    "\n",
    "print(\"\".join(l))"
   ]
  }
 ],
 "metadata": {
  "kernelspec": {
   "display_name": "Python 3 (ipykernel)",
   "language": "python",
   "name": "python3"
  },
  "language_info": {
   "codemirror_mode": {
    "name": "ipython",
    "version": 3
   },
   "file_extension": ".py",
   "mimetype": "text/x-python",
   "name": "python",
   "nbconvert_exporter": "python",
   "pygments_lexer": "ipython3",
   "version": "3.10.8"
  }
 },
 "nbformat": 4,
 "nbformat_minor": 5
}
