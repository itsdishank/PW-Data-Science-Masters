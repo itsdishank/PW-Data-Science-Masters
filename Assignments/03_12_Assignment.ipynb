{
 "cells": [
  {
   "cell_type": "markdown",
   "id": "715e4fb8-3b04-408b-9103-1243afb1fb17",
   "metadata": {},
   "source": [
    "### Q1. Calculate the 95% confidence interval for a sample of data with a mean of 50 and a standard deviation of 5 using Python. Interpret the results."
   ]
  },
  {
   "cell_type": "code",
   "execution_count": 11,
   "id": "fe2dbb1d-3c09-4369-82bc-78d04a758911",
   "metadata": {},
   "outputs": [
    {
     "name": "stdout",
     "output_type": "stream",
     "text": [
      "The 95% confidence interval is (48.58, 51.42)\n"
     ]
    }
   ],
   "source": [
    "import scipy.stats as stats\n",
    "\n",
    "sample_mean = 50\n",
    "sample_std = 5\n",
    "sample_size = 50\n",
    "confidence_level = 0.95\n",
    "\n",
    "# Calculate the standard error\n",
    "standard_error = sample_std / (sample_size ** 0.5)\n",
    "\n",
    "# Calculate the margin of error\n",
    "margin_of_error = stats.t.ppf((1 + confidence_level) / 2, df=sample_size - 1) * standard_error\n",
    "\n",
    "# Calculate the lower and upper bounds of the confidence interval\n",
    "lower_bound = sample_mean - margin_of_error\n",
    "upper_bound = sample_mean + margin_of_error\n",
    "\n",
    "# Print the confidence interval\n",
    "print(f\"The 95% confidence interval is ({lower_bound:.2f}, {upper_bound:.2f})\")\n"
   ]
  },
  {
   "cell_type": "markdown",
   "id": "5fca6ae1-c21d-42f1-942b-3000d9580bbb",
   "metadata": {},
   "source": [
    "### Q2. Conduct a chi-square goodness of fit test to determine if the distribution of colors of M&Ms in a bag matches the expected distribution of 20% blue, 20% orange, 20% green, 10% yellow, 10% red, and 20% brown. Use Python to perform the test with a significance level of 0.05."
   ]
  },
  {
   "cell_type": "code",
   "execution_count": 23,
   "id": "3dddd62f-56d8-4eb6-b75a-7a185029cfc0",
   "metadata": {},
   "outputs": [
    {
     "name": "stdout",
     "output_type": "stream",
     "text": [
      "Chi-square statistic: 4.625\n",
      "P-value: 0.4633350092535571\n",
      "The distribution of colors in the M&Ms bag matches the expected distribution.\n"
     ]
    }
   ],
   "source": [
    "import numpy as np\n",
    "from scipy.stats import chisquare\n",
    "\n",
    "# Observed frequencies\n",
    "observed = np.array([10, 15, 18, 8, 12, 17])\n",
    "\n",
    "# Expected frequencies\n",
    "expected = np.array([0.2, 0.2, 0.2, 0.1, 0.1, 0.2]) * np.sum(observed)\n",
    "\n",
    "# Perform the chi-square goodness of fit test\n",
    "chi2, p_value = chisquare(f_obs=observed, f_exp=expected)\n",
    "\n",
    "# Print the test results\n",
    "print(f\"Chi-square statistic: {chi2}\")\n",
    "print(f\"P-value: {p_value}\")\n",
    "\n",
    "# Check if the null hypothesis is rejected or not\n",
    "alpha = 0.05\n",
    "if p_value < alpha:\n",
    "    print(\"The distribution of colors in the M&Ms bag does not match the expected distribution.\")\n",
    "else:\n",
    "    print(\"The distribution of colors in the M&Ms bag matches the expected distribution.\")\n"
   ]
  },
  {
   "attachments": {
    "2518df02-d628-443e-a3c7-f0a636f83084.png": {
     "image/png": "[encoded data removed]"
    }
   },
   "cell_type": "markdown",
   "id": "c83ac86d-dfca-4208-8de0-adbdd87c97ff",
   "metadata": {},
   "source": [
    "### Q3. Use Python to calculate the chi-square statistic and p-value for a contingency table with the following data:\n",
    "![image.png](attachment:2518df02-d628-443e-a3c7-f0a636f83084.png)"
   ]
  },
  {
   "cell_type": "code",
   "execution_count": 28,
   "id": "34b4a9b5-f134-4c9d-a677-883795e6475d",
   "metadata": {},
   "outputs": [
    {
     "name": "stdout",
     "output_type": "stream",
     "text": [
      "Chi-square statistic: 5.833333333333334\n",
      "P-value: 0.05411376622282158\n",
      "There is no evidence of an association between the groups and outcomes.\n"
     ]
    }
   ],
   "source": [
    "import numpy as np\n",
    "from scipy.stats import chi2_contingency\n",
    "\n",
    "# Contingency table data\n",
    "observed = np.array([[20, 15], [10, 25], [15, 20]])\n",
    "\n",
    "# Perform the chi-square test for the contingency table\n",
    "chi2, p_value, dof, expected = chi2_contingency(observed)\n",
    "\n",
    "# Print the test results\n",
    "print(f\"Chi-square statistic: {chi2}\")\n",
    "print(f\"P-value: {p_value}\")\n",
    "\n",
    "# Check if the null hypothesis is rejected or not\n",
    "alpha = 0.05\n",
    "if p_value < alpha:\n",
    "    print(\"There is evidence of an association between the groups and outcomes.\")\n",
    "else:\n",
    "    print(\"There is no evidence of an association between the groups and outcomes.\")\n"
   ]
  },
  {
   "cell_type": "markdown",
   "id": "f4393bf2-4230-4545-81fc-426e27a84c3f",
   "metadata": {},
   "source": [
    " The p-value is compared to the chosen significance level (0.05) to determine whether we reject or fail to reject the null hypothesis. If the p-value is less than the significance level, we reject the null hypothesis and conclude that there is evidence of an association between the groups and outcomes. Conversely, if the p-value is greater than or equal to the significance level, we fail to reject the null hypothesis and conclude that there is no evidence of an association between the groups and outcomes."
   ]
  },
  {
   "cell_type": "markdown",
   "id": "4450ccb7-7778-4d8b-8b7a-244f4d3d861d",
   "metadata": {},
   "source": [
    "### Q4. A study of the prevalence of smoking in a population of 500 individuals found that 60 individuals smoked. Use Python to calculate the 95% confidence interval for the true proportion of individuals in the population who smoke."
   ]
  },
  {
   "cell_type": "code",
   "execution_count": 32,
   "id": "5541188c-bc46-41d6-acc2-271ae79f409a",
   "metadata": {},
   "outputs": [
    {
     "name": "stdout",
     "output_type": "stream",
     "text": [
      "0.12\n",
      "The 95% confidence interval is (0.09151638887130707, 0.1484836111286929)\n"
     ]
    }
   ],
   "source": [
    "import scipy.stats as stats\n",
    "\n",
    "sample_size = 500\n",
    "smokers = 60\n",
    "confidence_level = 0.95\n",
    "\n",
    "# Calculate the sample proportion\n",
    "sample_proportion = smokers / sample_size\n",
    "print(sample_proportion)\n",
    "\n",
    "# Calculate the standard error\n",
    "standard_error = (sample_proportion * (1 - sample_proportion) / sample_size) ** 0.5\n",
    "\n",
    "# Calculate the margin of error\n",
    "margin_of_error = stats.norm.ppf((1 + confidence_level) / 2) * standard_error\n",
    "\n",
    "# Calculate the confidence interval\n",
    "lower_bound = sample_proportion - margin_of_error\n",
    "upper_bound = sample_proportion + margin_of_error\n",
    "\n",
    "# Print the confidence interval\n",
    "print(f\"The 95% confidence interval is ({lower_bound}, {upper_bound})\")"
   ]
  },
  {
   "cell_type": "markdown",
   "id": "b3db7581-9238-42ad-bef8-a08b46e421d7",
   "metadata": {},
   "source": [
    "### Q5. Calculate the 90% confidence interval for a sample of data with a mean of 75 and a standard deviation of 12 using Python. Interpret the results."
   ]
  },
  {
   "cell_type": "code",
   "execution_count": 34,
   "id": "1d1daec5-13eb-434f-aacd-93a2020e608b",
   "metadata": {},
   "outputs": [
    {
     "name": "stdout",
     "output_type": "stream",
     "text": [
      "The 90% confidence interval is (72.15479878877537, 77.84520121122463)\n"
     ]
    }
   ],
   "source": [
    "import scipy.stats as stats\n",
    "\n",
    "sample_mean = 75\n",
    "sample_std = 12\n",
    "sample_size = 50\n",
    "confidence_level = 0.90\n",
    "\n",
    "# Calculate the standard error\n",
    "standard_error = sample_std / (sample_size ** 0.5)\n",
    "\n",
    "# Calculate the margin of error\n",
    "margin_of_error = stats.t.ppf((1 + confidence_level) / 2, df=sample_size - 1) * standard_error\n",
    "\n",
    "# Calculate the confidence interval\n",
    "lower_bound = sample_mean - margin_of_error\n",
    "upper_bound = sample_mean + margin_of_error\n",
    "\n",
    "# Print the confidence interval\n",
    "print(f\"The 90% confidence interval is ({lower_bound}, {upper_bound})\")\n"
   ]
  },
  {
   "cell_type": "markdown",
   "id": "8b51e88c-0d0f-4f1d-8a28-9447a20fd8a8",
   "metadata": {},
   "source": [
    "Interpretation:\n",
    "The 90% confidence interval is an interval estimate of the population mean. It means that if we were to take many samples from the same population and calculate the confidence intervals, approximately 90% of those intervals would contain the true population mean.\n",
    "\n",
    "In this specific case, the confidence interval calculated using the given sample data (mean of 75 and standard deviation of 12) is presented as (lower_bound, upper_bound). Any value within this interval has a 90% likelihood of containing the true population mean."
   ]
  },
  {
   "cell_type": "markdown",
   "id": "a868b110-9716-4ded-83db-f29c408b8e70",
   "metadata": {},
   "source": [
    "### Q6. Use Python to plot the chi-square distribution with 10 degrees of freedom. Label the axes and shade the area corresponding to a chi-square statistic of 15."
   ]
  },
  {
   "cell_type": "code",
   "execution_count": 44,
   "id": "52c7f20b-9613-4889-b4a0-3a824a8c52bf",
   "metadata": {},
   "outputs": [
    {
     "data": {
      "image/png": "[encoded data removed]",
      "text/plain": [
       "<Figure size 640x480 with 1 Axes>"
      ]
     },
     "metadata": {},
     "output_type": "display_data"
    }
   ],
   "source": [
    "import numpy as np\n",
    "import matplotlib.pyplot as plt\n",
    "import scipy.stats as stats\n",
    "\n",
    "# Define the degrees of freedom\n",
    "df = 10\n",
    "\n",
    "# Generate x values for the chi-square distribution\n",
    "x = np.linspace(0, 30, 500)\n",
    "\n",
    "# Compute the chi-square probability density function\n",
    "pdf = stats.chi2.pdf(x, df)\n",
    "\n",
    "# Create the plot\n",
    "plt.plot(x, pdf, 'b-', label=f\"Degrees of Freedom = {df}\")\n",
    "plt.fill_between(x, pdf, where=(x >= 15), color='gray', alpha=0.5)\n",
    "\n",
    "# Shade the area corresponding to chi-square statistic of 15\n",
    "plt.text(17, 0.03, 'Chi-square = 15', ha='center')\n",
    "plt.axvline(15, color='red', linestyle='--')\n",
    "\n",
    "# Add labels and title\n",
    "plt.xlabel('Chi-square Statistic')\n",
    "plt.ylabel('Probability Density Function')\n",
    "plt.title('Chi-square Distribution')\n",
    "\n",
    "# Display the plot\n",
    "plt.legend()\n",
    "plt.grid(True)\n",
    "plt.show()\n"
   ]
  },
  {
   "cell_type": "markdown",
   "id": "dcf06b53-40d6-4710-8c13-23348b9307cc",
   "metadata": {},
   "source": [
    "### Q7. A random sample of 1000 people was asked if they preferred Coke or Pepsi. Of the sample, 520 preferred Coke. Calculate a 99% confidence interval for the true proportion of people in the population who prefer Coke."
   ]
  },
  {
   "cell_type": "code",
   "execution_count": 48,
   "id": "487467a4-5337-427a-b788-5932e6964c34",
   "metadata": {},
   "outputs": [
    {
     "name": "stdout",
     "output_type": "stream",
     "text": [
      "The 99% confidence interval is (0.4793051576779699, 0.5606948423220302)\n"
     ]
    }
   ],
   "source": [
    "import scipy.stats as stats\n",
    "\n",
    "sample_size = 1000\n",
    "coke_preferred = 520\n",
    "confidence_level = 0.99\n",
    "\n",
    "# Calculate the sample proportion\n",
    "sample_proportion = coke_preferred / sample_size\n",
    "\n",
    "# Calculate the standard error\n",
    "standard_error = (sample_proportion * (1 - sample_proportion) / sample_size) ** 0.5\n",
    "\n",
    "# Calculate the margin of error\n",
    "margin_of_error = stats.norm.ppf((1 + confidence_level) / 2) * standard_error\n",
    "\n",
    "# Calculate the confidence interval\n",
    "lower_bound = sample_proportion - margin_of_error\n",
    "upper_bound = sample_proportion + margin_of_error\n",
    "\n",
    "# Print the confidence interval\n",
    "print(f\"The 99% confidence interval is ({lower_bound}, {upper_bound})\")"
   ]
  },
  {
   "cell_type": "markdown",
   "id": "5877afc6-7051-474c-a6b6-f9fefa09ac75",
   "metadata": {},
   "source": [
    "### Q8. A researcher hypothesizes that a coin is biased towards tails. They flip the coin 100 times and observe 45 tails. Conduct a chi-square goodness of fit test to determine if the observed frequencies match the expected frequencies of a fair coin. Use a significance level of 0.05."
   ]
  },
  {
   "cell_type": "code",
   "execution_count": 49,
   "id": "11cc6149-7131-40f1-8b8d-b486253aa48b",
   "metadata": {},
   "outputs": [
    {
     "name": "stdout",
     "output_type": "stream",
     "text": [
      "Chi-square statistic: 1.0\n",
      "P-value: 0.31731050786291115\n",
      "The observed frequencies match the expected frequencies of a fair coin.\n"
     ]
    }
   ],
   "source": [
    "import numpy as np\n",
    "from scipy.stats import chisquare\n",
    "\n",
    "# Observed frequencies\n",
    "observed = np.array([45, 55])  # tails, heads\n",
    "\n",
    "# Expected frequencies (fair coin)\n",
    "expected = np.array([50, 50])  # tails, heads\n",
    "\n",
    "# Perform the chi-square goodness of fit test\n",
    "chi2, p_value = chisquare(f_obs=observed, f_exp=expected)\n",
    "\n",
    "# Print the test results\n",
    "print(f\"Chi-square statistic: {chi2}\")\n",
    "print(f\"P-value: {p_value}\")\n",
    "\n",
    "# Check if the null hypothesis is rejected or not\n",
    "alpha = 0.05\n",
    "if p_value < alpha:\n",
    "    print(\"The observed frequencies do not match the expected frequencies of a fair coin.\")\n",
    "else:\n",
    "    print(\"The observed frequencies match the expected frequencies of a fair coin.\")\n"
   ]
  },
  {
   "attachments": {
    "8a28a513-05fe-4f32-8812-081ecb13e603.png": {
     "image/png": "[encoded data removed]"
    }
   },
   "cell_type": "markdown",
   "id": "7d6bb937-d973-48ef-9a0a-979fd828b0b4",
   "metadata": {},
   "source": [
    "### Q9. A study was conducted to determine if there is an association between smoking status (smoker or non-smoker) and lung cancer diagnosis (yes or no). The results are shown in the contingency table below. Conduct a chi-square test for independence to determine if there is a significant association between smoking status and lung cancer diagnosis.\n",
    "![image.png](attachment:8a28a513-05fe-4f32-8812-081ecb13e603.png)\n",
    "### Use a significance level of 0.05."
   ]
  },
  {
   "cell_type": "code",
   "execution_count": 51,
   "id": "8811b3f8-de92-4b5c-ad82-773b1b31e568",
   "metadata": {},
   "outputs": [
    {
     "name": "stdout",
     "output_type": "stream",
     "text": [
      "Chi-square statistic: 12.057347670250895\n",
      "P-value: 0.0005158863863703744\n",
      "There is evidence of an association between smoking status and lung cancer diagnosis.\n"
     ]
    }
   ],
   "source": [
    "import numpy as np\n",
    "from scipy.stats import chi2_contingency\n",
    "\n",
    "# Contingency table data\n",
    "observed = np.array([[60, 140], [30, 170]])\n",
    "\n",
    "# Perform the chi-square test for independence\n",
    "chi2, p_value, dof, expected = chi2_contingency(observed)\n",
    "\n",
    "# Print the test results\n",
    "print(f\"Chi-square statistic: {chi2}\")\n",
    "print(f\"P-value: {p_value}\")\n",
    "\n",
    "# Check if the null hypothesis is rejected or not\n",
    "alpha = 0.05\n",
    "if p_value < alpha:\n",
    "    print(\"There is evidence of an association between smoking status and lung cancer diagnosis.\")\n",
    "else:\n",
    "    print(\"There is no evidence of an association between smoking status and lung cancer diagnosis.\")\n"
   ]
  },
  {
   "attachments": {
    "41ead823-5c5c-47e0-b861-85e7d8868cff.png": {
     "image/png": "[encoded data removed]"
    }
   },
   "cell_type": "markdown",
   "id": "1795445c-c2b6-498f-b83c-3a8e53ce7092",
   "metadata": {},
   "source": [
    "### Q10. A study was conducted to determine if the proportion of people who prefer milk chocolate, dark chocolate, or white chocolate is different in the U.S. versus the U.K. A random sample of 500 people from the U.S. and a random sample of 500 people from the U.K. were surveyed. The results are shown in the contingency table below. Conduct a chi-square test for independence to determine if there is a significant association between chocolate preference and country of origin.\n",
    "![image.png](attachment:41ead823-5c5c-47e0-b861-85e7d8868cff.png)\n",
    "### Use a significance level of 0.01."
   ]
  },
  {
   "cell_type": "code",
   "execution_count": 52,
   "id": "24831dd5-ea90-4e86-9b4d-891ce420862a",
   "metadata": {},
   "outputs": [
    {
     "name": "stdout",
     "output_type": "stream",
     "text": [
      "Chi-square statistic: 13.393665158371041\n",
      "P-value: 0.0012348168997745918\n",
      "There is evidence of an association between chocolate preference and country of origin.\n"
     ]
    }
   ],
   "source": [
    "import numpy as np\n",
    "from scipy.stats import chi2_contingency\n",
    "\n",
    "# Contingency table data\n",
    "observed = np.array([[200, 150, 150], [225, 175, 100]])\n",
    "\n",
    "# Perform the chi-square test for independence\n",
    "chi2, p_value, dof, expected = chi2_contingency(observed)\n",
    "\n",
    "# Print the test results\n",
    "print(f\"Chi-square statistic: {chi2}\")\n",
    "print(f\"P-value: {p_value}\")\n",
    "\n",
    "# Check if the null hypothesis is rejected or not\n",
    "alpha = 0.01\n",
    "if p_value < alpha:\n",
    "    print(\"There is evidence of an association between chocolate preference and country of origin.\")\n",
    "else:\n",
    "    print(\"There is no evidence of an association between chocolate preference and country of origin.\")\n"
   ]
  },
  {
   "cell_type": "markdown",
   "id": "7cbc240b-fddb-499f-886a-8c8098439474",
   "metadata": {},
   "source": [
    "### Q11. A random sample of 30 people was selected from a population with an unknown mean and standard deviation. The sample mean was found to be 72 and the sample standard deviation was found to be 10. Conduct a hypothesis test to determine if the population mean is significantly different from 70. Use a significance level of 0.05."
   ]
  },
  {
   "cell_type": "markdown",
   "id": "35756726-89b2-4f95-a8f2-9da16c12617c",
   "metadata": {},
   "source": [
    "Null hypothesis (H₀): The population mean (μ) is equal to 70.<br>\n",
    "Alternative hypothesis (H₁): The population mean (μ) is significantly different from 70.\n",
    "\n",
    "We'll use a t-test since the population standard deviation is unknown.\n",
    "\n",
    "The test statistic for a t-test is calculated as follows:<br>\n",
    "t = (sample mean - hypothesized mean) / (sample standard deviation / √n)\n",
    "\n",
    "Given the information provided:<br>\n",
    "Sample mean (x̄) = 72<br>\n",
    "Sample standard deviation (s) = 10<br>\n",
    "Sample size (n) = 30<br>\n",
    "Hypothesized mean (μ₀) = 70\n",
    "\n",
    "Calculating the test statistic:<br>\n",
    "t = (72 - 70) / (10 / √30)<br>\n",
    "t = 2 / (10 / √30)<br>\n",
    "t ≈ 2 / 1.8257<br>\n",
    "t ≈ 1.095\n",
    "\n",
    "Next, we'll compare the calculated test statistic to the critical value from the t-distribution table at a significance level of 0.05 with (n - 1) degrees of freedom. Since the sample size is 30, the degrees of freedom would be 29.\n",
    "\n",
    "The critical value for a two-tailed test at a significance level of 0.05 with 29 degrees of freedom is approximately ±2.045.\n",
    "\n",
    "Since the calculated test statistic (1.095) does not exceed the critical value (±2.045), we fail to reject the null hypothesis.\n",
    "\n",
    "Therefore, we do not have sufficient evidence to conclude that the population mean is significantly different from 70 at a significance level of 0.05."
   ]
  },
  {
   "cell_type": "markdown",
   "id": "b8155ae4-9167-4931-b93f-75b59f63518b",
   "metadata": {},
   "source": [
    "### "
   ]
  },
  {
   "cell_type": "markdown",
   "id": "68ab290f-c865-4ebd-a539-934ad9c55734",
   "metadata": {},
   "source": [
    "### "
   ]
  },
  {
   "cell_type": "markdown",
   "id": "51572d00-a22e-44ea-bb4c-c73fd3f9f3e3",
   "metadata": {},
   "source": [
    "### "
   ]
  },
  {
   "cell_type": "markdown",
   "id": "061733d2-3cd0-4496-b024-f18c12801570",
   "metadata": {},
   "source": [
    "### "
   ]
  }
 ],
 "metadata": {
  "kernelspec": {
   "display_name": "Python 3 (ipykernel)",
   "language": "python",
   "name": "python3"
  },
  "language_info": {
   "codemirror_mode": {
    "name": "ipython",
    "version": 3
   },
   "file_extension": ".py",
   "mimetype": "text/x-python",
   "name": "python",
   "nbconvert_exporter": "python",
   "pygments_lexer": "ipython3",
   "version": "3.10.8"
  }
 },
 "nbformat": 4,
 "nbformat_minor": 5
}
