{
 "cells": [
  {
   "cell_type": "markdown",
   "id": "bbd29029-805f-4af2-8b0b-5d4ed2862f18",
   "metadata": {},
   "source": [
    "### Q1, Create a vehicle class with an init method having instance variables as name_of_vehicle, max_speed and average_of_vehicle."
   ]
  },
  {
   "cell_type": "code",
   "execution_count": 25,
   "id": "0dc406d5-65bc-4031-b702-0320c6cba6a5",
   "metadata": {},
   "outputs": [],
   "source": [
    "class vehicle:\n",
    "    def __init__(self, name_of_vehicle, max_speed, average_of_vehicle):\n",
    "        self.name_of_vehicle = name_of_vehicle\n",
    "        self.max_speed = max_speed\n",
    "        self.average_of_vehicle = average_of_vehicle"
   ]
  },
  {
   "cell_type": "markdown",
   "id": "3ea246b5-56d8-4f23-a3c9-ab34f69a530e",
   "metadata": {},
   "source": [
    "### Q2. Create a child class car from the vehicle class created in Que 1, which will inherit the vehicle class. Create a method named seating_capacity which takes capacity as an argument and returns the name of the vehicle and its seating capacity."
   ]
  },
  {
   "cell_type": "code",
   "execution_count": 26,
   "id": "8c5a9247-1df9-4f86-888e-ab00c0900cf1",
   "metadata": {},
   "outputs": [],
   "source": [
    "class car(vehicle):\n",
    "    def seating_capacity(self, capacity):\n",
    "        self.capacity = capacity\n",
    "        return self.name_of_vehicle, self.capacity"
   ]
  },
  {
   "cell_type": "markdown",
   "id": "3dd7c4ae-f530-4419-ba1c-234b65f86770",
   "metadata": {},
   "source": [
    "### Q3. What is multiple inheritance? Write a python code to demonstrate multiple inheritance."
   ]
  },
  {
   "cell_type": "markdown",
   "id": "4213ba67-3d98-49ad-a675-cde4e72a6094",
   "metadata": {},
   "source": [
    "Multiple inheritance is a feature of object-oriented programming languages where a class can inherit characteristics and behavior from multiple parent classes. This allows a subclass to inherit methods and attributes from multiple parent classes."
   ]
  },
  {
   "cell_type": "code",
   "execution_count": 27,
   "id": "431c5e19-780f-4403-bed1-3eb7ffef9a0b",
   "metadata": {},
   "outputs": [
    {
     "name": "stdout",
     "output_type": "stream",
     "text": [
      "Name: Parent1\n",
      "Age: 30\n"
     ]
    }
   ],
   "source": [
    "class Parent1:\n",
    "    def __init__(self):\n",
    "        self.name = \"Parent1\"\n",
    "\n",
    "    def display(self):\n",
    "        print(\"Name:\", self.name)\n",
    "\n",
    "class Parent2:\n",
    "    def __init__(self):\n",
    "        self.age = 30\n",
    "\n",
    "    def display(self):\n",
    "        print(\"Age:\", self.age)\n",
    "\n",
    "class Child(Parent1, Parent2):\n",
    "    def __init__(self):\n",
    "        Parent1.__init__(self)\n",
    "        Parent2.__init__(self)\n",
    "\n",
    "    def display(self):\n",
    "        Parent1.display(self)\n",
    "        Parent2.display(self)\n",
    "\n",
    "c = Child()\n",
    "c.display()"
   ]
  },
  {
   "cell_type": "markdown",
   "id": "51bdef9e-a49b-401e-80ec-698c4750ad1e",
   "metadata": {},
   "source": [
    "### Q4. What are getter and setter in python? Create a class and create a getter and a setter method in this class."
   ]
  },
  {
   "cell_type": "markdown",
   "id": "f97ea199-e29c-4753-960b-800a7d1b247e",
   "metadata": {},
   "source": [
    "Getter and setter methods, also known as accessor and mutator methods, are used to control access to an object's properties. A getter method is used to retrieve the value of an object's property, while a setter method is used to set the value of an object's property."
   ]
  },
  {
   "cell_type": "code",
   "execution_count": 28,
   "id": "a7432096-e2c1-4fab-b36d-7eb1c4209975",
   "metadata": {},
   "outputs": [
    {
     "name": "stdout",
     "output_type": "stream",
     "text": [
      "Dishank Hanwate\n",
      "23\n",
      "Jane Doe\n",
      "35\n"
     ]
    }
   ],
   "source": [
    "class Person:\n",
    "    def __init__(self, name, age):\n",
    "        self._name = name\n",
    "        self._age = age\n",
    "\n",
    "    def get_name(self):\n",
    "        return self._name\n",
    "\n",
    "    def set_name(self, name):\n",
    "        self._name = name\n",
    "\n",
    "    def get_age(self):\n",
    "        return self._age\n",
    "\n",
    "    def set_age(self, age):\n",
    "        self._age = age\n",
    "\n",
    "p = Person(\"Dishank Hanwate\", 23)\n",
    "print(p.get_name())\n",
    "print(p.get_age())\n",
    "p.set_name(\"Jane Doe\")\n",
    "p.set_age(35)\n",
    "print(p.get_name())\n",
    "print(p.get_age())"
   ]
  },
  {
   "cell_type": "code",
   "execution_count": 12,
   "id": "4d8b1b59-9e34-44c8-ac8a-834afbc59ad5",
   "metadata": {},
   "outputs": [],
   "source": [
    "from datetime import date\n",
    "\n",
    "class Employee:\n",
    "    def __init__(self, name, age):\n",
    "        self.__name = name\n",
    "        self.__age = age\n",
    "\n",
    "    @property\n",
    "    def name(self):\n",
    "        return self.__name\n",
    "\n",
    "    @name.setter\n",
    "    def name(self, value):\n",
    "        self.__name = value.upper()\n",
    "\n",
    "    @property\n",
    "    def age(self):\n",
    "        return self.__age\n",
    "\n",
    "    @age.setter\n",
    "    def age(self, value):\n",
    "        self.__age = value"
   ]
  },
  {
   "cell_type": "code",
   "execution_count": 13,
   "id": "ba278c58-7fcf-4642-b95e-d13cceaa9975",
   "metadata": {},
   "outputs": [],
   "source": [
    "e = Employee(\"dish\", 22)"
   ]
  },
  {
   "cell_type": "code",
   "execution_count": 15,
   "id": "0fd5d454-4e72-4107-8d30-10cc0322d26a",
   "metadata": {},
   "outputs": [
    {
     "data": {
      "text/plain": [
       "'dish'"
      ]
     },
     "execution_count": 15,
     "metadata": {},
     "output_type": "execute_result"
    }
   ],
   "source": [
    "e.name"
   ]
  },
  {
   "cell_type": "code",
   "execution_count": null,
   "id": "4fba5b00-da90-4199-a927-b751acb07ced",
   "metadata": {},
   "outputs": [],
   "source": [
    "E"
   ]
  },
  {
   "cell_type": "markdown",
   "id": "e80af1ad-a1bc-4048-b1cf-aa3de330d851",
   "metadata": {},
   "source": [
    "### Q5.What is method overriding in python? Write a python code to demonstrate method overriding."
   ]
  },
  {
   "cell_type": "markdown",
   "id": "0ab48c3d-22e7-4cf9-96a6-e5e2bc76597a",
   "metadata": {},
   "source": [
    "Method overriding is a feature in object-oriented programming that allows a subclass to provide a different implementation of a method that is already defined in its parent class. When a subclass defines a method with the same name as a method in its parent class, it is said to override the parent class method. The method in the subclass is called instead of the method in the parent class when the method is called on an instance of the subclass."
   ]
  },
  {
   "cell_type": "code",
   "execution_count": 29,
   "id": "be4b96e1-8283-48fd-a964-9dda5f49bf2e",
   "metadata": {},
   "outputs": [
    {
     "name": "stdout",
     "output_type": "stream",
     "text": [
      "153.86\n",
      "220\n"
     ]
    }
   ],
   "source": [
    "class Square:\n",
    "    def __init__(self, length):\n",
    "        self.length = length\n",
    "\n",
    "    def area(self):\n",
    "        return self.length**2\n",
    "\n",
    "class Circle(Square):\n",
    "    def __init__(self, radius):\n",
    "        self.radius = radius\n",
    "\n",
    "    def area(self):\n",
    "        return 3.14 * self.radius * self.radius\n",
    "\n",
    "class Rectangle(Square):\n",
    "    def __init__(self, length, width):\n",
    "        self.length = length\n",
    "        self.width = width\n",
    "\n",
    "    def area(self):\n",
    "        return self.length * self.width\n",
    "\n",
    "c = Circle(7)\n",
    "print(c.area())\n",
    "r = Rectangle(20, 11)\n",
    "print(r.area())"
   ]
  }
 ],
 "metadata": {
  "kernelspec": {
   "display_name": "Python 3 (ipykernel)",
   "language": "python",
   "name": "python3"
  },
  "language_info": {
   "codemirror_mode": {
    "name": "ipython",
    "version": 3
   },
   "file_extension": ".py",
   "mimetype": "text/x-python",
   "name": "python",
   "nbconvert_exporter": "python",
   "pygments_lexer": "ipython3",
   "version": "3.10.8"
  }
 },
 "nbformat": 4,
 "nbformat_minor": 5
}
