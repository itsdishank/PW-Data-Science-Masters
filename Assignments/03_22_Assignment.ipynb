{
 "cells": [
  {
   "cell_type": "markdown",
   "id": "b7f1d850-3993-46bd-a20b-f9f216566f25",
   "metadata": {},
   "source": [
    "### Q1. Pearson correlation coefficient is a measure of the linear relationship between two variables. Suppose you have collected data on the amount of time students spend studying for an exam and their final exam scores. Calculate the Pearson correlation coefficient between these two variables and interpret the result."
   ]
  },
  {
   "cell_type": "markdown",
   "id": "32ba6651-032d-4ae0-9298-f342aa8992dd",
   "metadata": {},
   "source": [
    "Collect the data: Obtain the study time and exam score values for each student.\n",
    "\n",
    "* Calculate the means: Find the mean (average) of the study time values and the mean of the exam score values.\n",
    "* Calculate the standard deviations: Determine the standard deviation of the study time values and the standard deviation of the exam score values.\n",
    "* Calculate the covariance: Calculate the covariance between the study time and exam scores using the following formula:<br>\n",
    "covariance = Σ((study time - mean of study time) * (exam score - mean of exam scores)) / (number of data points - 1)\n",
    "* Calculate the Pearson correlation coefficient: Divide the covariance by the product of the standard deviations of the study time and exam scores.<br>\n",
    "Pearson correlation coefficient = covariance / (standard deviation of study time * standard deviation of exam scores)\n",
    "\n",
    "Interpretation of the Pearson correlation coefficient:\n",
    "\n",
    "* The Pearson correlation coefficient ranges from -1 to 1.\n",
    "* If the coefficient is close to 1, it indicates a strong positive linear relationship between study time and exam scores. This means that as study time increases, exam scores tend to increase as well.\n",
    "* If the coefficient is close to -1, it indicates a strong negative linear relationship. This implies that as study time increases, exam scores tend to decrease.\n",
    "* If the coefficient is close to 0, it suggests a weak or no linear relationship between study time and exam scores."
   ]
  },
  {
   "cell_type": "markdown",
   "id": "679c830c-e354-42b3-b99c-565b3820aa01",
   "metadata": {},
   "source": [
    "### Q2. Spearman's rank correlation is a measure of the monotonic relationship between two variables.Suppose you have collected data on the amount of sleep individuals get each night and their overall job satisfaction level on a scale of 1 to 10. Calculate the Spearman's rank correlation between these two variables and interpret the result."
   ]
  },
  {
   "cell_type": "code",
   "execution_count": 1,
   "id": "3e790c90-18b6-4822-b848-8322339e647a",
   "metadata": {},
   "outputs": [
    {
     "name": "stdout",
     "output_type": "stream",
     "text": [
      "Spearman's rank correlation coefficient: 0.9746794344808963\n",
      "P-value: 0.004818230468198566\n"
     ]
    }
   ],
   "source": [
    "import pandas as pd\n",
    "from scipy.stats import spearmanr\n",
    "\n",
    "# Create a sample dataset\n",
    "data = {\n",
    "    'Sleep': [7, 6, 8, 5, 7],\n",
    "    'Job Satisfaction': [8, 6, 9, 5, 7]\n",
    "}\n",
    "\n",
    "df = pd.DataFrame(data)\n",
    "\n",
    "# Calculate Spearman's rank correlation coefficient and p-value\n",
    "correlation, p_value = spearmanr(df['Sleep'], df['Job Satisfaction'])\n",
    "\n",
    "# Print the correlation coefficient and p-value\n",
    "print(f\"Spearman's rank correlation coefficient: {correlation}\")\n",
    "print(f\"P-value: {p_value}\")\n"
   ]
  },
  {
   "cell_type": "markdown",
   "id": "0a93df10-0b52-43fb-92c4-91432c607b14",
   "metadata": {},
   "source": [
    "Interpreting the result:\n",
    "\n",
    "The Spearman's rank correlation coefficient between the amount of sleep individuals get each night and their overall job satisfaction level is 0.9746794344808963. This coefficient indicates a very strong positive monotonic relationship between the two variables. The value close to 1 suggests that there is a high tendency for the job satisfaction level to increase as the amount of sleep individuals get each night increases, in a monotonic fashion.\n",
    "\n",
    "The p-value associated with the correlation coefficient is 0.004818230468198566, which is less than the commonly used significance level of 0.05. This indicates that the observed correlation is statistically significant. We have sufficient evidence to reject the null hypothesis of no correlation and conclude that there is a significant monotonic relationship between the amount of sleep and job satisfaction."
   ]
  },
  {
   "cell_type": "markdown",
   "id": "ca037cb0-5831-447c-bbc1-f8e5b659d347",
   "metadata": {},
   "source": [
    "### Q3. Suppose you are conducting a study to examine the relationship between the number of hours of exercise per week and body mass index (BMI) in a sample of adults. You collected data on both variables for 50 participants. Calculate the Pearson correlation coefficient and the Spearman's rank correlation between these two variables and compare the results."
   ]
  },
  {
   "cell_type": "code",
   "execution_count": 2,
   "id": "397f6c06-b3b1-4a20-a0b2-5537e9924bcc",
   "metadata": {},
   "outputs": [
    {
     "name": "stdout",
     "output_type": "stream",
     "text": [
      "Pearson correlation coefficient: 0.9797571412654146\n",
      "Pearson p-value: 6.820328725399555e-36\n",
      "\n",
      "Spearman's rank correlation coefficient: 0.9731424718408446\n",
      "Spearman's rank p-value: 6.44873527464813e-33\n"
     ]
    }
   ],
   "source": [
    "import pandas as pd\n",
    "from scipy.stats import pearsonr, spearmanr\n",
    "\n",
    "# Create a sample dataset\n",
    "data = {\n",
    "    'Exercise Hours': [3, 5, 2, 4, 6, 2, 1, 3, 4, 5, 1, 2, 3, 4, 2, 5, 6, 1, 4, 3, 5, 2, 3, 1, 4, 2, 5, 3, 2, 1, 6, 4, 3, 5, 2, 4, 1, 3, 2, 5, 4, 3, 1, 2, 4, 3, 5, 1, 2, 3, 4],\n",
    "    'BMI': [22.5, 25.0, 21.8, 24.0, 26.2, 21.5, 20.0, 22.0, 23.6, 25.3, 20.2, 21.0, 22.1, 23.8, 21.3, 25.5, 26.8, 20.3, 23.5, 22.7, 25.1, 21.7, 22.4, 20.1, 24.1, 21.6, 25.4, 22.3, 21.2, 20.4, 26.3, 23.9, 22.8, 25.6, 21.4, 24.2, 20.5, 22.2, 21.1, 25.7, 23.7, 22.6, 20.6, 21.9, 24.3, 23.2, 25.8, 20.7, 22.9, 23.0, 24.4]\n",
    "}\n",
    "\n",
    "df = pd.DataFrame(data)\n",
    "\n",
    "# Calculate the Pearson correlation coefficient and p-value\n",
    "pearson_corr, pearson_p_value = pearsonr(df['Exercise Hours'], df['BMI'])\n",
    "\n",
    "# Calculate the Spearman's rank correlation coefficient and p-value\n",
    "spearman_corr, spearman_p_value = spearmanr(df['Exercise Hours'], df['BMI'])\n",
    "\n",
    "# Print the correlation coefficients and p-values\n",
    "print(f\"Pearson correlation coefficient: {pearson_corr}\")\n",
    "print(f\"Pearson p-value: {pearson_p_value}\")\n",
    "print()\n",
    "print(f\"Spearman's rank correlation coefficient: {spearman_corr}\")\n",
    "print(f\"Spearman's rank p-value: {spearman_p_value}\")\n"
   ]
  },
  {
   "cell_type": "markdown",
   "id": "e5953c87-90ca-4399-aed7-e7b4a2c2ad73",
   "metadata": {},
   "source": [
    "The Pearson correlation coefficient between the number of hours of exercise per week and body mass index (BMI) is 0.9797571412654146. This coefficient indicates a very strong positive linear relationship between the two variables. The p-value (6.820328725399555e-36) is extremely small, indicating strong evidence against the null hypothesis of no correlation. Thus, we can conclude that there is a statistically significant positive linear relationship between exercise hours and BMI.\n",
    "\n",
    "Similarly, the Spearman's rank correlation coefficient between the number of hours of exercise per week and BMI is 0.9731424718408446. This coefficient also indicates a very strong positive monotonic relationship between the two variables. The p-value (6.44873527464813e-33) is extremely small, suggesting strong evidence against the null hypothesis of no correlation. Therefore, we can conclude that there is a statistically significant positive monotonic relationship between exercise hours and BMI.\n",
    "\n",
    "Both correlation coefficients (Pearson and Spearman's rank) indicate a very strong positive relationship between exercise hours and BMI. This implies that as the number of hours of exercise per week increases, the BMI tends to increase as well. The statistically significant p-values provide evidence to support the observed relationships, indicating that these findings are unlikely to be due to random chance."
   ]
  },
  {
   "cell_type": "markdown",
   "id": "6b366255-1c54-469a-a46e-eca2e150250a",
   "metadata": {},
   "source": [
    "### Q4. A researcher is interested in examining the relationship between the number of hours individuals spend watching television per day and their level of physical activity. The researcher collected data on both variables from a sample of 50 participants. Calculate the Pearson correlation coefficient between these two variables."
   ]
  },
  {
   "cell_type": "code",
   "execution_count": 3,
   "id": "76e52f5a-9dc6-4f7f-90eb-2fa31a7c27ea",
   "metadata": {},
   "outputs": [
    {
     "name": "stdout",
     "output_type": "stream",
     "text": [
      "Pearson correlation coefficient: 0.15177887261419132\n",
      "P-value: 0.2876816679754577\n"
     ]
    }
   ],
   "source": [
    "import pandas as pd\n",
    "from scipy.stats import pearsonr\n",
    "\n",
    "# Create a sample dataset\n",
    "data = {\n",
    "    'TV Hours': [3, 5, 2, 4, 6, 2, 1, 3, 4, 5, 1, 2, 3, 4, 2, 5, 6, 1, 4, 3, 5, 2, 3, 1, 4, 2, 5, 3, 2, 1, 6, 4, 3, 5, 2, 4, 1, 3, 2, 5, 4, 3, 1, 2, 4, 3, 5, 1, 2, 3, 4],\n",
    "    'Physical Activity': [2, 3, 1, 2, 4, 3, 2, 1, 4, 2, 5, 4, 3, 1, 2, 3, 4, 2, 5, 3, 2, 1, 4, 3, 5, 1, 2, 3, 4, 2, 5, 4, 3, 1, 2, 4, 3, 5, 1, 2, 3, 4, 3, 1, 2, 4, 3, 5, 1, 2, 3]\n",
    "}\n",
    "\n",
    "df = pd.DataFrame(data)\n",
    "\n",
    "# Calculate the Pearson correlation coefficient and p-value\n",
    "correlation, p_value = pearsonr(df['TV Hours'], df['Physical Activity'])\n",
    "\n",
    "# Print the correlation coefficient and p-value\n",
    "print(f\"Pearson correlation coefficient: {correlation}\")\n",
    "print(f\"P-value: {p_value}\")\n"
   ]
  },
  {
   "cell_type": "markdown",
   "id": "1762b692-1010-4c6c-a2d3-0be4a2e4cffc",
   "metadata": {},
   "source": [
    "Interpreting the result:\n",
    "\n",
    "The Pearson correlation coefficient between the number of hours individuals spend watching television per day and their level of physical activity is 0.15177887261419132. This coefficient indicates a very weak positive linear relationship between the two variables. The positive value suggests that there is a slight tendency for individuals who watch more television to have a slightly higher level of physical activity, but the relationship is not strong.\n",
    "\n",
    "The p-value associated with the correlation coefficient is 0.2876816679754577, which is greater than the commonly used significance level of 0.05. This suggests that the observed correlation is not statistically significant. Therefore, we do not have sufficient evidence to reject the null hypothesis of no correlation and conclude that there is no significant linear relationship between the number of hours spent watching television and the level of physical activity."
   ]
  },
  {
   "attachments": {
    "6428be4e-c1ea-4157-8f94-7bea02ace374.png": {
     "image/png": "[encoded data removed]"
    }
   },
   "cell_type": "markdown",
   "id": "bd7c7ec5-37a8-4a28-a219-f9bf3f4692e9",
   "metadata": {},
   "source": [
    "### Q5. A survey was conducted to examine the relationship between age and preference for a particular brand of soft drink. The survey results are shown below:\n",
    "![image.png](attachment:6428be4e-c1ea-4157-8f94-7bea02ace374.png)"
   ]
  },
  {
   "cell_type": "code",
   "execution_count": 4,
   "id": "1f5b8aa0-ae4d-485b-b1f3-48de9a69a28d",
   "metadata": {},
   "outputs": [
    {
     "name": "stdout",
     "output_type": "stream",
     "text": [
      "Correlation coefficient: 0.7691751415594736\n"
     ]
    }
   ],
   "source": [
    "import pandas as pd\n",
    "from sklearn.preprocessing import LabelEncoder\n",
    "\n",
    "# Create a sample dataset\n",
    "data = {\n",
    "    'Age': [25, 42, 37, 19, 31, 28],\n",
    "    'Soft drink Preference': ['Coke', 'Pepsi', 'Mountain Dew', 'Coke', 'Pepsi', 'Coke']\n",
    "}\n",
    "\n",
    "df = pd.DataFrame(data)\n",
    "\n",
    "# Encode the categorical variable using label encoding\n",
    "label_encoder = LabelEncoder()\n",
    "df['Soft drink Preference'] = label_encoder.fit_transform(df['Soft drink Preference'])\n",
    "\n",
    "# Calculate the correlation coefficient\n",
    "correlation = df['Age'].corr(df['Soft drink Preference'])\n",
    "\n",
    "# Print the correlation coefficient\n",
    "print(f\"Correlation coefficient: {correlation}\")\n"
   ]
  },
  {
   "cell_type": "markdown",
   "id": "5f9cd999-78d5-4404-8535-0258d94047de",
   "metadata": {},
   "source": [
    "Interpreting the result:\n",
    "\n",
    "The correlation coefficient between age and preference for a particular brand of soft drink is 0.7691751415594736. This coefficient indicates a strong positive relationship between the two variables. As age increases, there is a tendency for individuals to have a higher preference for the particular brand of soft drink.\n",
    "\n",
    "The positive correlation suggests that older individuals are more likely to prefer this brand of soft drink compared to younger individuals. However, it's important to note that correlation does not imply causation. The observed relationship may be influenced by other factors or may be coincidental."
   ]
  },
  {
   "cell_type": "markdown",
   "id": "bcccc2ea-55d2-41b5-823d-10eaa022d08b",
   "metadata": {},
   "source": [
    "### Q6. A company is interested in examining the relationship between the number of sales calls made per day and the number of sales made per week. The company collected data on both variables from a sample of 30 sales representatives. Calculate the Pearson correlation coefficient between these two variables."
   ]
  },
  {
   "cell_type": "code",
   "execution_count": 5,
   "id": "9347c001-eeb7-4dc5-a124-a0d5b5461a80",
   "metadata": {},
   "outputs": [
    {
     "name": "stdout",
     "output_type": "stream",
     "text": [
      "Pearson correlation coefficient: 0.9614382678482712\n",
      "P-value: 3.109010339632336e-17\n"
     ]
    }
   ],
   "source": [
    "import pandas as pd\n",
    "from scipy.stats import pearsonr\n",
    "\n",
    "# Create a sample dataset\n",
    "data = {\n",
    "    'Sales Calls per Day': [30, 25, 28, 32, 27, 29, 31, 26, 24, 33, 28, 30, 29, 31, 27, 26, 30, 28, 29, 25, 31, 33, 27, 28, 26, 30, 32, 29, 27, 28],\n",
    "    'Sales per Week': [15, 13, 14, 16, 13, 14, 15, 13, 12, 17, 14, 15, 14, 16, 13, 13, 15, 14, 15, 13, 16, 17, 14, 14, 13, 15, 16, 14, 13, 14]\n",
    "}\n",
    "\n",
    "df = pd.DataFrame(data)\n",
    "\n",
    "# Calculate the Pearson correlation coefficient and p-value\n",
    "correlation, p_value = pearsonr(df['Sales Calls per Day'], df['Sales per Week'])\n",
    "\n",
    "# Print the correlation coefficient and p-value\n",
    "print(f\"Pearson correlation coefficient: {correlation}\")\n",
    "print(f\"P-value: {p_value}\")\n"
   ]
  },
  {
   "cell_type": "markdown",
   "id": "d5d30c97-45d4-4022-977a-0e2d8fe28fbc",
   "metadata": {},
   "source": [
    "Interpreting the result:\n",
    "\n",
    "The Pearson correlation coefficient between the number of sales calls made per day and the number of sales made per week is 0.9614382678482712. This coefficient indicates a very strong positive linear relationship between the two variables. As the number of sales calls per day increases, there is a high tendency for the number of sales made per week to also increase.\n",
    "\n",
    "The high positive correlation suggests that there is a strong association between the number of sales calls and the number of sales made. Sales representatives who make more calls per day tend to have higher sales numbers per week.\n",
    "\n",
    "The p-value associated with the correlation coefficient is 3.109010339632336e-17, which is significantly smaller than the commonly used significance level of 0.05. This indicates that the observed correlation is statistically significant. Therefore, we have strong evidence to reject the null hypothesis of no correlation and conclude that there is a significant positive linear relationship between the number of sales calls per day and the number of sales made per week."
   ]
  }
 ],
 "metadata": {
  "kernelspec": {
   "display_name": "Python 3 (ipykernel)",
   "language": "python",
   "name": "python3"
  },
  "language_info": {
   "codemirror_mode": {
    "name": "ipython",
    "version": 3
   },
   "file_extension": ".py",
   "mimetype": "text/x-python",
   "name": "python",
   "nbconvert_exporter": "python",
   "pygments_lexer": "ipython3",
   "version": "3.10.8"
  }
 },
 "nbformat": 4,
 "nbformat_minor": 5
}
