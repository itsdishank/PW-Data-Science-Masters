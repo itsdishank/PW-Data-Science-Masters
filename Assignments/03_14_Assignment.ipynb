{
 "cells": [
  {
   "cell_type": "markdown",
   "id": "16526386-9395-4ca4-8bc4-1918bd2b6ca7",
   "metadata": {},
   "source": [
    "### Q1. Write a Python function that takes in two arrays of data and calculates the F-value for a variance ratio test. The function should return the F-value and the corresponding p-value for the test."
   ]
  },
  {
   "cell_type": "code",
   "execution_count": 5,
   "id": "e868abeb-3ece-4173-86bb-8e2fee7ba36b",
   "metadata": {},
   "outputs": [],
   "source": [
    "import numpy as np\n",
    "from scipy.stats import f\n",
    "\n",
    "def variance_ratio_test(data1, data2):\n",
    "    # Calculate the sample variances\n",
    "    var1 = np.var(data1)\n",
    "    var2 = np.var(data2)\n",
    "\n",
    "    # Calculate the F-value\n",
    "    f_value = var1 / var2\n",
    "\n",
    "    # Calculate the degrees of freedom\n",
    "    df1 = len(data1) - 1\n",
    "    df2 = len(data2) - 1\n",
    "\n",
    "    # Calculate the p-value\n",
    "    p_value = f.sf(f_value, df1, df2)\n",
    "\n",
    "    return f_value, p_value\n"
   ]
  },
  {
   "cell_type": "markdown",
   "id": "dcf058db-7654-470f-812d-344cfe1a403d",
   "metadata": {},
   "source": [
    "### Q2. Given a significance level of 0.05 and the degrees of freedom for the numerator and denominator of an F-distribution, write a Python function that returns the critical F-value for a two-tailed test."
   ]
  },
  {
   "cell_type": "code",
   "execution_count": 6,
   "id": "50448880-8b93-446d-9290-f43f912c7bc4",
   "metadata": {},
   "outputs": [],
   "source": [
    "from scipy.stats import f\n",
    "\n",
    "def get_critical_f_value(alpha, dfn, dfd):\n",
    "    # Calculate the critical F-value\n",
    "    critical_value = f.ppf(1 - alpha / 2, dfn, dfd)\n",
    "\n",
    "    return critical_value"
   ]
  },
  {
   "cell_type": "markdown",
   "id": "7217af00-ed46-4db6-a981-d13f4bcee113",
   "metadata": {},
   "source": [
    "### Q3. Write a Python program that generates random samples from two normal distributions with known variances and uses an F-test to determine if the variances are equal. The program should output the F-value, degrees of freedom, and p-value for the test."
   ]
  },
  {
   "cell_type": "code",
   "execution_count": 7,
   "id": "2cef4d99-7dfc-47bd-bddb-de82f8ec0364",
   "metadata": {},
   "outputs": [
    {
     "name": "stdout",
     "output_type": "stream",
     "text": [
      "F-value: 0.4217313417163961\n",
      "Degrees of Freedom: (99, 99)\n",
      "p-value: 0.9999878249242806\n"
     ]
    }
   ],
   "source": [
    "import numpy as np\n",
    "from scipy.stats import f\n",
    "\n",
    "def equal_variance_test(sample1, sample2):\n",
    "    # Calculate the sample variances\n",
    "    var1 = np.var(sample1, ddof=1)\n",
    "    var2 = np.var(sample2, ddof=1)\n",
    "\n",
    "    # Calculate the degrees of freedom\n",
    "    df1 = len(sample1) - 1\n",
    "    df2 = len(sample2) - 1\n",
    "\n",
    "    # Calculate the F-value\n",
    "    f_value = var1 / var2\n",
    "\n",
    "    # Calculate the p-value\n",
    "    p_value = f.sf(f_value, df1, df2)\n",
    "\n",
    "    return f_value, (df1, df2), p_value\n",
    "\n",
    "# Generate random samples from two normal distributions\n",
    "np.random.seed(0)\n",
    "sample1 = np.random.normal(loc=0, scale=1, size=100)\n",
    "sample2 = np.random.normal(loc=0, scale=1.5, size=100)\n",
    "\n",
    "# Perform equal variance test\n",
    "f_value, degrees_of_freedom, p_value = equal_variance_test(sample1, sample2)\n",
    "\n",
    "# Output the results\n",
    "print(\"F-value:\", f_value)\n",
    "print(\"Degrees of Freedom:\", degrees_of_freedom)\n",
    "print(\"p-value:\", p_value)\n"
   ]
  },
  {
   "cell_type": "markdown",
   "id": "e6b07fe7-73b5-461e-aa8b-3b5968a485e1",
   "metadata": {},
   "source": [
    "### Q4.The variances of two populations are known to be 10 and 15. A sample of 12 observations is taken from each population. Conduct an F-test at the 5% significance level to determine if the variances are significantly different."
   ]
  },
  {
   "cell_type": "code",
   "execution_count": 21,
   "id": "ebdeb79e-9d54-4d65-8bdd-32f301ed0eff",
   "metadata": {},
   "outputs": [
    {
     "name": "stdout",
     "output_type": "stream",
     "text": [
      "Fail to reject the null hypothesis. No significant difference in variances.\n"
     ]
    }
   ],
   "source": [
    "import scipy.stats as stats\n",
    "\n",
    "# Given information\n",
    "variance1 = 10\n",
    "variance2 = 15\n",
    "sample_size = 12\n",
    "alpha = 0.05\n",
    "\n",
    "# Calculate the F-statistic\n",
    "f_statistic = variance2 / variance1\n",
    "\n",
    "# Calculate the degrees of freedom\n",
    "df1 = sample_size - 1\n",
    "df2 = sample_size - 1\n",
    "\n",
    "# Find the critical F-value\n",
    "critical_f_value = stats.f.ppf(1 - alpha, df1, df2)\n",
    "\n",
    "# Perform the F-test\n",
    "if f_statistic > critical_f_value:\n",
    "    print(\"Reject the null hypothesis. Variances are significantly different.\")\n",
    "else:\n",
    "    print(\"Fail to reject the null hypothesis. No significant difference in variances.\")\n"
   ]
  },
  {
   "cell_type": "markdown",
   "id": "6e4ec7c1-fb11-4928-8ebe-cf3237aa6b94",
   "metadata": {},
   "source": [
    "### Q5. A manufacturer claims that the variance of the diameter of a certain product is 0.005. A sample of 25 products is taken, and the sample variance is found to be 0.006. Conduct an F-test at the 1% significance level to determine if the claim is justified."
   ]
  },
  {
   "cell_type": "code",
   "execution_count": 22,
   "id": "d12c2303-29d0-4442-b830-631018fb240a",
   "metadata": {},
   "outputs": [
    {
     "name": "stdout",
     "output_type": "stream",
     "text": [
      "F-value: 1.2\n",
      "P-value: 0.3293654682817244\n",
      "Result: Fail to reject the claim. Variance is not significantly different.\n"
     ]
    }
   ],
   "source": [
    "import scipy.stats as stats\n",
    "\n",
    "def perform_f_test(sample_variance, population_variance, sample_size, significance_level):\n",
    "    degrees_of_freedom_numerator = sample_size - 1\n",
    "    degrees_of_freedom_denominator = sample_size - 1\n",
    "    \n",
    "    f_value = sample_variance / population_variance\n",
    "    p_value = 1 - stats.f.cdf(f_value, degrees_of_freedom_numerator, degrees_of_freedom_denominator)\n",
    "    \n",
    "    if p_value < significance_level:\n",
    "        result = \"Reject the claim. Variance is significantly different.\"\n",
    "    else:\n",
    "        result = \"Fail to reject the claim. Variance is not significantly different.\"\n",
    "    \n",
    "    return f_value, p_value, result\n",
    "\n",
    "# Given information\n",
    "sample_variance = 0.006\n",
    "population_variance = 0.005\n",
    "sample_size = 25\n",
    "significance_level = 0.01\n",
    "\n",
    "# Perform F-test\n",
    "f_value, p_value, result = perform_f_test(sample_variance, population_variance, sample_size, significance_level)\n",
    "\n",
    "# Print results\n",
    "print(\"F-value:\", f_value)\n",
    "print(\"P-value:\", p_value)\n",
    "print(\"Result:\", result)\n"
   ]
  },
  {
   "cell_type": "markdown",
   "id": "6738a21e-b1da-4955-873e-f339c86c8bc9",
   "metadata": {},
   "source": [
    "### Q6. Write a Python function that takes in the degrees of freedom for the numerator and denominator of an F-distribution and calculates the mean and variance of the distribution. The function should return the mean and variance as a tuple."
   ]
  },
  {
   "cell_type": "code",
   "execution_count": 23,
   "id": "f115330e-e943-41af-ae78-4f54b1ff2d45",
   "metadata": {},
   "outputs": [
    {
     "name": "stdout",
     "output_type": "stream",
     "text": [
      "Mean: 1.25\n",
      "Variance: 1.3541666666666667\n"
     ]
    }
   ],
   "source": [
    "def calculate_f_distribution_mean_and_variance(df_numerator, df_denominator):\n",
    "    mean = df_denominator / (df_denominator - 2)\n",
    "    variance_numerator = 2 * (df_denominator**2) * (df_numerator + df_denominator - 2)\n",
    "    variance_denominator = df_numerator * (df_denominator - 2)**2 * (df_denominator - 4)\n",
    "    variance = variance_numerator / variance_denominator\n",
    "    return mean, variance\n",
    "\n",
    "# Example usage\n",
    "df_numerator = 5\n",
    "df_denominator = 10\n",
    "\n",
    "mean, variance = calculate_f_distribution_mean_and_variance(df_numerator, df_denominator)\n",
    "print(\"Mean:\", mean)\n",
    "print(\"Variance:\", variance)\n"
   ]
  },
  {
   "cell_type": "markdown",
   "id": "43052239-e6fe-45be-b906-097c9380d98a",
   "metadata": {},
   "source": [
    "### Q7. A random sample of 10 measurements is taken from a normal population with unknown variance. The sample variance is found to be 25. Another random sample of 15 measurements is taken from another normal population with unknown variance, and the sample variance is found to be 20. Conduct an F-test at the 10% significance level to determine if the variances are significantly different."
   ]
  },
  {
   "cell_type": "code",
   "execution_count": 24,
   "id": "52773dd0-705e-4180-a428-d9e2b8fe16e6",
   "metadata": {},
   "outputs": [
    {
     "name": "stdout",
     "output_type": "stream",
     "text": [
      "The variances are not significantly different.\n",
      "F-statistic: 1.25\n",
      "p-value: 0.3416097191292977\n"
     ]
    }
   ],
   "source": [
    "import scipy.stats as stats\n",
    "\n",
    "# Define the sample variances\n",
    "sample_var1 = 25\n",
    "sample_var2 = 20\n",
    "\n",
    "# Define the degrees of freedom\n",
    "df1 = 10 - 1  # degrees of freedom for sample 1\n",
    "df2 = 15 - 1  # degrees of freedom for sample 2\n",
    "\n",
    "# Calculate the F-test statistic\n",
    "f_stat = sample_var1 / sample_var2\n",
    "\n",
    "# Calculate the p-value\n",
    "p_value = 1 - stats.f.cdf(f_stat, df1, df2)\n",
    "\n",
    "# Define the significance level\n",
    "alpha = 0.10\n",
    "\n",
    "# Conduct the F-test\n",
    "if p_value < alpha:\n",
    "    print(\"The variances are significantly different.\")\n",
    "else:\n",
    "    print(\"The variances are not significantly different.\")\n",
    "\n",
    "print(\"F-statistic:\", f_stat)\n",
    "print(\"p-value:\", p_value)\n"
   ]
  },
  {
   "cell_type": "markdown",
   "id": "cb66be9f-e611-4607-b8e5-86981282fe17",
   "metadata": {},
   "source": [
    "### Q8. The following data represent the waiting times in minutes at two different restaurants on a Saturday night: Restaurant A: 24, 25, 28, 23, 22, 20, 27; Restaurant B: 31, 33, 35, 30, 32, 36. Conduct an F-test at the 5% significance level to determine if the variances are significantly different."
   ]
  },
  {
   "cell_type": "code",
   "execution_count": 25,
   "id": "19618384-8fd4-4089-9181-bea3d5b14a57",
   "metadata": {},
   "outputs": [
    {
     "name": "stdout",
     "output_type": "stream",
     "text": [
      "The variances are not significantly different.\n",
      "F-statistic: 1.4551907719609583\n",
      "p-value: 0.3487407873968742\n"
     ]
    }
   ],
   "source": [
    "import numpy as np\n",
    "import scipy.stats as stats\n",
    "\n",
    "# Define the data\n",
    "restaurant_A = np.array([24, 25, 28, 23, 22, 20, 27])\n",
    "restaurant_B = np.array([31, 33, 35, 30, 32, 36])\n",
    "\n",
    "# Calculate the sample variances\n",
    "var_A = np.var(restaurant_A, ddof=1)\n",
    "var_B = np.var(restaurant_B, ddof=1)\n",
    "\n",
    "# Define the degrees of freedom\n",
    "df_A = len(restaurant_A) - 1\n",
    "df_B = len(restaurant_B) - 1\n",
    "\n",
    "# Calculate the F-test statistic\n",
    "f_stat = var_A / var_B\n",
    "\n",
    "# Calculate the p-value\n",
    "p_value = 1 - stats.f.cdf(f_stat, df_A, df_B)\n",
    "\n",
    "# Define the significance level\n",
    "alpha = 0.05\n",
    "\n",
    "# Conduct the F-test\n",
    "if p_value < alpha:\n",
    "    print(\"The variances are significantly different.\")\n",
    "else:\n",
    "    print(\"The variances are not significantly different.\")\n",
    "\n",
    "print(\"F-statistic:\", f_stat)\n",
    "print(\"p-value:\", p_value)\n"
   ]
  },
  {
   "cell_type": "markdown",
   "id": "09e3a299-97c9-4fe0-99a8-a995bc062d8c",
   "metadata": {},
   "source": [
    "### Q9. The following data represent the test scores of two groups of students: Group A: 80, 85, 90, 92, 87, 83; Group B: 75, 78, 82, 79, 81, 84. Conduct an F-test at the 1% significance level to  determine if the variances are significantly different."
   ]
  },
  {
   "cell_type": "code",
   "execution_count": 42,
   "id": "77cdcc5a-39b1-4b7e-8295-2f45ff5b3f51",
   "metadata": {},
   "outputs": [
    {
     "name": "stdout",
     "output_type": "stream",
     "text": [
      "The variances are not significantly different.\n"
     ]
    }
   ],
   "source": [
    "import numpy as np\n",
    "from scipy.stats import f\n",
    "\n",
    "group_a = np.array([80, 85, 90, 92, 87, 83])\n",
    "group_b = np.array([75, 78, 82, 79, 81, 84])\n",
    "\n",
    "variance_a = np.var(group_a, ddof=1)\n",
    "variance_b = np.var(group_b, ddof=1)\n",
    "\n",
    "F = variance_a / variance_b\n",
    "\n",
    "degrees_of_freedom_a = len(group_a) - 1\n",
    "degrees_of_freedom_b = len(group_b) - 1\n",
    "\n",
    "alpha = 0.01  # Significance level\n",
    "\n",
    "critical_f_value = f.ppf(1 - alpha, degrees_of_freedom_a, degrees_of_freedom_b)\n",
    "\n",
    "if F > critical_f_value:\n",
    "    print(\"The variances are significantly different.\")\n",
    "else:\n",
    "    print(\"The variances are not significantly different.\")\n"
   ]
  },
  {
   "cell_type": "markdown",
   "id": "b40a76fc-e416-4b02-b86d-13c51b101a77",
   "metadata": {},
   "source": [
    "### "
   ]
  },
  {
   "cell_type": "markdown",
   "id": "32ce9b74-b953-444a-afc7-337cbedf3479",
   "metadata": {},
   "source": [
    "### "
   ]
  }
 ],
 "metadata": {
  "kernelspec": {
   "display_name": "Python 3 (ipykernel)",
   "language": "python",
   "name": "python3"
  },
  "language_info": {
   "codemirror_mode": {
    "name": "ipython",
    "version": 3
   },
   "file_extension": ".py",
   "mimetype": "text/x-python",
   "name": "python",
   "nbconvert_exporter": "python",
   "pygments_lexer": "ipython3",
   "version": "3.10.8"
  }
 },
 "nbformat": 4,
 "nbformat_minor": 5
}
