{
 "cells": [
  {
   "cell_type": "markdown",
   "id": "95599c02-f6ee-4e54-a017-15b12c278063",
   "metadata": {},
   "source": [
    "### Q1. Create a Pandas Series that contains the following data: 4, 8, 15, 16, 23, and 42. Then, print the series."
   ]
  },
  {
   "cell_type": "code",
   "execution_count": 11,
   "id": "9c3691d4-133f-4945-b5ac-e3b464e44735",
   "metadata": {},
   "outputs": [
    {
     "name": "stdout",
     "output_type": "stream",
     "text": [
      "0     4\n",
      "1     8\n",
      "2    15\n",
      "3    16\n",
      "4    23\n",
      "5    42\n",
      "dtype: int64\n"
     ]
    }
   ],
   "source": [
    "import pandas as pd\n",
    "\n",
    "my_series = pd.Series([4, 8, 15, 16, 23, 42])\n",
    "print(my_series)"
   ]
  },
  {
   "cell_type": "markdown",
   "id": "800369ab-9ae8-440b-9b67-da1d8e8640e6",
   "metadata": {},
   "source": [
    "### Q2. Create a variable of list type containing 10 elements in it, and apply pandas.Series function on the variable print it."
   ]
  },
  {
   "cell_type": "code",
   "execution_count": 12,
   "id": "3177ff71-a61e-45cd-a2da-7032869c6c8f",
   "metadata": {},
   "outputs": [
    {
     "name": "stdout",
     "output_type": "stream",
     "text": [
      "0     2\n",
      "1     4\n",
      "2     6\n",
      "3     8\n",
      "4    10\n",
      "5    12\n",
      "6    14\n",
      "7    16\n",
      "8    18\n",
      "9    20\n",
      "dtype: int64\n"
     ]
    }
   ],
   "source": [
    "import pandas as pd\n",
    "\n",
    "my_list = [2, 4, 6, 8, 10, 12, 14, 16, 18, 20]\n",
    "\n",
    "series = pd.Series(my_list)\n",
    "\n",
    "print(series)"
   ]
  },
  {
   "attachments": {
    "1b8a03c7-c6d4-4059-90c1-e593e946d72c.png": {
     "image/png": "[encoded data removed]"
    }
   },
   "cell_type": "markdown",
   "id": "413942c9-ccae-43e8-a7f4-ddf658ac5103",
   "metadata": {},
   "source": [
    "### Q3. Create a Pandas DataFrame that contains the following data:\n",
    "![image.png](attachment:1b8a03c7-c6d4-4059-90c1-e593e946d72c.png)\n",
    "\n",
    "Then, print the DataFrame."
   ]
  },
  {
   "cell_type": "code",
   "execution_count": 13,
   "id": "e4da5043-d19b-4bd4-9e01-59fd3158cb6d",
   "metadata": {},
   "outputs": [
    {
     "name": "stdout",
     "output_type": "stream",
     "text": [
      "     Name  Age  Gender\n",
      "0   Alice   25  Female\n",
      "1     Bob   30    Male\n",
      "2  Claire   27  Female\n"
     ]
    }
   ],
   "source": [
    "import pandas as pd\n",
    "\n",
    "data = {'Name': ['Alice', 'Bob', 'Claire'],\n",
    "        'Age': [25, 30, 27],\n",
    "        'Gender': ['Female', 'Male', 'Female']}\n",
    "\n",
    "my_df = pd.DataFrame(data)\n",
    "\n",
    "print(my_df)"
   ]
  },
  {
   "cell_type": "markdown",
   "id": "1bd662cf-d7e0-4b98-b5d5-2203b3900a73",
   "metadata": {},
   "source": [
    "### Q4. What is ‘DataFrame’ in pandas and how is it different from pandas.series? Explain with an example."
   ]
  },
  {
   "cell_type": "markdown",
   "id": "b9a00f23-6d16-4069-a05f-555d00f17e5c",
   "metadata": {},
   "source": [
    "A DataFrame in pandas is a two-dimensional size-mutable, tabular data structure with columns of potentially different types. It is similar to a spreadsheet or a SQL table, where each column can contain a different type of data (such as numerical, categorical, or textual), and each row represents a unique observation or record.\n",
    "\n",
    "On the other hand, a pandas Series is a one-dimensional labeled array that can hold data of any type (such as integers, floating-point numbers, strings, or even Python objects) and has an associated set of labels, called the index."
   ]
  },
  {
   "cell_type": "code",
   "execution_count": 14,
   "id": "f638dd4c-3da0-4665-a8be-75f58fde5dd7",
   "metadata": {},
   "outputs": [
    {
     "name": "stdout",
     "output_type": "stream",
     "text": [
      "Series:\n",
      "0    10\n",
      "1    20\n",
      "2    30\n",
      "3    40\n",
      "4    50\n",
      "dtype: int64\n",
      "\n",
      "DataFrame:\n",
      "     Name  Age  Gender\n",
      "0   Alice   25  Female\n",
      "1     Bob   30    Male\n",
      "2  Claire   27  Female\n"
     ]
    }
   ],
   "source": [
    "import pandas as pd\n",
    "\n",
    "pd_series = pd.Series([10, 20, 30, 40, 50])\n",
    "\n",
    "pd_df = pd.DataFrame({'Name': ['Alice', 'Bob', 'Claire'],\n",
    "        'Age': [25, 30, 27],\n",
    "        'Gender': ['Female', 'Male', 'Female']})\n",
    "\n",
    "print('Series:')\n",
    "print(pd_series)\n",
    "\n",
    "print('\\nDataFrame:')\n",
    "print(pd_df)\n"
   ]
  },
  {
   "cell_type": "markdown",
   "id": "5a471615-68a1-49cd-bc72-6779f576f07a",
   "metadata": {},
   "source": [
    "### Q5. What are some common functions you can use to manipulate data in a Pandas DataFrame? Can you give an example of when you might use one of these functions?"
   ]
  },
  {
   "cell_type": "markdown",
   "id": "95bfd5c6-b9b2-49e9-a62d-2f72ca2378be",
   "metadata": {},
   "source": [
    "1. head() and tail(): These functions are used to view the first or last n rows of a DataFrame."
   ]
  },
  {
   "cell_type": "code",
   "execution_count": 17,
   "id": "b6605e8f-00f3-41df-828f-cd4ac13c56ff",
   "metadata": {},
   "outputs": [
    {
     "name": "stdout",
     "output_type": "stream",
     "text": [
      "   A   B\n",
      "0  1  10\n",
      "1  2  20\n",
      "2  3  30\n",
      "\n",
      "   A   B\n",
      "3  4  40\n",
      "4  5  50\n"
     ]
    }
   ],
   "source": [
    "import pandas as pd\n",
    "\n",
    "my_df = pd.DataFrame({'A': [1, 2, 3, 4, 5], 'B': [10, 20, 30, 40, 50]})\n",
    "\n",
    "print(my_df.head(3))\n",
    "print()\n",
    "print(my_df.tail(2))"
   ]
  },
  {
   "cell_type": "markdown",
   "id": "a2250cdd-3066-463d-9b33-1fee9b9de7fe",
   "metadata": {},
   "source": [
    "2. describe(): This function generates descriptive statistics for the DataFrame."
   ]
  },
  {
   "cell_type": "code",
   "execution_count": 19,
   "id": "223e1691-c9e7-460c-9991-b3ee15d64528",
   "metadata": {},
   "outputs": [
    {
     "name": "stdout",
     "output_type": "stream",
     "text": [
      "              A          B\n",
      "count  5.000000   5.000000\n",
      "mean   3.000000  30.000000\n",
      "std    1.581139  15.811388\n",
      "min    1.000000  10.000000\n",
      "25%    2.000000  20.000000\n",
      "50%    3.000000  30.000000\n",
      "75%    4.000000  40.000000\n",
      "max    5.000000  50.000000\n"
     ]
    }
   ],
   "source": [
    "import pandas as pd\n",
    "my_df = pd.DataFrame({'A': [1, 2, 3, 4, 5], 'B': [10, 20, 30, 40, 50]})\n",
    "print(my_df.describe())"
   ]
  },
  {
   "cell_type": "markdown",
   "id": "9cac8623-c5e4-4577-a877-937899c20965",
   "metadata": {},
   "source": [
    "3. loc[] and iloc[]: These functions are used to slice and select data from a DataFrame. loc[] is used to select rows and columns by label, while iloc[] is used to select rows and columns by integer index."
   ]
  },
  {
   "cell_type": "code",
   "execution_count": 23,
   "id": "2bfb7368-5736-41ec-8ac8-880c34bff895",
   "metadata": {},
   "outputs": [
    {
     "name": "stdout",
     "output_type": "stream",
     "text": [
      "   A   B\n",
      "0  1  10\n",
      "1  2  20\n",
      "2  3  30\n",
      "3  4  40\n",
      "4  5  50\n",
      "\n",
      "0    10\n",
      "1    20\n",
      "Name: B, dtype: int64\n",
      "2    3\n",
      "3    4\n",
      "4    5\n",
      "Name: A, dtype: int64\n"
     ]
    }
   ],
   "source": [
    "import pandas as pd\n",
    "my_df = pd.DataFrame({'A': [1, 2, 3, 4, 5], 'B': [10, 20, 30, 40, 50]})\n",
    "print(my_df)\n",
    "print()\n",
    "\n",
    "# select the first two rows and the 'B' column using loc[]\n",
    "print(my_df.loc[:1, 'B'])\n",
    "# select the last three rows and the first column using iloc[]\n",
    "print(my_df.iloc[-3:, 0])"
   ]
  },
  {
   "cell_type": "markdown",
   "id": "3aa783b4-3aa0-4f91-b3b0-99a3ea7572d1",
   "metadata": {},
   "source": [
    "### Q6. Which of the following is mutable in nature Series, DataFrame, Panel?"
   ]
  },
  {
   "cell_type": "markdown",
   "id": "1544e3db-6f24-43c8-9955-c332c09e894b",
   "metadata": {},
   "source": [
    "Among the three objects, both Series and DataFrame are mutable in nature. This means that their values can be modified after creation using methods such as loc[] or iloc[], or by assigning new values to specific rows or columns.\n",
    "\n",
    "On the other hand, Panel is no longer available in pandas 1.0. Instead, pandas recommends using MultiIndex instead, which is also mutable."
   ]
  },
  {
   "cell_type": "markdown",
   "id": "78fa6f36-6a61-4b98-b6c6-923d0c034a4e",
   "metadata": {},
   "source": [
    "### Q7. Create a DataFrame using multiple Series. Explain with an example."
   ]
  },
  {
   "cell_type": "code",
   "execution_count": 15,
   "id": "258c9b35-3938-4f4f-ad3d-469d7ce1143f",
   "metadata": {},
   "outputs": [
    {
     "name": "stdout",
     "output_type": "stream",
     "text": [
      "     Name  Age  Gender\n",
      "0   Alice   25  Female\n",
      "1     Bob   30    Male\n",
      "2  Claire   27  Female\n"
     ]
    }
   ],
   "source": [
    "import pandas as pd\n",
    "\n",
    "name = pd.Series(['Alice', 'Bob', 'Claire'])\n",
    "age = pd.Series([25, 30, 27])\n",
    "gender = pd.Series(['Female', 'Male', 'Female'])\n",
    "\n",
    "df = pd.DataFrame({'Name': name, 'Age': age, 'Gender': gender})\n",
    "\n",
    "print(df)\n"
   ]
  }
 ],
 "metadata": {
  "kernelspec": {
   "display_name": "Python 3 (ipykernel)",
   "language": "python",
   "name": "python3"
  },
  "language_info": {
   "codemirror_mode": {
    "name": "ipython",
    "version": 3
   },
   "file_extension": ".py",
   "mimetype": "text/x-python",
   "name": "python",
   "nbconvert_exporter": "python",
   "pygments_lexer": "ipython3",
   "version": "3.10.8"
  }
 },
 "nbformat": 4,
 "nbformat_minor": 5
}
