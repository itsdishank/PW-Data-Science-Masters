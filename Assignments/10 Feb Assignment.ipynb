{
 "cells": [
  {
   "cell_type": "markdown",
   "id": "a5a0b440-d010-4f20-bfb9-951893ba9007",
   "metadata": {},
   "source": [
    "### Q1. Which function is used to open a file? What are the different modes of opening a file? Explain each mode of file opening."
   ]
  },
  {
   "cell_type": "markdown",
   "id": "baf10876-d277-4aae-9d9c-7ab147a94271",
   "metadata": {},
   "source": [
    "The open() function is used to open a file in Python. The open() function takes two arguments: the file name and the mode in which the file is to be opened.\n",
    "\n",
    "The different modes of opening a file are:\n",
    "\n",
    "1. 'r' (read-only mode):\n",
    "\t\n",
    "    This is the default mode in which a file is opened. In this mode, you can only read the contents of the file, but you cannot modify the contents of the file.\n",
    "\n",
    "2. 'w' (write mode): \n",
    "\n",
    "\tIn this mode, you can write to the file, but if the file already exists, its contents will be truncated. If the file does not exist, a new file with the given name will be created.\n",
    "\n",
    "3. 'a' (append mode):\n",
    "\n",
    "\tIn this mode, you can write to the file, but the new data will be appended to the end of the file. If the file does not exist, a new file with the given name will be created.\n",
    "\n",
    "4. 'x' (exclusive creation mode):\n",
    "\n",
    "\tIn this mode, a new file is created, but if the file already exists, the operation will fail, and an error will be raised.\n",
    "\n",
    "5. 'b' (binary mode): \n",
    "\n",
    "\tIn this mode, the file is treated as a binary file and not a text file. Binary mode is used to read or write binary files.\n",
    "\n",
    "6. 't' (text mode): \n",
    "\n",
    "\tIn this mode, the file is treated as a text file and not a binary file. Text mode is the default mode for the open() function."
   ]
  },
  {
   "cell_type": "markdown",
   "id": "ed36c9aa-74cb-4f7c-8ee0-b24379002753",
   "metadata": {},
   "source": [
    "### Q2. Why close() function is used? Why is it important to close a file?"
   ]
  },
  {
   "cell_type": "markdown",
   "id": "1956c599-ca8d-4209-97fe-90eed42a5f09",
   "metadata": {},
   "source": [
    "The close() function is used to close a file in Python. When you open a file in Python, a connection is established between the file and your program, and the file is locked for exclusive access by your program. When you are done with the file, you should close the file to release the lock and terminate the connection between the file and your program.\n",
    "\n",
    "It's important to close a file in Python because it frees up resources, ensures that any changes you made to the file are saved, and helps to avoid resource exhaustion and other issues.\n"
   ]
  },
  {
   "cell_type": "markdown",
   "id": "ce6c7ff1-37b8-45ef-b066-4230c48a66ba",
   "metadata": {},
   "source": [
    "### Q3. Write a python program to create a text file. Write ‘I want to become a Data Scientist’ in that file. Then close the file. Open this file and read the content of the file."
   ]
  },
  {
   "cell_type": "code",
   "execution_count": 23,
   "id": "97db8944-9aff-4f1c-a822-9862407b3ead",
   "metadata": {},
   "outputs": [
    {
     "name": "stdout",
     "output_type": "stream",
     "text": [
      "I want to become a Data Scientist\n"
     ]
    }
   ],
   "source": [
    "file = open(\"data_scientist.txt\", \"w\")\n",
    "file.write(\"I want to become a Data Scientist\")\n",
    "file.close()\n",
    "\n",
    "file = open(\"data_scientist.txt\", \"r\")\n",
    "content = file.read()\n",
    "print(content)\n",
    "file.close()\n"
   ]
  },
  {
   "cell_type": "markdown",
   "id": "9d7ce350-4346-446f-9c23-fa79298e682b",
   "metadata": {},
   "source": [
    "### Q4. Explain the following with python code: read(), readline() and readlines()."
   ]
  },
  {
   "cell_type": "markdown",
   "id": "6c1ec682-e376-4d48-9c54-e77edce4b7ee",
   "metadata": {},
   "source": [
    "1. read():\n",
    "\n",
    "\tThe read() method reads the entire contents of a file and returns it as a single string. Here is an example:"
   ]
  },
  {
   "cell_type": "code",
   "execution_count": 24,
   "id": "2d0397e1-0f24-4883-bbbe-61acb2e89778",
   "metadata": {},
   "outputs": [
    {
     "name": "stdout",
     "output_type": "stream",
     "text": [
      "Lorem Ipsum is simply dummy text of the printing and typesetting industry.\n",
      "Lorem Ipsum has been the industry's standard dummy text ever since the 1500s, when an unknown printer took a galley of type and scrambled it to make a type specimen book.\n",
      "It has survived not only five centuries, but also the leap into electronic typesetting, remaining essentially unchanged. It was popularised in the 1960s with the release of Letraset sheets containing Lorem Ipsum passages, and more recently with desktop publishing software like Aldus PageMaker including versions of Lorem Ipsum.\n"
     ]
    }
   ],
   "source": [
    "file = open(\"sample.txt\", \"r\")\n",
    "contents = file.read()\n",
    "print(contents)\n",
    "file.close()"
   ]
  },
  {
   "cell_type": "markdown",
   "id": "2753a082-c038-47a1-9d26-72296c26d015",
   "metadata": {},
   "source": [
    "2. readline(): \n",
    "\t\n",
    "    The readline() method reads a single line of the file and returns it as a string. Here is an example:"
   ]
  },
  {
   "cell_type": "code",
   "execution_count": 25,
   "id": "88bbe3ce-4df7-4408-b623-650289f01e5b",
   "metadata": {},
   "outputs": [
    {
     "name": "stdout",
     "output_type": "stream",
     "text": [
      "Lorem Ipsum is simply dummy text of the printing and typesetting industry.\n",
      "\n"
     ]
    }
   ],
   "source": [
    "file = open(\"sample.txt\", \"r\")\n",
    "line = file.readline()\n",
    "print(line)\n",
    "file.close()\n"
   ]
  },
  {
   "cell_type": "markdown",
   "id": "3eb1e2c6-995e-40ba-83d1-c8d59407b353",
   "metadata": {},
   "source": [
    "3. readlines(): \n",
    "\n",
    "\tThe readlines() method reads the entire contents of the file and returns it as a list of strings, where each element of the list represents a single line of the file. Here is an example:"
   ]
  },
  {
   "cell_type": "code",
   "execution_count": 26,
   "id": "20e4b513-1692-4e96-a4f1-b4614793309a",
   "metadata": {},
   "outputs": [
    {
     "name": "stdout",
     "output_type": "stream",
     "text": [
      "['Lorem Ipsum is simply dummy text of the printing and typesetting industry.\\n', \"Lorem Ipsum has been the industry's standard dummy text ever since the 1500s, when an unknown printer took a galley of type and scrambled it to make a type specimen book.\\n\", 'It has survived not only five centuries, but also the leap into electronic typesetting, remaining essentially unchanged. It was popularised in the 1960s with the release of Letraset sheets containing Lorem Ipsum passages, and more recently with desktop publishing software like Aldus PageMaker including versions of Lorem Ipsum.']\n"
     ]
    }
   ],
   "source": [
    "file = open(\"sample.txt\", \"r\")\n",
    "lines = file.readlines()\n",
    "print(lines)\n",
    "file.close()\n"
   ]
  },
  {
   "cell_type": "markdown",
   "id": "885fbf66-f67a-4dfc-91f7-b9d40daef1e9",
   "metadata": {},
   "source": [
    "### Q5. Explain why with statement is used with open(). What is the advantage of using with statement and open() together?"
   ]
  },
  {
   "cell_type": "markdown",
   "id": "0f3f3faf-a80f-41d7-8f4a-9fc8f279a57a",
   "metadata": {},
   "source": [
    "The with statement is used in Python to ensure that resources are properly managed, even in the presence of exceptions. When you use the with statement with the open() function, it ensures that the file is properly closed, even if an exception is raised while working with the file.\n",
    "\n",
    "using the with statement with the open() function has the advantage of making your code more readable and easier to maintain. By using the with statement, you can ensure that the file is properly closed, without having to remember to do so explicitly. This can help to make your code more readable and easier to maintain, especially in large applications with many files."
   ]
  },
  {
   "cell_type": "markdown",
   "id": "a6b458c0-4a73-4223-b2a8-f8674c684f74",
   "metadata": {},
   "source": [
    "### Q6. Explain the write() and writelines() functions. Give a suitable example."
   ]
  },
  {
   "cell_type": "markdown",
   "id": "a6290097-3c58-47bf-8027-35363d1d9bda",
   "metadata": {},
   "source": [
    "1. write():\n",
    "\n",
    "\tThe write() function is used to write a single string to a text file. Here is an example:"
   ]
  },
  {
   "cell_type": "code",
   "execution_count": 27,
   "id": "9bd7af50-8253-40f4-b784-189af6fd0116",
   "metadata": {},
   "outputs": [],
   "source": [
    "file = open(\"sample.txt\", \"w\")\n",
    "file.write(\"Hello, world!\")\n",
    "file.close()"
   ]
  },
  {
   "cell_type": "markdown",
   "id": "84cef568-7325-48cd-bc79-6a693b586d6c",
   "metadata": {},
   "source": [
    "2. writelines():\n",
    "    \n",
    "    The writelines() function is used to write multiple strings to a text file, where each string is written as a separate line. Here is an example:"
   ]
  },
  {
   "cell_type": "code",
   "execution_count": 28,
   "id": "11139db9-7085-4d67-8c8e-87273ccfef65",
   "metadata": {},
   "outputs": [],
   "source": [
    "file = open(\"sample.txt\", \"w\")\n",
    "file.writelines([\"Line 1\\n\", \"Line 2\\n\", \"Line 3\\n\"])\n",
    "file.close()"
   ]
  }
 ],
 "metadata": {
  "kernelspec": {
   "display_name": "Python 3 (ipykernel)",
   "language": "python",
   "name": "python3"
  },
  "language_info": {
   "codemirror_mode": {
    "name": "ipython",
    "version": 3
   },
   "file_extension": ".py",
   "mimetype": "text/x-python",
   "name": "python",
   "nbconvert_exporter": "python",
   "pygments_lexer": "ipython3",
   "version": "3.10.8"
  }
 },
 "nbformat": 4,
 "nbformat_minor": 5
}
